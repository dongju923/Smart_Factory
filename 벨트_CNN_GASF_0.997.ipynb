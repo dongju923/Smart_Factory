{
 "cells": [
  {
   "cell_type": "markdown",
   "id": "480349eb",
   "metadata": {},
   "source": [
    "# 모듈 임포트"
   ]
  },
  {
   "cell_type": "code",
   "execution_count": 1,
   "id": "6719ddf1",
   "metadata": {},
   "outputs": [],
   "source": [
    "import pandas as pd\n",
    "import numpy as np\n",
    "import os\n",
    "import matplotlib.pyplot as plt\n",
    "from mpl_toolkits.axes_grid1 import ImageGrid\n",
    "from pyts.image import GramianAngularField\n",
    "from glob import glob"
   ]
  },
  {
   "cell_type": "markdown",
   "id": "10a3a45a",
   "metadata": {},
   "source": [
    "# 폴더경로 가져오기"
   ]
  },
  {
   "cell_type": "code",
   "execution_count": 2,
   "id": "93d271d3",
   "metadata": {},
   "outputs": [],
   "source": [
    "normal_path = \"기계시설물고장예지/current/2.2kW/R-EF-05/정상\"\n",
    "abnormal_path = \"기계시설물고장예지/current/2.2kW/R-EF-05/벨트느슨함\""
   ]
  },
  {
   "cell_type": "markdown",
   "id": "75ca7d9e",
   "metadata": {},
   "source": [
    "# 폴더 내 csv파일 추출"
   ]
  },
  {
   "cell_type": "code",
   "execution_count": 3,
   "id": "f579387c",
   "metadata": {},
   "outputs": [
    {
     "name": "stdout",
     "output_type": "stream",
     "text": [
      "65\n",
      "186\n"
     ]
    }
   ],
   "source": [
    "# 정상\n",
    "normal_files = []\n",
    "filelist = sorted(glob(f'{normal_path}/*.csv')) \n",
    "for file in filelist:\n",
    "    normal_files.append(file)\n",
    "print(len(normal_files))\n",
    "\n",
    "# 비정상\n",
    "abnormal_files = []\n",
    "filelist = sorted(glob(f'{abnormal_path}/*.csv')) \n",
    "for file in filelist:\n",
    "    abnormal_files.append(file)\n",
    "print(len(abnormal_files))"
   ]
  },
  {
   "cell_type": "markdown",
   "id": "fd11420f",
   "metadata": {},
   "source": [
    "# 데이터 전처리"
   ]
  },
  {
   "cell_type": "code",
   "execution_count": 4,
   "id": "3db72fe7",
   "metadata": {
    "scrolled": false
   },
   "outputs": [],
   "source": [
    "# 정상\n",
    "normal_list_of_df = [pd.read_csv(file,    # 파일명 설정\n",
    "                 encoding='utf-8',                                      # csv 파일 인코딩 방식 설정\n",
    "                 header=None,                                           # 헤더 없음 설정\n",
    "                 names=['Time', 'R', 'S', 'T', 'e'],                    # 열 이름 설정\n",
    "                 skiprows=9) for file in normal_files]\n",
    "\n",
    "# 비정상\n",
    "abnormal_list_of_df = [pd.read_csv(file,    # 파일명 설정\n",
    "                 encoding='utf-8',                                      # csv 파일 인코딩 방식 설정\n",
    "                 header=None,                                           # 헤더 없음 설정\n",
    "                 names=['Time', 'R', 'S', 'T', 'e'],                    # 열 이름 설정\n",
    "                 skiprows=9) for file in abnormal_files]"
   ]
  },
  {
   "cell_type": "code",
   "execution_count": 5,
   "id": "5f70c4c5",
   "metadata": {
    "scrolled": false
   },
   "outputs": [
    {
     "name": "stdout",
     "output_type": "stream",
     "text": [
      "65\n",
      "186\n"
     ]
    }
   ],
   "source": [
    "# 정상\n",
    "normal_df_list = []\n",
    "for i in normal_list_of_df:\n",
    "    df = i.drop('e', axis=1)                                          \n",
    "    df1 = df.set_index('Time')\n",
    "    normal_df_list.append(df1)\n",
    "\n",
    "# 비정상\n",
    "abnormal_df_list = []\n",
    "for i in abnormal_list_of_df:\n",
    "    df = i.drop('e', axis=1)                                          \n",
    "    df1 = df.set_index('Time')\n",
    "    abnormal_df_list.append(df1)\n",
    "    \n",
    "print(len(normal_df_list))\n",
    "print(len(abnormal_df_list))\n"
   ]
  },
  {
   "cell_type": "markdown",
   "id": "48ba4aa0",
   "metadata": {},
   "source": [
    "# 전처리된 데이터를 하나로 합침"
   ]
  },
  {
   "cell_type": "code",
   "execution_count": 6,
   "id": "4b515bb7",
   "metadata": {},
   "outputs": [
    {
     "name": "stdout",
     "output_type": "stream",
     "text": [
      "(130000, 3)\n",
      "(372000, 3)\n"
     ]
    }
   ],
   "source": [
    "# 정상 concat\n",
    "normal_concat = pd.concat(normal_df_list)\n",
    "print(normal_concat.shape)\n",
    "# 비정상 concat\n",
    "abnormal_concat = pd.concat(abnormal_df_list)\n",
    "print(abnormal_concat.shape)"
   ]
  },
  {
   "cell_type": "markdown",
   "id": "940b55bd",
   "metadata": {},
   "source": [
    "# 데이터 이미지화(정상)"
   ]
  },
  {
   "cell_type": "code",
   "execution_count": 7,
   "id": "a35b2737",
   "metadata": {},
   "outputs": [
    {
     "name": "stdout",
     "output_type": "stream",
     "text": [
      "(130000, 3)\n",
      "(2600, 50, 3)\n"
     ]
    }
   ],
   "source": [
    "# 정상\n",
    "normal_value = normal_concat.values\n",
    "print(normal_value.shape)\n",
    "nv = np.array(np.vsplit(normal_value, 2600))\n",
    "print(nv.shape)\n"
   ]
  },
  {
   "cell_type": "code",
   "execution_count": 8,
   "id": "aba1a880",
   "metadata": {
    "scrolled": true
   },
   "outputs": [
    {
     "name": "stdout",
     "output_type": "stream",
     "text": [
      "(2600, 50, 50, 3)\n"
     ]
    }
   ],
   "source": [
    "arr = []\n",
    "for value in nv:\n",
    "    gaf = GramianAngularField(method='summation')\n",
    "    X_gaf = gaf.fit_transform(value.T)\n",
    "    arr.append(X_gaf.T)\n",
    "\n",
    "    \n",
    "normal_X = np.array(arr)\n",
    "print(normal_X.shape)"
   ]
  },
  {
   "cell_type": "markdown",
   "id": "6a79cddb",
   "metadata": {},
   "source": [
    "# 데이터 이미지화(비정상)"
   ]
  },
  {
   "cell_type": "code",
   "execution_count": 10,
   "id": "34f15362",
   "metadata": {},
   "outputs": [
    {
     "name": "stdout",
     "output_type": "stream",
     "text": [
      "7440 50 3\n"
     ]
    }
   ],
   "source": [
    "abnormal_value = abnormal_concat.values\n",
    "anv = np.vsplit(abnormal_value, 7440)\n",
    "a = len(anv)\n",
    "b = len(anv[0])\n",
    "c = len(anv[0][0])\n",
    "print(a,b,c)"
   ]
  },
  {
   "cell_type": "code",
   "execution_count": 11,
   "id": "3fdad882",
   "metadata": {},
   "outputs": [
    {
     "name": "stdout",
     "output_type": "stream",
     "text": [
      "(7440, 50, 50, 3)\n"
     ]
    }
   ],
   "source": [
    "arr = []\n",
    "for value in anv:\n",
    "    gaf = GramianAngularField(method='summation')\n",
    "    X_gaf = gaf.fit_transform(value.T)\n",
    "    arr.append(X_gaf.T)\n",
    "\n",
    "abnormal_X = np.array(arr)\n",
    "print(abnormal_X.shape)"
   ]
  },
  {
   "cell_type": "markdown",
   "id": "a3e19e5e",
   "metadata": {},
   "source": [
    "# 데이터 라벨링"
   ]
  },
  {
   "cell_type": "code",
   "execution_count": 12,
   "id": "dc2b67f8",
   "metadata": {},
   "outputs": [
    {
     "name": "stdout",
     "output_type": "stream",
     "text": [
      "(2600, 1)\n",
      "(7440, 1)\n",
      "(10040, 50, 50, 3)\n",
      "(10040, 1)\n"
     ]
    }
   ],
   "source": [
    "# 라벨링, 정상: 0, 비정상: 1\n",
    "normal_Y = np.zeros((normal_X.shape[0], 1))\n",
    "abnormal_Y = np.ones((abnormal_X.shape[0], 1))\n",
    "\n",
    "print(normal_Y.shape)\n",
    "print(abnormal_Y.shape)\n",
    "\n",
    "# X, Y 끼리 concatenate\n",
    "X = np.concatenate((normal_X,abnormal_X))\n",
    "Y = np.concatenate((normal_Y,abnormal_Y))\n",
    "print(X.shape)\n",
    "print(Y.shape)"
   ]
  },
  {
   "cell_type": "markdown",
   "id": "3b9bac41",
   "metadata": {},
   "source": [
    "# 훈련 세트 설정"
   ]
  },
  {
   "cell_type": "code",
   "execution_count": 13,
   "id": "7a01c4df",
   "metadata": {},
   "outputs": [
    {
     "name": "stdout",
     "output_type": "stream",
     "text": [
      "(7028, 50, 50, 3)\n",
      "(2409, 50, 50, 3)\n",
      "(603, 50, 50, 3)\n",
      "(7028, 1)\n",
      "(2409, 1)\n",
      "(603, 1)\n"
     ]
    }
   ],
   "source": [
    "from sklearn.model_selection import train_test_split\n",
    "x_train, x_test, y_train, y_test = train_test_split(X, Y, test_size=0.3, shuffle=True, stratify=Y, random_state=50)\n",
    "x_test, x_val, y_test, y_val = train_test_split(x_test, y_test, test_size=0.2, shuffle=True, stratify=y_test, random_state=50)\n",
    "\n",
    "print(x_train.shape)\n",
    "print(x_test.shape)\n",
    "print(x_val.shape)\n",
    "print(y_train.shape)\n",
    "print(y_test.shape)\n",
    "print(y_val.shape)"
   ]
  },
  {
   "cell_type": "markdown",
   "id": "1edc1826",
   "metadata": {},
   "source": [
    "# 정규화"
   ]
  },
  {
   "cell_type": "code",
   "execution_count": 14,
   "id": "a8c9d578",
   "metadata": {},
   "outputs": [
    {
     "name": "stdout",
     "output_type": "stream",
     "text": [
      "(7028, 50, 50, 3)\n",
      "(2409, 50, 50, 3)\n",
      "(603, 50, 50, 3)\n"
     ]
    }
   ],
   "source": [
    "# 정규화\n",
    "x_train = (x_train - np.min(x_train)) / (np.max(x_train)- np.min(x_train))\n",
    "x_test = (x_test - np.min(x_test)) / (np.max(x_test)- np.min(x_test))\n",
    "x_val = (x_val - np.min(x_val)) / (np.max(x_val)- np.min(x_val))\n",
    "\n",
    "print(x_train.shape)\n",
    "print(x_test.shape)\n",
    "print(x_val.shape)"
   ]
  },
  {
   "cell_type": "markdown",
   "id": "afee4c5a",
   "metadata": {},
   "source": [
    "# 학습에 필요한 모듈 임포트"
   ]
  },
  {
   "cell_type": "code",
   "execution_count": 15,
   "id": "22ef4d62",
   "metadata": {},
   "outputs": [
    {
     "name": "stderr",
     "output_type": "stream",
     "text": [
      "2022-03-03 12:03:52.964223: I tensorflow/stream_executor/platform/default/dso_loader.cc:53] Successfully opened dynamic library libcudart.so.11.0\n"
     ]
    }
   ],
   "source": [
    "import tensorflow as tf\n",
    "plt.style.use('seaborn-white')\n",
    "from tensorflow.keras import Model\n",
    "from tensorflow.keras.models import Sequential\n",
    "from tensorflow.keras.utils import to_categorical\n",
    "from tensorflow.keras.layers import Dense, Flatten, Conv2D, MaxPool2D, Dropout, Input\n",
    "from tensorflow.keras.callbacks import EarlyStopping, ModelCheckpoint"
   ]
  },
  {
   "cell_type": "code",
   "execution_count": 16,
   "id": "a8fa8a9c",
   "metadata": {},
   "outputs": [],
   "source": [
    "os.environ['CUDA_VISIBLE_DEVICES'] = '0'"
   ]
  },
  {
   "cell_type": "markdown",
   "id": "d27fa2e1",
   "metadata": {},
   "source": [
    "# 모델구성"
   ]
  },
  {
   "cell_type": "code",
   "execution_count": 17,
   "id": "2d5c4a3b",
   "metadata": {},
   "outputs": [
    {
     "name": "stderr",
     "output_type": "stream",
     "text": [
      "2022-03-03 12:03:53.648656: I tensorflow/stream_executor/platform/default/dso_loader.cc:53] Successfully opened dynamic library libcuda.so.1\n",
      "2022-03-03 12:03:53.691210: I tensorflow/core/common_runtime/gpu/gpu_device.cc:1733] Found device 0 with properties: \n",
      "pciBusID: 0000:17:00.0 name: NVIDIA GeForce RTX 3090 computeCapability: 8.6\n",
      "coreClock: 1.695GHz coreCount: 82 deviceMemorySize: 23.70GiB deviceMemoryBandwidth: 871.81GiB/s\n",
      "2022-03-03 12:03:53.691249: I tensorflow/stream_executor/platform/default/dso_loader.cc:53] Successfully opened dynamic library libcudart.so.11.0\n",
      "2022-03-03 12:03:53.693179: I tensorflow/stream_executor/platform/default/dso_loader.cc:53] Successfully opened dynamic library libcublas.so.11\n",
      "2022-03-03 12:03:53.693242: I tensorflow/stream_executor/platform/default/dso_loader.cc:53] Successfully opened dynamic library libcublasLt.so.11\n",
      "2022-03-03 12:03:53.693860: I tensorflow/stream_executor/platform/default/dso_loader.cc:53] Successfully opened dynamic library libcufft.so.10\n",
      "2022-03-03 12:03:53.694053: I tensorflow/stream_executor/platform/default/dso_loader.cc:53] Successfully opened dynamic library libcurand.so.10\n",
      "2022-03-03 12:03:53.695946: I tensorflow/stream_executor/platform/default/dso_loader.cc:53] Successfully opened dynamic library libcusolver.so.11\n",
      "2022-03-03 12:03:53.696413: I tensorflow/stream_executor/platform/default/dso_loader.cc:53] Successfully opened dynamic library libcusparse.so.11\n",
      "2022-03-03 12:03:53.696524: I tensorflow/stream_executor/platform/default/dso_loader.cc:53] Successfully opened dynamic library libcudnn.so.8\n",
      "2022-03-03 12:03:53.697451: I tensorflow/core/common_runtime/gpu/gpu_device.cc:1871] Adding visible gpu devices: 0\n",
      "2022-03-03 12:03:53.697769: I tensorflow/core/platform/cpu_feature_guard.cc:142] This TensorFlow binary is optimized with oneAPI Deep Neural Network Library (oneDNN) to use the following CPU instructions in performance-critical operations:  AVX2 AVX512F FMA\n",
      "To enable them in other operations, rebuild TensorFlow with the appropriate compiler flags.\n",
      "2022-03-03 12:03:53.698734: I tensorflow/core/common_runtime/gpu/gpu_device.cc:1733] Found device 0 with properties: \n",
      "pciBusID: 0000:17:00.0 name: NVIDIA GeForce RTX 3090 computeCapability: 8.6\n",
      "coreClock: 1.695GHz coreCount: 82 deviceMemorySize: 23.70GiB deviceMemoryBandwidth: 871.81GiB/s\n",
      "2022-03-03 12:03:53.699561: I tensorflow/core/common_runtime/gpu/gpu_device.cc:1871] Adding visible gpu devices: 0\n",
      "2022-03-03 12:03:53.699597: I tensorflow/stream_executor/platform/default/dso_loader.cc:53] Successfully opened dynamic library libcudart.so.11.0\n",
      "2022-03-03 12:03:54.068165: I tensorflow/core/common_runtime/gpu/gpu_device.cc:1258] Device interconnect StreamExecutor with strength 1 edge matrix:\n",
      "2022-03-03 12:03:54.068193: I tensorflow/core/common_runtime/gpu/gpu_device.cc:1264]      0 \n",
      "2022-03-03 12:03:54.068198: I tensorflow/core/common_runtime/gpu/gpu_device.cc:1277] 0:   N \n",
      "2022-03-03 12:03:54.069637: I tensorflow/core/common_runtime/gpu/gpu_device.cc:1418] Created TensorFlow device (/job:localhost/replica:0/task:0/device:GPU:0 with 11699 MB memory) -> physical GPU (device: 0, name: NVIDIA GeForce RTX 3090, pci bus id: 0000:17:00.0, compute capability: 8.6)\n"
     ]
    }
   ],
   "source": [
    "model = Sequential() \n",
    "model.add(Conv2D(32, (3,3), input_shape=(50,50,3), activation='relu', padding='same'))        \n",
    "model.add(Conv2D(64, (3,3), activation='relu', padding='same'))\n",
    "model.add(MaxPool2D(pool_size=(2,2)))\n",
    "model.add(Dropout(0.5))\n",
    "model.add(Flatten())\n",
    "model.add(Dense(256, activation='relu'))\n",
    "model.add(Dropout(0.5))\n",
    "model.add(Dense(1, activation='sigmoid'))\n",
    "\n",
    "model.compile(loss='binary_crossentropy', optimizer='adam', metrics=['accuracy'])\n",
    "early_stopping = EarlyStopping(monitor='loss', mode='min', patience=20)\n",
    "mc = ModelCheckpoint('best_model.h5', monitor='val_loss', mode='min', save_best_only=True)\n"
   ]
  },
  {
   "cell_type": "markdown",
   "id": "ac5c7955",
   "metadata": {},
   "source": [
    "# 모델 학습"
   ]
  },
  {
   "cell_type": "code",
   "execution_count": 18,
   "id": "17e456f3",
   "metadata": {},
   "outputs": [
    {
     "name": "stderr",
     "output_type": "stream",
     "text": [
      "2022-03-03 12:03:54.398393: I tensorflow/compiler/mlir/mlir_graph_optimization_pass.cc:176] None of the MLIR Optimization Passes are enabled (registered 2)\n",
      "2022-03-03 12:03:54.418735: I tensorflow/core/platform/profile_utils/cpu_utils.cc:114] CPU Frequency: 4099895000 Hz\n"
     ]
    },
    {
     "name": "stdout",
     "output_type": "stream",
     "text": [
      "Epoch 1/1000\n"
     ]
    },
    {
     "name": "stderr",
     "output_type": "stream",
     "text": [
      "2022-03-03 12:03:54.852323: I tensorflow/stream_executor/platform/default/dso_loader.cc:53] Successfully opened dynamic library libcudnn.so.8\n",
      "2022-03-03 12:03:55.386702: I tensorflow/stream_executor/cuda/cuda_dnn.cc:359] Loaded cuDNN version 8201\n",
      "2022-03-03 12:03:56.163808: E tensorflow/core/platform/default/subprocess.cc:304] Start cannot spawn child process: No such file or directory\n",
      "2022-03-03 12:03:56.163847: W tensorflow/stream_executor/gpu/asm_compiler.cc:56] Couldn't invoke ptxas --version\n",
      "2022-03-03 12:03:56.164412: E tensorflow/core/platform/default/subprocess.cc:304] Start cannot spawn child process: No such file or directory\n",
      "2022-03-03 12:03:56.164501: W tensorflow/stream_executor/gpu/redzone_allocator.cc:314] Internal: Failed to launch ptxas\n",
      "Relying on driver to perform ptx compilation. \n",
      "Modify $PATH to customize ptxas location.\n",
      "This message will be only logged once.\n",
      "2022-03-03 12:03:56.175166: I tensorflow/stream_executor/platform/default/dso_loader.cc:53] Successfully opened dynamic library libcublas.so.11\n",
      "2022-03-03 12:03:56.677797: I tensorflow/stream_executor/platform/default/dso_loader.cc:53] Successfully opened dynamic library libcublasLt.so.11\n",
      "2022-03-03 12:03:56.696303: I tensorflow/stream_executor/cuda/cuda_blas.cc:1838] TensorFloat-32 will be used for the matrix multiplication. This will only be logged once.\n"
     ]
    },
    {
     "name": "stdout",
     "output_type": "stream",
     "text": [
      "220/220 [==============================] - 4s 5ms/step - loss: 0.5149 - accuracy: 0.7594 - val_loss: 0.2734 - val_accuracy: 0.8872\n",
      "Epoch 2/1000\n",
      "220/220 [==============================] - 1s 4ms/step - loss: 0.1285 - accuracy: 0.9536 - val_loss: 0.0796 - val_accuracy: 0.9635\n",
      "Epoch 3/1000\n",
      "220/220 [==============================] - 1s 4ms/step - loss: 0.0662 - accuracy: 0.9772 - val_loss: 0.0338 - val_accuracy: 0.9867\n",
      "Epoch 4/1000\n",
      "220/220 [==============================] - 1s 4ms/step - loss: 0.0496 - accuracy: 0.9822 - val_loss: 0.0278 - val_accuracy: 0.9884\n",
      "Epoch 5/1000\n",
      "220/220 [==============================] - 1s 4ms/step - loss: 0.0395 - accuracy: 0.9859 - val_loss: 0.0108 - val_accuracy: 0.9967\n",
      "Epoch 6/1000\n",
      "220/220 [==============================] - 1s 4ms/step - loss: 0.0322 - accuracy: 0.9903 - val_loss: 0.0295 - val_accuracy: 0.9950\n",
      "Epoch 7/1000\n",
      "220/220 [==============================] - 1s 4ms/step - loss: 0.0404 - accuracy: 0.9862 - val_loss: 0.0129 - val_accuracy: 0.9950\n",
      "Epoch 8/1000\n",
      "220/220 [==============================] - 1s 4ms/step - loss: 0.0315 - accuracy: 0.9895 - val_loss: 0.0328 - val_accuracy: 0.9867\n",
      "Epoch 9/1000\n",
      "220/220 [==============================] - 1s 4ms/step - loss: 0.0274 - accuracy: 0.9899 - val_loss: 0.0200 - val_accuracy: 0.9917\n",
      "Epoch 10/1000\n",
      "220/220 [==============================] - 1s 4ms/step - loss: 0.0280 - accuracy: 0.9896 - val_loss: 0.0217 - val_accuracy: 0.9917\n",
      "Epoch 11/1000\n",
      "220/220 [==============================] - 1s 4ms/step - loss: 0.0235 - accuracy: 0.9909 - val_loss: 0.0077 - val_accuracy: 0.9967\n",
      "Epoch 12/1000\n",
      "220/220 [==============================] - 1s 4ms/step - loss: 0.0188 - accuracy: 0.9933 - val_loss: 0.0115 - val_accuracy: 0.9950\n",
      "Epoch 13/1000\n",
      "220/220 [==============================] - 1s 4ms/step - loss: 0.0207 - accuracy: 0.9917 - val_loss: 0.0092 - val_accuracy: 0.9983\n",
      "Epoch 14/1000\n",
      "220/220 [==============================] - 1s 4ms/step - loss: 0.0175 - accuracy: 0.9929 - val_loss: 0.0106 - val_accuracy: 0.9967\n",
      "Epoch 15/1000\n",
      "220/220 [==============================] - 1s 4ms/step - loss: 0.0178 - accuracy: 0.9937 - val_loss: 0.0068 - val_accuracy: 0.9983\n",
      "Epoch 16/1000\n",
      "220/220 [==============================] - 1s 4ms/step - loss: 0.0184 - accuracy: 0.9933 - val_loss: 0.0034 - val_accuracy: 1.0000\n",
      "Epoch 17/1000\n",
      "220/220 [==============================] - 1s 4ms/step - loss: 0.0171 - accuracy: 0.9943 - val_loss: 0.0205 - val_accuracy: 0.9917\n",
      "Epoch 18/1000\n",
      "220/220 [==============================] - 1s 4ms/step - loss: 0.0124 - accuracy: 0.9960 - val_loss: 0.0058 - val_accuracy: 0.9983\n",
      "Epoch 19/1000\n",
      "220/220 [==============================] - 1s 4ms/step - loss: 0.0142 - accuracy: 0.9959 - val_loss: 0.0090 - val_accuracy: 0.9967\n",
      "Epoch 20/1000\n",
      "220/220 [==============================] - 1s 4ms/step - loss: 0.0128 - accuracy: 0.9956 - val_loss: 0.0234 - val_accuracy: 0.9884\n",
      "Epoch 21/1000\n",
      "220/220 [==============================] - 1s 4ms/step - loss: 0.0116 - accuracy: 0.9952 - val_loss: 0.0138 - val_accuracy: 0.9934\n",
      "Epoch 22/1000\n",
      "220/220 [==============================] - 1s 4ms/step - loss: 0.0150 - accuracy: 0.9946 - val_loss: 0.0058 - val_accuracy: 0.9967\n",
      "Epoch 23/1000\n",
      "220/220 [==============================] - 1s 4ms/step - loss: 0.0082 - accuracy: 0.9972 - val_loss: 0.0083 - val_accuracy: 0.9967\n",
      "Epoch 24/1000\n",
      "220/220 [==============================] - 1s 4ms/step - loss: 0.0093 - accuracy: 0.9962 - val_loss: 0.0038 - val_accuracy: 0.9983\n",
      "Epoch 25/1000\n",
      "220/220 [==============================] - 1s 4ms/step - loss: 0.0076 - accuracy: 0.9976 - val_loss: 0.0105 - val_accuracy: 0.9950\n",
      "Epoch 26/1000\n",
      "220/220 [==============================] - 1s 4ms/step - loss: 0.0164 - accuracy: 0.9937 - val_loss: 0.0105 - val_accuracy: 0.9967\n",
      "Epoch 27/1000\n",
      "220/220 [==============================] - 1s 4ms/step - loss: 0.0149 - accuracy: 0.9950 - val_loss: 0.0082 - val_accuracy: 0.9950\n",
      "Epoch 28/1000\n",
      "220/220 [==============================] - 1s 4ms/step - loss: 0.0103 - accuracy: 0.9969 - val_loss: 0.0089 - val_accuracy: 0.9967\n",
      "Epoch 29/1000\n",
      "220/220 [==============================] - 1s 4ms/step - loss: 0.0081 - accuracy: 0.9969 - val_loss: 0.0064 - val_accuracy: 0.9967\n",
      "Epoch 30/1000\n",
      "220/220 [==============================] - 1s 4ms/step - loss: 0.0110 - accuracy: 0.9959 - val_loss: 0.0117 - val_accuracy: 0.9950\n",
      "Epoch 31/1000\n",
      "220/220 [==============================] - 1s 4ms/step - loss: 0.0142 - accuracy: 0.9950 - val_loss: 0.0067 - val_accuracy: 0.9967\n",
      "Epoch 32/1000\n",
      "220/220 [==============================] - 1s 4ms/step - loss: 0.0126 - accuracy: 0.9953 - val_loss: 0.0081 - val_accuracy: 0.9967\n",
      "Epoch 33/1000\n",
      "220/220 [==============================] - 1s 4ms/step - loss: 0.0075 - accuracy: 0.9976 - val_loss: 0.0062 - val_accuracy: 0.9967\n",
      "Epoch 34/1000\n",
      "220/220 [==============================] - 1s 4ms/step - loss: 0.0061 - accuracy: 0.9983 - val_loss: 0.0042 - val_accuracy: 0.9983\n",
      "Epoch 35/1000\n",
      "220/220 [==============================] - 1s 4ms/step - loss: 0.0037 - accuracy: 0.9984 - val_loss: 0.0467 - val_accuracy: 0.9884\n",
      "Epoch 36/1000\n",
      "220/220 [==============================] - 1s 4ms/step - loss: 0.0137 - accuracy: 0.9956 - val_loss: 0.0080 - val_accuracy: 0.9967\n",
      "Epoch 37/1000\n",
      "220/220 [==============================] - 1s 4ms/step - loss: 0.0070 - accuracy: 0.9972 - val_loss: 0.0044 - val_accuracy: 0.9983\n",
      "Epoch 38/1000\n",
      "220/220 [==============================] - 1s 4ms/step - loss: 0.0093 - accuracy: 0.9967 - val_loss: 0.0073 - val_accuracy: 0.9983\n",
      "Epoch 39/1000\n",
      "220/220 [==============================] - 1s 4ms/step - loss: 0.0071 - accuracy: 0.9976 - val_loss: 0.0048 - val_accuracy: 0.9983\n",
      "Epoch 40/1000\n",
      "220/220 [==============================] - 1s 4ms/step - loss: 0.0074 - accuracy: 0.9972 - val_loss: 0.0072 - val_accuracy: 0.9967\n",
      "Epoch 41/1000\n",
      "220/220 [==============================] - 1s 4ms/step - loss: 0.0084 - accuracy: 0.9970 - val_loss: 0.0047 - val_accuracy: 0.9967\n",
      "Epoch 42/1000\n",
      "220/220 [==============================] - 1s 4ms/step - loss: 0.0036 - accuracy: 0.9982 - val_loss: 0.0144 - val_accuracy: 0.9950\n",
      "Epoch 43/1000\n",
      "220/220 [==============================] - 1s 4ms/step - loss: 0.0089 - accuracy: 0.9972 - val_loss: 0.0117 - val_accuracy: 0.9950\n",
      "Epoch 44/1000\n",
      "220/220 [==============================] - 1s 4ms/step - loss: 0.0042 - accuracy: 0.9980 - val_loss: 0.0048 - val_accuracy: 0.9983\n",
      "Epoch 45/1000\n",
      "220/220 [==============================] - 1s 4ms/step - loss: 0.0130 - accuracy: 0.9956 - val_loss: 0.0043 - val_accuracy: 0.9983\n",
      "Epoch 46/1000\n",
      "220/220 [==============================] - 1s 4ms/step - loss: 0.0064 - accuracy: 0.9980 - val_loss: 0.0023 - val_accuracy: 0.9983\n",
      "Epoch 47/1000\n",
      "220/220 [==============================] - 1s 4ms/step - loss: 0.0019 - accuracy: 0.9993 - val_loss: 0.0014 - val_accuracy: 1.0000\n",
      "Epoch 48/1000\n",
      "220/220 [==============================] - 1s 4ms/step - loss: 0.0023 - accuracy: 0.9990 - val_loss: 0.0032 - val_accuracy: 0.9983\n",
      "Epoch 49/1000\n",
      "220/220 [==============================] - 1s 4ms/step - loss: 0.0078 - accuracy: 0.9973 - val_loss: 0.0113 - val_accuracy: 0.9967\n",
      "Epoch 50/1000\n",
      "220/220 [==============================] - 1s 4ms/step - loss: 0.0088 - accuracy: 0.9967 - val_loss: 0.0035 - val_accuracy: 0.9983\n",
      "Epoch 51/1000\n",
      "220/220 [==============================] - 1s 4ms/step - loss: 0.0020 - accuracy: 0.9994 - val_loss: 0.0068 - val_accuracy: 0.9983\n",
      "Epoch 52/1000\n",
      "220/220 [==============================] - 1s 4ms/step - loss: 0.0099 - accuracy: 0.9962 - val_loss: 0.0068 - val_accuracy: 0.9967\n",
      "Epoch 53/1000\n",
      "220/220 [==============================] - 1s 4ms/step - loss: 0.0017 - accuracy: 0.9996 - val_loss: 0.0020 - val_accuracy: 1.0000\n",
      "Epoch 54/1000\n",
      "220/220 [==============================] - 1s 4ms/step - loss: 0.0117 - accuracy: 0.9972 - val_loss: 0.0051 - val_accuracy: 0.9983\n",
      "Epoch 55/1000\n",
      "220/220 [==============================] - 1s 4ms/step - loss: 0.0092 - accuracy: 0.9960 - val_loss: 0.0030 - val_accuracy: 0.9983\n",
      "Epoch 56/1000\n",
      "220/220 [==============================] - 1s 4ms/step - loss: 0.0036 - accuracy: 0.9990 - val_loss: 0.0023 - val_accuracy: 0.9983\n",
      "Epoch 57/1000\n"
     ]
    },
    {
     "name": "stdout",
     "output_type": "stream",
     "text": [
      "220/220 [==============================] - 1s 4ms/step - loss: 9.7862e-04 - accuracy: 0.9997 - val_loss: 0.0144 - val_accuracy: 0.9967\n",
      "Epoch 58/1000\n",
      "220/220 [==============================] - 1s 4ms/step - loss: 0.0044 - accuracy: 0.9984 - val_loss: 0.0078 - val_accuracy: 0.9983\n",
      "Epoch 59/1000\n",
      "220/220 [==============================] - 1s 4ms/step - loss: 0.0057 - accuracy: 0.9980 - val_loss: 0.0066 - val_accuracy: 0.9967\n",
      "Epoch 60/1000\n",
      "220/220 [==============================] - 1s 4ms/step - loss: 0.0033 - accuracy: 0.9986 - val_loss: 0.0083 - val_accuracy: 0.9967\n",
      "Epoch 61/1000\n",
      "220/220 [==============================] - 1s 4ms/step - loss: 0.0100 - accuracy: 0.9963 - val_loss: 0.0096 - val_accuracy: 0.9983\n",
      "Epoch 62/1000\n",
      "220/220 [==============================] - 1s 4ms/step - loss: 0.0059 - accuracy: 0.9976 - val_loss: 0.0098 - val_accuracy: 0.9967\n",
      "Epoch 63/1000\n",
      "220/220 [==============================] - 1s 4ms/step - loss: 0.0020 - accuracy: 0.9993 - val_loss: 3.0459e-04 - val_accuracy: 1.0000\n",
      "Epoch 64/1000\n",
      "220/220 [==============================] - 1s 4ms/step - loss: 0.0033 - accuracy: 0.9989 - val_loss: 4.2359e-04 - val_accuracy: 1.0000\n",
      "Epoch 65/1000\n",
      "220/220 [==============================] - 1s 4ms/step - loss: 0.0079 - accuracy: 0.9979 - val_loss: 0.0163 - val_accuracy: 0.9917\n",
      "Epoch 66/1000\n",
      "220/220 [==============================] - 1s 4ms/step - loss: 0.0016 - accuracy: 0.9991 - val_loss: 0.0082 - val_accuracy: 0.9967\n",
      "Epoch 67/1000\n",
      "220/220 [==============================] - 1s 4ms/step - loss: 0.0070 - accuracy: 0.9980 - val_loss: 0.0043 - val_accuracy: 0.9983\n",
      "Epoch 68/1000\n",
      "220/220 [==============================] - 1s 4ms/step - loss: 0.0049 - accuracy: 0.9982 - val_loss: 0.0039 - val_accuracy: 0.9983\n",
      "Epoch 69/1000\n",
      "220/220 [==============================] - 1s 4ms/step - loss: 0.0021 - accuracy: 0.9991 - val_loss: 0.0113 - val_accuracy: 0.9967\n",
      "Epoch 70/1000\n",
      "220/220 [==============================] - 1s 4ms/step - loss: 0.0094 - accuracy: 0.9969 - val_loss: 0.0032 - val_accuracy: 0.9983\n",
      "Epoch 71/1000\n",
      "220/220 [==============================] - 1s 4ms/step - loss: 0.0060 - accuracy: 0.9976 - val_loss: 0.0026 - val_accuracy: 0.9983\n",
      "Epoch 72/1000\n",
      "220/220 [==============================] - 1s 4ms/step - loss: 0.0044 - accuracy: 0.9983 - val_loss: 0.0010 - val_accuracy: 1.0000\n",
      "Epoch 73/1000\n",
      "220/220 [==============================] - 1s 4ms/step - loss: 0.0042 - accuracy: 0.9989 - val_loss: 0.0135 - val_accuracy: 0.9967\n",
      "Epoch 74/1000\n",
      "220/220 [==============================] - 1s 4ms/step - loss: 0.0018 - accuracy: 0.9994 - val_loss: 0.0062 - val_accuracy: 0.9967\n",
      "Epoch 75/1000\n",
      "220/220 [==============================] - 1s 4ms/step - loss: 0.0041 - accuracy: 0.9982 - val_loss: 0.0236 - val_accuracy: 0.9934\n",
      "Epoch 76/1000\n",
      "220/220 [==============================] - 1s 4ms/step - loss: 0.0028 - accuracy: 0.9990 - val_loss: 0.0053 - val_accuracy: 0.9983\n",
      "Epoch 77/1000\n",
      "220/220 [==============================] - 1s 4ms/step - loss: 0.0083 - accuracy: 0.9972 - val_loss: 0.0031 - val_accuracy: 1.0000\n"
     ]
    }
   ],
   "source": [
    "history = model.fit(x_train, y_train, epochs=1000, validation_data=(x_val, y_val), batch_size = 32, callbacks=[early_stopping, mc])"
   ]
  },
  {
   "cell_type": "markdown",
   "id": "251d93c3",
   "metadata": {},
   "source": [
    "# 모델 평가"
   ]
  },
  {
   "cell_type": "code",
   "execution_count": 19,
   "id": "e681ac8c",
   "metadata": {},
   "outputs": [
    {
     "name": "stdout",
     "output_type": "stream",
     "text": [
      "76/76 - 0s - loss: 0.0105 - accuracy: 0.9979\n",
      "\n",
      "테스트 정확도: 0.9979244470596313\n"
     ]
    }
   ],
   "source": [
    "(test_loss, test_acc) = model.evaluate(x_test,  y_test, verbose=2)\n",
    "print('\\n테스트 정확도:', test_acc)"
   ]
  },
  {
   "cell_type": "code",
   "execution_count": 20,
   "id": "ece61d56",
   "metadata": {},
   "outputs": [
    {
     "data": {
      "image/png": "[encoded data removed]",
      "text/plain": [
       "<Figure size 864x288 with 2 Axes>"
      ]
     },
     "metadata": {},
     "output_type": "display_data"
    }
   ],
   "source": [
    "history.history.keys()\n",
    "\n",
    "plt.figure(figsize=(12,4))\n",
    "plt.subplot(1,2,1)\n",
    "plt.plot(history.history['loss'], 'b--', label='loss')\n",
    "plt.plot(history.history['val_loss'], 'r', label='val_loss')\n",
    "plt.xlabel('Epochs')\n",
    "plt.grid()\n",
    "plt.legend()\n",
    "\n",
    "plt.subplot(1,2,2)\n",
    "plt.plot(history.history['accuracy'], 'b--', label='accuracy')\n",
    "plt.plot(history.history['val_accuracy'], 'r', label='val_accuracy')\n",
    "plt.xlabel('Epochs')\n",
    "plt.grid()\n",
    "plt.legend()\n",
    "plt.text(1,1,f'test accuarcy: {test_acc}',fontsize=20)\n",
    "\n",
    "\n",
    "plt.show()"
   ]
  },
  {
   "cell_type": "code",
   "execution_count": 21,
   "id": "b9060a3d",
   "metadata": {},
   "outputs": [
    {
     "data": {
      "image/png": "[encoded data removed]",
      "text/plain": [
       "<Figure size 1080x1080 with 10 Axes>"
      ]
     },
     "metadata": {},
     "output_type": "display_data"
    }
   ],
   "source": [
    "import random\n",
    "\n",
    "random_list = random.sample(range(y_test.size), 5)\n",
    "\n",
    "fig = plt.figure(figsize=(15, 15))\n",
    "grid = ImageGrid(fig, 111, nrows_ncols=(1,5), axes_pad=0.05, share_all=True, cbar_mode='single')\n",
    "y_predicted = (model.predict(x_test) > 0.5).astype(\"int32\")\n",
    "\n",
    "i = 0\n",
    "for ax, im in zip(grid, [x_test[random_list[0]], x_test[random_list[1]], x_test[random_list[2]], x_test[random_list[3]], x_test[random_list[4]]]):\n",
    "    ground_truth = 'anomaly' if y_test[random_list[i]][0] == 1.0 else 'normal'\n",
    "    predicted = 'anomaly' if y_predicted[random_list[i]][0] == 1.0 else 'normal'\n",
    "    color = 'g' if ground_truth == predicted else 'r'\n",
    "    ax.set_title(f\"Index : {random_list[i]}\\n\\n\", loc='center')\n",
    "    ax.set_title(f\"Ground_truth : {ground_truth}\\nPredicted : {predicted}\", loc='left', color=color)\n",
    "    im = ax.imshow(im, cmap='rainbow', origin='lower', vmin=-1., vmax=1.)\n",
    "    i = i+1\n",
    "    \n",
    "grid[0].get_yaxis().set_ticks([])\n",
    "grid[0].get_xaxis().set_ticks([])\n",
    "plt.colorbar(im, cax=grid.cbar_axes[0])\n",
    "ax.cax.toggle_label(True)\n",
    "\n",
    "plt.show()"
   ]
  },
  {
   "cell_type": "code",
   "execution_count": 22,
   "id": "552819ed",
   "metadata": {},
   "outputs": [
    {
     "name": "stdout",
     "output_type": "stream",
     "text": [
      "정답: 2404개\n",
      "오답: 5개\n",
      "정답률: 1.0%\n"
     ]
    }
   ],
   "source": [
    "yes = []\n",
    "no = []\n",
    "y_predicted = (model.predict(x_test) > 0.5).astype(\"int32\")\n",
    "for i in range(len(y_test)):\n",
    "    if y_test[i] == y_predicted[i]:\n",
    "        yes.append(i)\n",
    "    else:\n",
    "        no.append(i)\n",
    "\n",
    "print(f\"정답: {len(yes)}개\")\n",
    "print(f\"오답: {len(no)}개\")\n",
    "\n",
    "print(f\"정답률: {round((len(yes)/len(y_test)),2)}%\")\n",
    "           "
   ]
  },
  {
   "cell_type": "code",
   "execution_count": null,
   "id": "c66e88eb",
   "metadata": {},
   "outputs": [],
   "source": []
  }
 ],
 "metadata": {
  "kernelspec": {
   "display_name": "cnn-autoencoder",
   "language": "python",
   "name": "cnn-autoencoder"
  },
  "language_info": {
   "codemirror_mode": {
    "name": "ipython",
    "version": 3
   },
   "file_extension": ".py",
   "mimetype": "text/x-python",
   "name": "python",
   "nbconvert_exporter": "python",
   "pygments_lexer": "ipython3",
   "version": "3.9.7"
  }
 },
 "nbformat": 4,
 "nbformat_minor": 5
}
