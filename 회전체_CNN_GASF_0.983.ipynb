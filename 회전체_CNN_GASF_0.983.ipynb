{
 "cells": [
  {
   "cell_type": "markdown",
   "id": "480349eb",
   "metadata": {},
   "source": [
    "# 모듈 임포트"
   ]
  },
  {
   "cell_type": "code",
   "execution_count": 2,
   "id": "6719ddf1",
   "metadata": {},
   "outputs": [],
   "source": [
    "import pandas as pd\n",
    "import numpy as np\n",
    "import os\n",
    "import matplotlib.pyplot as plt\n",
    "from mpl_toolkits.axes_grid1 import ImageGrid\n",
    "from pyts.image import GramianAngularField\n",
    "from glob import glob"
   ]
  },
  {
   "cell_type": "markdown",
   "id": "10a3a45a",
   "metadata": {},
   "source": [
    "# 폴더경로 가져오기"
   ]
  },
  {
   "cell_type": "code",
   "execution_count": 3,
   "id": "93d271d3",
   "metadata": {},
   "outputs": [],
   "source": [
    "normal_path = \"기계시설물고장예지/current/2.2kW/L-EF-04/정상\"\n",
    "abnormal_path = \"기계시설물고장예지/current/2.2kW/L-EF-04/회전체불평형\""
   ]
  },
  {
   "cell_type": "markdown",
   "id": "75ca7d9e",
   "metadata": {},
   "source": [
    "# 폴더 내 csv파일 추출"
   ]
  },
  {
   "cell_type": "code",
   "execution_count": 4,
   "id": "f579387c",
   "metadata": {},
   "outputs": [
    {
     "name": "stdout",
     "output_type": "stream",
     "text": [
      "667\n",
      "229\n"
     ]
    }
   ],
   "source": [
    "# 정상\n",
    "normal_files = []\n",
    "filelist = sorted(glob(f'{normal_path}/*.csv')) \n",
    "for file in filelist:\n",
    "    normal_files.append(file)\n",
    "print(len(normal_files))\n",
    "\n",
    "# 비정상\n",
    "abnormal_files = []\n",
    "filelist = sorted(glob(f'{abnormal_path}/*.csv')) \n",
    "for file in filelist:\n",
    "    abnormal_files.append(file)\n",
    "print(len(abnormal_files))"
   ]
  },
  {
   "cell_type": "markdown",
   "id": "fd11420f",
   "metadata": {},
   "source": [
    "# 데이터 전처리"
   ]
  },
  {
   "cell_type": "code",
   "execution_count": 5,
   "id": "3db72fe7",
   "metadata": {
    "scrolled": false
   },
   "outputs": [],
   "source": [
    "# 정상\n",
    "normal_list_of_df = [pd.read_csv(file,    # 파일명 설정\n",
    "                 encoding='utf-8',                                      # csv 파일 인코딩 방식 설정\n",
    "                 header=None,                                           # 헤더 없음 설정\n",
    "                 names=['Time', 'R', 'S', 'T', 'e'],                    # 열 이름 설정\n",
    "                 skiprows=9) for file in normal_files]\n",
    "\n",
    "# 비정상\n",
    "abnormal_list_of_df = [pd.read_csv(file,    # 파일명 설정\n",
    "                 encoding='utf-8',                                      # csv 파일 인코딩 방식 설정\n",
    "                 header=None,                                           # 헤더 없음 설정\n",
    "                 names=['Time', 'R', 'S', 'T', 'e'],                    # 열 이름 설정\n",
    "                 skiprows=9) for file in abnormal_files]"
   ]
  },
  {
   "cell_type": "code",
   "execution_count": 6,
   "id": "5f70c4c5",
   "metadata": {
    "scrolled": false
   },
   "outputs": [
    {
     "name": "stdout",
     "output_type": "stream",
     "text": [
      "667\n",
      "229\n"
     ]
    }
   ],
   "source": [
    "# 정상\n",
    "normal_df_list = []\n",
    "for i in normal_list_of_df:\n",
    "    df = i.drop('e', axis=1)                                          \n",
    "    df1 = df.set_index('Time')\n",
    "    normal_df_list.append(df1)\n",
    "\n",
    "# 비정상\n",
    "abnormal_df_list = []\n",
    "for i in abnormal_list_of_df:\n",
    "    df = i.drop('e', axis=1)                                          \n",
    "    df1 = df.set_index('Time')\n",
    "    abnormal_df_list.append(df1)\n",
    "    \n",
    "print(len(normal_df_list))\n",
    "print(len(abnormal_df_list))\n"
   ]
  },
  {
   "cell_type": "markdown",
   "id": "48ba4aa0",
   "metadata": {},
   "source": [
    "# 전처리된 데이터를 하나로 합침"
   ]
  },
  {
   "cell_type": "code",
   "execution_count": 7,
   "id": "4b515bb7",
   "metadata": {},
   "outputs": [
    {
     "name": "stdout",
     "output_type": "stream",
     "text": [
      "(1334000, 3)\n",
      "(458000, 3)\n"
     ]
    }
   ],
   "source": [
    "# 정상 concat\n",
    "normal_concat = pd.concat(normal_df_list)\n",
    "print(normal_concat.shape)\n",
    "# 비정상 concat\n",
    "abnormal_concat = pd.concat(abnormal_df_list)\n",
    "print(abnormal_concat.shape)"
   ]
  },
  {
   "cell_type": "markdown",
   "id": "940b55bd",
   "metadata": {},
   "source": [
    "# 데이터 이미지화(정상)"
   ]
  },
  {
   "cell_type": "code",
   "execution_count": 10,
   "id": "a35b2737",
   "metadata": {},
   "outputs": [
    {
     "name": "stdout",
     "output_type": "stream",
     "text": [
      "(1334000, 3)\n",
      "(26680, 50, 3)\n"
     ]
    }
   ],
   "source": [
    "# 정상\n",
    "normal_value = normal_concat.values\n",
    "print(normal_value.shape)\n",
    "nv = np.array(np.vsplit(normal_value, 26680))\n",
    "print(nv.shape)\n"
   ]
  },
  {
   "cell_type": "code",
   "execution_count": 11,
   "id": "aba1a880",
   "metadata": {
    "scrolled": true
   },
   "outputs": [
    {
     "name": "stdout",
     "output_type": "stream",
     "text": [
      "(26680, 50, 50, 3)\n"
     ]
    }
   ],
   "source": [
    "arr = []\n",
    "for value in nv:\n",
    "    gaf = GramianAngularField(method='summation')\n",
    "    X_gaf = gaf.fit_transform(value.T)\n",
    "    arr.append(X_gaf.T)\n",
    "\n",
    "    \n",
    "normal_X = np.array(arr)\n",
    "print(normal_X.shape)"
   ]
  },
  {
   "cell_type": "markdown",
   "id": "6a79cddb",
   "metadata": {},
   "source": [
    "# 데이터 이미지화(비정상)"
   ]
  },
  {
   "cell_type": "code",
   "execution_count": 13,
   "id": "34f15362",
   "metadata": {},
   "outputs": [
    {
     "name": "stdout",
     "output_type": "stream",
     "text": [
      "9160 50 3\n"
     ]
    }
   ],
   "source": [
    "abnormal_value = abnormal_concat.values\n",
    "anv = np.vsplit(abnormal_value, 9160)\n",
    "a = len(anv)\n",
    "b = len(anv[0])\n",
    "c = len(anv[0][0])\n",
    "print(a,b,c)"
   ]
  },
  {
   "cell_type": "code",
   "execution_count": 14,
   "id": "3fdad882",
   "metadata": {},
   "outputs": [
    {
     "name": "stdout",
     "output_type": "stream",
     "text": [
      "(9160, 50, 50, 3)\n"
     ]
    }
   ],
   "source": [
    "arr = []\n",
    "for value in anv:\n",
    "    gaf = GramianAngularField(method='summation')\n",
    "    X_gaf = gaf.fit_transform(value.T)\n",
    "    arr.append(X_gaf.T)\n",
    "\n",
    "abnormal_X = np.array(arr)\n",
    "print(abnormal_X.shape)"
   ]
  },
  {
   "cell_type": "markdown",
   "id": "a3e19e5e",
   "metadata": {},
   "source": [
    "# 데이터 라벨링"
   ]
  },
  {
   "cell_type": "code",
   "execution_count": 15,
   "id": "dc2b67f8",
   "metadata": {},
   "outputs": [
    {
     "name": "stdout",
     "output_type": "stream",
     "text": [
      "(26680, 1)\n",
      "(9160, 1)\n",
      "(35840, 50, 50, 3)\n",
      "(35840, 1)\n"
     ]
    }
   ],
   "source": [
    "# 라벨링, 정상: 0, 비정상: 1\n",
    "normal_Y = np.zeros((normal_X.shape[0], 1))\n",
    "abnormal_Y = np.ones((abnormal_X.shape[0], 1))\n",
    "\n",
    "print(normal_Y.shape)\n",
    "print(abnormal_Y.shape)\n",
    "\n",
    "# X, Y 끼리 concatenate\n",
    "X = np.concatenate((normal_X,abnormal_X))\n",
    "Y = np.concatenate((normal_Y,abnormal_Y))\n",
    "print(X.shape)\n",
    "print(Y.shape)"
   ]
  },
  {
   "cell_type": "markdown",
   "id": "3b9bac41",
   "metadata": {},
   "source": [
    "# 훈련 세트 설정"
   ]
  },
  {
   "cell_type": "code",
   "execution_count": 16,
   "id": "7a01c4df",
   "metadata": {},
   "outputs": [
    {
     "name": "stdout",
     "output_type": "stream",
     "text": [
      "(25088, 50, 50, 3)\n",
      "(8601, 50, 50, 3)\n",
      "(2151, 50, 50, 3)\n",
      "(25088, 1)\n",
      "(8601, 1)\n",
      "(2151, 1)\n"
     ]
    }
   ],
   "source": [
    "from sklearn.model_selection import train_test_split\n",
    "x_train, x_test, y_train, y_test = train_test_split(X, Y, test_size=0.3, shuffle=True, stratify=Y, random_state=50)\n",
    "x_test, x_val, y_test, y_val = train_test_split(x_test, y_test, test_size=0.2, shuffle=True, stratify=y_test, random_state=50)\n",
    "\n",
    "print(x_train.shape)\n",
    "print(x_test.shape)\n",
    "print(x_val.shape)\n",
    "print(y_train.shape)\n",
    "print(y_test.shape)\n",
    "print(y_val.shape)"
   ]
  },
  {
   "cell_type": "markdown",
   "id": "1edc1826",
   "metadata": {},
   "source": [
    "# 정규화"
   ]
  },
  {
   "cell_type": "code",
   "execution_count": 17,
   "id": "a8c9d578",
   "metadata": {},
   "outputs": [
    {
     "name": "stdout",
     "output_type": "stream",
     "text": [
      "(25088, 50, 50, 3)\n",
      "(8601, 50, 50, 3)\n",
      "(2151, 50, 50, 3)\n"
     ]
    }
   ],
   "source": [
    "# 정규화\n",
    "x_train = (x_train - np.min(x_train)) / (np.max(x_train)- np.min(x_train))\n",
    "x_test = (x_test - np.min(x_test)) / (np.max(x_test)- np.min(x_test))\n",
    "x_val = (x_val - np.min(x_val)) / (np.max(x_val)- np.min(x_val))\n",
    "\n",
    "print(x_train.shape)\n",
    "print(x_test.shape)\n",
    "print(x_val.shape)"
   ]
  },
  {
   "cell_type": "markdown",
   "id": "afee4c5a",
   "metadata": {},
   "source": [
    "# 학습에 필요한 모듈 임포트"
   ]
  },
  {
   "cell_type": "code",
   "execution_count": 18,
   "id": "22ef4d62",
   "metadata": {},
   "outputs": [
    {
     "name": "stderr",
     "output_type": "stream",
     "text": [
      "2022-03-03 11:42:07.081737: I tensorflow/stream_executor/platform/default/dso_loader.cc:53] Successfully opened dynamic library libcudart.so.11.0\n"
     ]
    }
   ],
   "source": [
    "import tensorflow as tf\n",
    "plt.style.use('seaborn-white')\n",
    "from tensorflow.keras import Model\n",
    "from tensorflow.keras.models import Sequential\n",
    "from tensorflow.keras.utils import to_categorical\n",
    "from tensorflow.keras.layers import Dense, Flatten, Conv2D, MaxPool2D, Dropout, Input\n",
    "from tensorflow.keras.callbacks import EarlyStopping, ModelCheckpoint"
   ]
  },
  {
   "cell_type": "code",
   "execution_count": 19,
   "id": "a8fa8a9c",
   "metadata": {},
   "outputs": [],
   "source": [
    "os.environ['CUDA_VISIBLE_DEVICES'] = '0'"
   ]
  },
  {
   "cell_type": "markdown",
   "id": "d27fa2e1",
   "metadata": {},
   "source": [
    "# 모델구성"
   ]
  },
  {
   "cell_type": "code",
   "execution_count": 20,
   "id": "2d5c4a3b",
   "metadata": {},
   "outputs": [
    {
     "name": "stderr",
     "output_type": "stream",
     "text": [
      "2022-03-03 11:42:14.399523: I tensorflow/stream_executor/platform/default/dso_loader.cc:53] Successfully opened dynamic library libcuda.so.1\n",
      "2022-03-03 11:42:14.442683: I tensorflow/core/common_runtime/gpu/gpu_device.cc:1733] Found device 0 with properties: \n",
      "pciBusID: 0000:17:00.0 name: NVIDIA GeForce RTX 3090 computeCapability: 8.6\n",
      "coreClock: 1.695GHz coreCount: 82 deviceMemorySize: 23.70GiB deviceMemoryBandwidth: 871.81GiB/s\n",
      "2022-03-03 11:42:14.442759: I tensorflow/stream_executor/platform/default/dso_loader.cc:53] Successfully opened dynamic library libcudart.so.11.0\n",
      "2022-03-03 11:42:14.445255: I tensorflow/stream_executor/platform/default/dso_loader.cc:53] Successfully opened dynamic library libcublas.so.11\n",
      "2022-03-03 11:42:14.445381: I tensorflow/stream_executor/platform/default/dso_loader.cc:53] Successfully opened dynamic library libcublasLt.so.11\n",
      "2022-03-03 11:42:14.446175: I tensorflow/stream_executor/platform/default/dso_loader.cc:53] Successfully opened dynamic library libcufft.so.10\n",
      "2022-03-03 11:42:14.446515: I tensorflow/stream_executor/platform/default/dso_loader.cc:53] Successfully opened dynamic library libcurand.so.10\n",
      "2022-03-03 11:42:14.448825: I tensorflow/stream_executor/platform/default/dso_loader.cc:53] Successfully opened dynamic library libcusolver.so.11\n",
      "2022-03-03 11:42:14.449422: I tensorflow/stream_executor/platform/default/dso_loader.cc:53] Successfully opened dynamic library libcusparse.so.11\n",
      "2022-03-03 11:42:14.449616: I tensorflow/stream_executor/platform/default/dso_loader.cc:53] Successfully opened dynamic library libcudnn.so.8\n",
      "2022-03-03 11:42:14.450784: I tensorflow/core/common_runtime/gpu/gpu_device.cc:1871] Adding visible gpu devices: 0\n",
      "2022-03-03 11:42:14.451293: I tensorflow/core/platform/cpu_feature_guard.cc:142] This TensorFlow binary is optimized with oneAPI Deep Neural Network Library (oneDNN) to use the following CPU instructions in performance-critical operations:  AVX2 AVX512F FMA\n",
      "To enable them in other operations, rebuild TensorFlow with the appropriate compiler flags.\n",
      "2022-03-03 11:42:14.452414: I tensorflow/core/common_runtime/gpu/gpu_device.cc:1733] Found device 0 with properties: \n",
      "pciBusID: 0000:17:00.0 name: NVIDIA GeForce RTX 3090 computeCapability: 8.6\n",
      "coreClock: 1.695GHz coreCount: 82 deviceMemorySize: 23.70GiB deviceMemoryBandwidth: 871.81GiB/s\n",
      "2022-03-03 11:42:14.453390: I tensorflow/core/common_runtime/gpu/gpu_device.cc:1871] Adding visible gpu devices: 0\n",
      "2022-03-03 11:42:14.453443: I tensorflow/stream_executor/platform/default/dso_loader.cc:53] Successfully opened dynamic library libcudart.so.11.0\n",
      "2022-03-03 11:42:14.783189: I tensorflow/core/common_runtime/gpu/gpu_device.cc:1258] Device interconnect StreamExecutor with strength 1 edge matrix:\n",
      "2022-03-03 11:42:14.783219: I tensorflow/core/common_runtime/gpu/gpu_device.cc:1264]      0 \n",
      "2022-03-03 11:42:14.783223: I tensorflow/core/common_runtime/gpu/gpu_device.cc:1277] 0:   N \n",
      "2022-03-03 11:42:14.784656: I tensorflow/core/common_runtime/gpu/gpu_device.cc:1418] Created TensorFlow device (/job:localhost/replica:0/task:0/device:GPU:0 with 11699 MB memory) -> physical GPU (device: 0, name: NVIDIA GeForce RTX 3090, pci bus id: 0000:17:00.0, compute capability: 8.6)\n"
     ]
    }
   ],
   "source": [
    "model = Sequential() \n",
    "model.add(Conv2D(32, (3,3), input_shape=(50,50,3), activation='relu', padding='same'))        \n",
    "model.add(Conv2D(64, (3,3), activation='relu', padding='same'))\n",
    "model.add(MaxPool2D(pool_size=(2,2)))\n",
    "model.add(Dropout(0.5))\n",
    "model.add(Flatten())\n",
    "model.add(Dense(256, activation='relu'))\n",
    "model.add(Dropout(0.5))\n",
    "model.add(Dense(1, activation='sigmoid'))\n",
    "\n",
    "model.compile(loss='binary_crossentropy', optimizer='adam', metrics=['accuracy'])\n",
    "early_stopping = EarlyStopping(monitor='loss', mode='min', patience=20)\n",
    "mc = ModelCheckpoint('best_model.h5', monitor='val_loss', mode='min', save_best_only=True)\n"
   ]
  },
  {
   "cell_type": "markdown",
   "id": "ac5c7955",
   "metadata": {},
   "source": [
    "# 모델 학습"
   ]
  },
  {
   "cell_type": "code",
   "execution_count": 21,
   "id": "17e456f3",
   "metadata": {},
   "outputs": [
    {
     "name": "stderr",
     "output_type": "stream",
     "text": [
      "2022-03-03 11:42:19.692540: I tensorflow/compiler/mlir/mlir_graph_optimization_pass.cc:176] None of the MLIR Optimization Passes are enabled (registered 2)\n",
      "2022-03-03 11:42:19.710850: I tensorflow/core/platform/profile_utils/cpu_utils.cc:114] CPU Frequency: 4099895000 Hz\n"
     ]
    },
    {
     "name": "stdout",
     "output_type": "stream",
     "text": [
      "Epoch 1/1000\n"
     ]
    },
    {
     "name": "stderr",
     "output_type": "stream",
     "text": [
      "2022-03-03 11:42:19.991036: I tensorflow/stream_executor/platform/default/dso_loader.cc:53] Successfully opened dynamic library libcudnn.so.8\n",
      "2022-03-03 11:42:20.533823: I tensorflow/stream_executor/cuda/cuda_dnn.cc:359] Loaded cuDNN version 8201\n",
      "2022-03-03 11:42:21.322624: E tensorflow/core/platform/default/subprocess.cc:304] Start cannot spawn child process: No such file or directory\n",
      "2022-03-03 11:42:21.322657: W tensorflow/stream_executor/gpu/asm_compiler.cc:56] Couldn't invoke ptxas --version\n",
      "2022-03-03 11:42:21.323517: E tensorflow/core/platform/default/subprocess.cc:304] Start cannot spawn child process: No such file or directory\n",
      "2022-03-03 11:42:21.323589: W tensorflow/stream_executor/gpu/redzone_allocator.cc:314] Internal: Failed to launch ptxas\n",
      "Relying on driver to perform ptx compilation. \n",
      "Modify $PATH to customize ptxas location.\n",
      "This message will be only logged once.\n",
      "2022-03-03 11:42:21.333633: I tensorflow/stream_executor/platform/default/dso_loader.cc:53] Successfully opened dynamic library libcublas.so.11\n",
      "2022-03-03 11:42:21.845479: I tensorflow/stream_executor/platform/default/dso_loader.cc:53] Successfully opened dynamic library libcublasLt.so.11\n",
      "2022-03-03 11:42:21.864140: I tensorflow/stream_executor/cuda/cuda_blas.cc:1838] TensorFloat-32 will be used for the matrix multiplication. This will only be logged once.\n"
     ]
    },
    {
     "name": "stdout",
     "output_type": "stream",
     "text": [
      "784/784 [==============================] - 6s 4ms/step - loss: 0.3745 - accuracy: 0.8153 - val_loss: 0.2904 - val_accuracy: 0.8512\n",
      "Epoch 2/1000\n",
      "784/784 [==============================] - 3s 4ms/step - loss: 0.2824 - accuracy: 0.8555 - val_loss: 0.2717 - val_accuracy: 0.8661\n",
      "Epoch 3/1000\n",
      "784/784 [==============================] - 3s 4ms/step - loss: 0.2646 - accuracy: 0.8663 - val_loss: 0.2644 - val_accuracy: 0.8573\n",
      "Epoch 4/1000\n",
      "784/784 [==============================] - 3s 4ms/step - loss: 0.2479 - accuracy: 0.8770 - val_loss: 0.2268 - val_accuracy: 0.8968\n",
      "Epoch 5/1000\n",
      "784/784 [==============================] - 3s 4ms/step - loss: 0.2294 - accuracy: 0.8917 - val_loss: 0.2172 - val_accuracy: 0.8903\n",
      "Epoch 6/1000\n",
      "784/784 [==============================] - 3s 4ms/step - loss: 0.2151 - accuracy: 0.9011 - val_loss: 0.2079 - val_accuracy: 0.9107\n",
      "Epoch 7/1000\n",
      "784/784 [==============================] - 3s 4ms/step - loss: 0.1953 - accuracy: 0.9092 - val_loss: 0.1802 - val_accuracy: 0.9303\n",
      "Epoch 8/1000\n",
      "784/784 [==============================] - 3s 4ms/step - loss: 0.1780 - accuracy: 0.9224 - val_loss: 0.1714 - val_accuracy: 0.9247\n",
      "Epoch 9/1000\n",
      "784/784 [==============================] - 3s 4ms/step - loss: 0.1670 - accuracy: 0.9281 - val_loss: 0.1565 - val_accuracy: 0.9354\n",
      "Epoch 10/1000\n",
      "784/784 [==============================] - 3s 4ms/step - loss: 0.1549 - accuracy: 0.9342 - val_loss: 0.1360 - val_accuracy: 0.9489\n",
      "Epoch 11/1000\n",
      "784/784 [==============================] - 3s 4ms/step - loss: 0.1445 - accuracy: 0.9391 - val_loss: 0.1257 - val_accuracy: 0.9498\n",
      "Epoch 12/1000\n",
      "784/784 [==============================] - 3s 4ms/step - loss: 0.1394 - accuracy: 0.9424 - val_loss: 0.1267 - val_accuracy: 0.9447\n",
      "Epoch 13/1000\n",
      "784/784 [==============================] - 3s 4ms/step - loss: 0.1295 - accuracy: 0.9470 - val_loss: 0.1213 - val_accuracy: 0.9507\n",
      "Epoch 14/1000\n",
      "784/784 [==============================] - 3s 4ms/step - loss: 0.1194 - accuracy: 0.9525 - val_loss: 0.1361 - val_accuracy: 0.9410\n",
      "Epoch 15/1000\n",
      "784/784 [==============================] - 3s 4ms/step - loss: 0.1198 - accuracy: 0.9512 - val_loss: 0.1102 - val_accuracy: 0.9619\n",
      "Epoch 16/1000\n",
      "784/784 [==============================] - 3s 4ms/step - loss: 0.1151 - accuracy: 0.9538 - val_loss: 0.1036 - val_accuracy: 0.9628\n",
      "Epoch 17/1000\n",
      "784/784 [==============================] - 3s 4ms/step - loss: 0.1102 - accuracy: 0.9564 - val_loss: 0.0963 - val_accuracy: 0.9647\n",
      "Epoch 18/1000\n",
      "784/784 [==============================] - 3s 4ms/step - loss: 0.1059 - accuracy: 0.9570 - val_loss: 0.1063 - val_accuracy: 0.9633\n",
      "Epoch 19/1000\n",
      "784/784 [==============================] - 3s 4ms/step - loss: 0.1014 - accuracy: 0.9600 - val_loss: 0.1122 - val_accuracy: 0.9530\n",
      "Epoch 20/1000\n",
      "784/784 [==============================] - 3s 4ms/step - loss: 0.0944 - accuracy: 0.9642 - val_loss: 0.1076 - val_accuracy: 0.9596\n",
      "Epoch 21/1000\n",
      "784/784 [==============================] - 3s 4ms/step - loss: 0.0904 - accuracy: 0.9647 - val_loss: 0.0863 - val_accuracy: 0.9689\n",
      "Epoch 22/1000\n",
      "784/784 [==============================] - 3s 4ms/step - loss: 0.0907 - accuracy: 0.9646 - val_loss: 0.0918 - val_accuracy: 0.9665\n",
      "Epoch 23/1000\n",
      "784/784 [==============================] - 3s 4ms/step - loss: 0.0858 - accuracy: 0.9659 - val_loss: 0.0953 - val_accuracy: 0.9642\n",
      "Epoch 24/1000\n",
      "784/784 [==============================] - 3s 4ms/step - loss: 0.0834 - accuracy: 0.9682 - val_loss: 0.1083 - val_accuracy: 0.9600\n",
      "Epoch 25/1000\n",
      "784/784 [==============================] - 3s 4ms/step - loss: 0.0828 - accuracy: 0.9680 - val_loss: 0.0776 - val_accuracy: 0.9749\n",
      "Epoch 26/1000\n",
      "784/784 [==============================] - 3s 4ms/step - loss: 0.0816 - accuracy: 0.9690 - val_loss: 0.0829 - val_accuracy: 0.9735\n",
      "Epoch 27/1000\n",
      "784/784 [==============================] - 3s 4ms/step - loss: 0.0786 - accuracy: 0.9706 - val_loss: 0.0785 - val_accuracy: 0.9721\n",
      "Epoch 28/1000\n",
      "784/784 [==============================] - 3s 4ms/step - loss: 0.0776 - accuracy: 0.9706 - val_loss: 0.0807 - val_accuracy: 0.9698\n",
      "Epoch 29/1000\n",
      "784/784 [==============================] - 3s 4ms/step - loss: 0.0759 - accuracy: 0.9711 - val_loss: 0.0909 - val_accuracy: 0.9661\n",
      "Epoch 30/1000\n",
      "784/784 [==============================] - 3s 4ms/step - loss: 0.0705 - accuracy: 0.9733 - val_loss: 0.0987 - val_accuracy: 0.9596\n",
      "Epoch 31/1000\n",
      "784/784 [==============================] - 3s 4ms/step - loss: 0.0704 - accuracy: 0.9714 - val_loss: 0.1087 - val_accuracy: 0.9642\n",
      "Epoch 32/1000\n",
      "784/784 [==============================] - 3s 4ms/step - loss: 0.0684 - accuracy: 0.9730 - val_loss: 0.0718 - val_accuracy: 0.9781\n",
      "Epoch 33/1000\n",
      "784/784 [==============================] - 3s 4ms/step - loss: 0.0683 - accuracy: 0.9735 - val_loss: 0.0955 - val_accuracy: 0.9702\n",
      "Epoch 34/1000\n",
      "784/784 [==============================] - 3s 4ms/step - loss: 0.0655 - accuracy: 0.9750 - val_loss: 0.0785 - val_accuracy: 0.9712\n",
      "Epoch 35/1000\n",
      "784/784 [==============================] - 3s 4ms/step - loss: 0.0658 - accuracy: 0.9748 - val_loss: 0.0896 - val_accuracy: 0.9623\n",
      "Epoch 36/1000\n",
      "784/784 [==============================] - 3s 4ms/step - loss: 0.0608 - accuracy: 0.9770 - val_loss: 0.1317 - val_accuracy: 0.9609\n",
      "Epoch 37/1000\n",
      "784/784 [==============================] - 3s 4ms/step - loss: 0.0654 - accuracy: 0.9750 - val_loss: 0.0943 - val_accuracy: 0.9619\n",
      "Epoch 38/1000\n",
      "784/784 [==============================] - 3s 4ms/step - loss: 0.0634 - accuracy: 0.9758 - val_loss: 0.0873 - val_accuracy: 0.9754\n",
      "Epoch 39/1000\n",
      "784/784 [==============================] - 3s 4ms/step - loss: 0.0622 - accuracy: 0.9763 - val_loss: 0.0741 - val_accuracy: 0.9763\n",
      "Epoch 40/1000\n",
      "784/784 [==============================] - 3s 4ms/step - loss: 0.0581 - accuracy: 0.9787 - val_loss: 0.0747 - val_accuracy: 0.9772\n",
      "Epoch 41/1000\n",
      "784/784 [==============================] - 3s 4ms/step - loss: 0.0562 - accuracy: 0.9780 - val_loss: 0.0737 - val_accuracy: 0.9754\n",
      "Epoch 42/1000\n",
      "784/784 [==============================] - 3s 4ms/step - loss: 0.0590 - accuracy: 0.9782 - val_loss: 0.0703 - val_accuracy: 0.9768\n",
      "Epoch 43/1000\n",
      "784/784 [==============================] - 3s 4ms/step - loss: 0.0583 - accuracy: 0.9784 - val_loss: 0.0599 - val_accuracy: 0.9777\n",
      "Epoch 44/1000\n",
      "784/784 [==============================] - 3s 4ms/step - loss: 0.0542 - accuracy: 0.9791 - val_loss: 0.0824 - val_accuracy: 0.9754\n",
      "Epoch 45/1000\n",
      "784/784 [==============================] - 3s 4ms/step - loss: 0.0575 - accuracy: 0.9776 - val_loss: 0.0814 - val_accuracy: 0.9698\n",
      "Epoch 46/1000\n",
      "784/784 [==============================] - 3s 4ms/step - loss: 0.0547 - accuracy: 0.9798 - val_loss: 0.0808 - val_accuracy: 0.9749\n",
      "Epoch 47/1000\n",
      "784/784 [==============================] - 3s 4ms/step - loss: 0.0540 - accuracy: 0.9794 - val_loss: 0.0746 - val_accuracy: 0.9772\n",
      "Epoch 48/1000\n",
      "784/784 [==============================] - 3s 4ms/step - loss: 0.0490 - accuracy: 0.9817 - val_loss: 0.0776 - val_accuracy: 0.9800\n",
      "Epoch 49/1000\n",
      "784/784 [==============================] - 3s 4ms/step - loss: 0.0555 - accuracy: 0.9796 - val_loss: 0.0717 - val_accuracy: 0.9744\n",
      "Epoch 50/1000\n",
      "784/784 [==============================] - 3s 4ms/step - loss: 0.0514 - accuracy: 0.9807 - val_loss: 0.0706 - val_accuracy: 0.9781\n",
      "Epoch 51/1000\n",
      "784/784 [==============================] - 3s 4ms/step - loss: 0.0522 - accuracy: 0.9807 - val_loss: 0.0791 - val_accuracy: 0.9675\n",
      "Epoch 52/1000\n",
      "784/784 [==============================] - 3s 4ms/step - loss: 0.0472 - accuracy: 0.9823 - val_loss: 0.1368 - val_accuracy: 0.9665\n",
      "Epoch 53/1000\n",
      "784/784 [==============================] - 3s 4ms/step - loss: 0.0524 - accuracy: 0.9805 - val_loss: 0.0709 - val_accuracy: 0.9781\n",
      "Epoch 54/1000\n",
      "784/784 [==============================] - 3s 4ms/step - loss: 0.0480 - accuracy: 0.9829 - val_loss: 0.0732 - val_accuracy: 0.9791\n",
      "Epoch 55/1000\n",
      "784/784 [==============================] - 3s 4ms/step - loss: 0.0495 - accuracy: 0.9819 - val_loss: 0.0737 - val_accuracy: 0.9744\n",
      "Epoch 56/1000\n",
      "784/784 [==============================] - 3s 4ms/step - loss: 0.0465 - accuracy: 0.9833 - val_loss: 0.0999 - val_accuracy: 0.9712\n",
      "Epoch 57/1000\n"
     ]
    },
    {
     "name": "stdout",
     "output_type": "stream",
     "text": [
      "784/784 [==============================] - 3s 4ms/step - loss: 0.0489 - accuracy: 0.9815 - val_loss: 0.0852 - val_accuracy: 0.9693\n",
      "Epoch 58/1000\n",
      "784/784 [==============================] - 3s 4ms/step - loss: 0.0446 - accuracy: 0.9846 - val_loss: 0.0728 - val_accuracy: 0.9786\n",
      "Epoch 59/1000\n",
      "784/784 [==============================] - 3s 4ms/step - loss: 0.0447 - accuracy: 0.9834 - val_loss: 0.1089 - val_accuracy: 0.9749\n",
      "Epoch 60/1000\n",
      "784/784 [==============================] - 3s 4ms/step - loss: 0.0445 - accuracy: 0.9832 - val_loss: 0.0705 - val_accuracy: 0.9805\n",
      "Epoch 61/1000\n",
      "784/784 [==============================] - 3s 4ms/step - loss: 0.0488 - accuracy: 0.9814 - val_loss: 0.0956 - val_accuracy: 0.9758\n",
      "Epoch 62/1000\n",
      "784/784 [==============================] - 3s 4ms/step - loss: 0.0454 - accuracy: 0.9835 - val_loss: 0.0876 - val_accuracy: 0.9758\n",
      "Epoch 63/1000\n",
      "784/784 [==============================] - 3s 4ms/step - loss: 0.0447 - accuracy: 0.9825 - val_loss: 0.0725 - val_accuracy: 0.9768\n",
      "Epoch 64/1000\n",
      "784/784 [==============================] - 3s 4ms/step - loss: 0.0420 - accuracy: 0.9845 - val_loss: 0.0753 - val_accuracy: 0.9735\n",
      "Epoch 65/1000\n",
      "784/784 [==============================] - 3s 4ms/step - loss: 0.0443 - accuracy: 0.9832 - val_loss: 0.0742 - val_accuracy: 0.9842\n",
      "Epoch 66/1000\n",
      "784/784 [==============================] - 3s 4ms/step - loss: 0.0411 - accuracy: 0.9856 - val_loss: 0.0689 - val_accuracy: 0.9781\n",
      "Epoch 67/1000\n",
      "784/784 [==============================] - 3s 4ms/step - loss: 0.0439 - accuracy: 0.9842 - val_loss: 0.0739 - val_accuracy: 0.9800\n",
      "Epoch 68/1000\n",
      "784/784 [==============================] - 3s 4ms/step - loss: 0.0401 - accuracy: 0.9850 - val_loss: 0.0907 - val_accuracy: 0.9730\n",
      "Epoch 69/1000\n",
      "784/784 [==============================] - 3s 4ms/step - loss: 0.0433 - accuracy: 0.9843 - val_loss: 0.0631 - val_accuracy: 0.9795\n",
      "Epoch 70/1000\n",
      "784/784 [==============================] - 3s 4ms/step - loss: 0.0418 - accuracy: 0.9850 - val_loss: 0.0827 - val_accuracy: 0.9721\n",
      "Epoch 71/1000\n",
      "784/784 [==============================] - 3s 4ms/step - loss: 0.0420 - accuracy: 0.9851 - val_loss: 0.0746 - val_accuracy: 0.9777\n",
      "Epoch 72/1000\n",
      "784/784 [==============================] - 3s 4ms/step - loss: 0.0404 - accuracy: 0.9853 - val_loss: 0.0633 - val_accuracy: 0.9772\n",
      "Epoch 73/1000\n",
      "784/784 [==============================] - 3s 4ms/step - loss: 0.0401 - accuracy: 0.9853 - val_loss: 0.0680 - val_accuracy: 0.9800\n",
      "Epoch 74/1000\n",
      "784/784 [==============================] - 3s 4ms/step - loss: 0.0387 - accuracy: 0.9861 - val_loss: 0.0703 - val_accuracy: 0.9786\n",
      "Epoch 75/1000\n",
      "784/784 [==============================] - 3s 4ms/step - loss: 0.0395 - accuracy: 0.9866 - val_loss: 0.0764 - val_accuracy: 0.9805\n",
      "Epoch 76/1000\n",
      "784/784 [==============================] - 3s 4ms/step - loss: 0.0345 - accuracy: 0.9882 - val_loss: 0.0655 - val_accuracy: 0.9809\n",
      "Epoch 77/1000\n",
      "784/784 [==============================] - 3s 4ms/step - loss: 0.0406 - accuracy: 0.9858 - val_loss: 0.0633 - val_accuracy: 0.9800\n",
      "Epoch 78/1000\n",
      "784/784 [==============================] - 3s 4ms/step - loss: 0.0367 - accuracy: 0.9873 - val_loss: 0.0900 - val_accuracy: 0.9795\n",
      "Epoch 79/1000\n",
      "784/784 [==============================] - 3s 4ms/step - loss: 0.0388 - accuracy: 0.9858 - val_loss: 0.0781 - val_accuracy: 0.9833\n",
      "Epoch 80/1000\n",
      "784/784 [==============================] - 3s 4ms/step - loss: 0.0369 - accuracy: 0.9863 - val_loss: 0.0866 - val_accuracy: 0.9684\n",
      "Epoch 81/1000\n",
      "784/784 [==============================] - 3s 4ms/step - loss: 0.0385 - accuracy: 0.9858 - val_loss: 0.0838 - val_accuracy: 0.9819\n",
      "Epoch 82/1000\n",
      "784/784 [==============================] - 3s 4ms/step - loss: 0.0345 - accuracy: 0.9879 - val_loss: 0.0933 - val_accuracy: 0.9763\n",
      "Epoch 83/1000\n",
      "784/784 [==============================] - 3s 4ms/step - loss: 0.0394 - accuracy: 0.9864 - val_loss: 0.0802 - val_accuracy: 0.9819\n",
      "Epoch 84/1000\n",
      "784/784 [==============================] - 3s 4ms/step - loss: 0.0347 - accuracy: 0.9876 - val_loss: 0.0944 - val_accuracy: 0.9665\n",
      "Epoch 85/1000\n",
      "784/784 [==============================] - 3s 4ms/step - loss: 0.0338 - accuracy: 0.9883 - val_loss: 0.0923 - val_accuracy: 0.9675\n",
      "Epoch 86/1000\n",
      "784/784 [==============================] - 3s 4ms/step - loss: 0.0398 - accuracy: 0.9847 - val_loss: 0.0904 - val_accuracy: 0.9791\n",
      "Epoch 87/1000\n",
      "784/784 [==============================] - 3s 4ms/step - loss: 0.0339 - accuracy: 0.9884 - val_loss: 0.0845 - val_accuracy: 0.9795\n",
      "Epoch 88/1000\n",
      "784/784 [==============================] - 3s 4ms/step - loss: 0.0372 - accuracy: 0.9867 - val_loss: 0.0726 - val_accuracy: 0.9814\n",
      "Epoch 89/1000\n",
      "784/784 [==============================] - 3s 4ms/step - loss: 0.0351 - accuracy: 0.9875 - val_loss: 0.0752 - val_accuracy: 0.9800\n",
      "Epoch 90/1000\n",
      "784/784 [==============================] - 3s 4ms/step - loss: 0.0327 - accuracy: 0.9888 - val_loss: 0.0714 - val_accuracy: 0.9814\n",
      "Epoch 91/1000\n",
      "784/784 [==============================] - 3s 4ms/step - loss: 0.0352 - accuracy: 0.9882 - val_loss: 0.0723 - val_accuracy: 0.9786\n",
      "Epoch 92/1000\n",
      "784/784 [==============================] - 3s 4ms/step - loss: 0.0316 - accuracy: 0.9889 - val_loss: 0.0814 - val_accuracy: 0.9791\n",
      "Epoch 93/1000\n",
      "784/784 [==============================] - 3s 4ms/step - loss: 0.0356 - accuracy: 0.9875 - val_loss: 0.0862 - val_accuracy: 0.9768\n",
      "Epoch 94/1000\n",
      "784/784 [==============================] - 3s 4ms/step - loss: 0.0343 - accuracy: 0.9881 - val_loss: 0.1022 - val_accuracy: 0.9819\n",
      "Epoch 95/1000\n",
      "784/784 [==============================] - 3s 4ms/step - loss: 0.0345 - accuracy: 0.9885 - val_loss: 0.0742 - val_accuracy: 0.9786\n",
      "Epoch 96/1000\n",
      "784/784 [==============================] - 3s 4ms/step - loss: 0.0309 - accuracy: 0.9891 - val_loss: 0.0773 - val_accuracy: 0.9758\n",
      "Epoch 97/1000\n",
      "784/784 [==============================] - 3s 4ms/step - loss: 0.0346 - accuracy: 0.9877 - val_loss: 0.0740 - val_accuracy: 0.9777\n",
      "Epoch 98/1000\n",
      "784/784 [==============================] - 3s 4ms/step - loss: 0.0303 - accuracy: 0.9888 - val_loss: 0.0829 - val_accuracy: 0.9791\n",
      "Epoch 99/1000\n",
      "784/784 [==============================] - 3s 4ms/step - loss: 0.0339 - accuracy: 0.9886 - val_loss: 0.0605 - val_accuracy: 0.9823\n",
      "Epoch 100/1000\n",
      "784/784 [==============================] - 3s 4ms/step - loss: 0.0312 - accuracy: 0.9887 - val_loss: 0.0677 - val_accuracy: 0.9828\n",
      "Epoch 101/1000\n",
      "784/784 [==============================] - 3s 4ms/step - loss: 0.0352 - accuracy: 0.9872 - val_loss: 0.0791 - val_accuracy: 0.9800\n",
      "Epoch 102/1000\n",
      "784/784 [==============================] - 3s 4ms/step - loss: 0.0315 - accuracy: 0.9887 - val_loss: 0.0727 - val_accuracy: 0.9819\n",
      "Epoch 103/1000\n",
      "784/784 [==============================] - 3s 4ms/step - loss: 0.0299 - accuracy: 0.9897 - val_loss: 0.0830 - val_accuracy: 0.9800\n",
      "Epoch 104/1000\n",
      "784/784 [==============================] - 3s 4ms/step - loss: 0.0318 - accuracy: 0.9889 - val_loss: 0.0647 - val_accuracy: 0.9809\n",
      "Epoch 105/1000\n",
      "784/784 [==============================] - 3s 4ms/step - loss: 0.0330 - accuracy: 0.9886 - val_loss: 0.0770 - val_accuracy: 0.9805\n",
      "Epoch 106/1000\n",
      "784/784 [==============================] - 3s 4ms/step - loss: 0.0336 - accuracy: 0.9884 - val_loss: 0.0754 - val_accuracy: 0.9777\n",
      "Epoch 107/1000\n",
      "784/784 [==============================] - 3s 4ms/step - loss: 0.0287 - accuracy: 0.9896 - val_loss: 0.0659 - val_accuracy: 0.9805\n",
      "Epoch 108/1000\n",
      "784/784 [==============================] - 3s 4ms/step - loss: 0.0306 - accuracy: 0.9892 - val_loss: 0.1004 - val_accuracy: 0.9754\n",
      "Epoch 109/1000\n",
      "784/784 [==============================] - 3s 4ms/step - loss: 0.0320 - accuracy: 0.9890 - val_loss: 0.0918 - val_accuracy: 0.9786\n",
      "Epoch 110/1000\n",
      "784/784 [==============================] - 3s 4ms/step - loss: 0.0331 - accuracy: 0.9888 - val_loss: 0.0737 - val_accuracy: 0.9805\n",
      "Epoch 111/1000\n",
      "784/784 [==============================] - 3s 4ms/step - loss: 0.0284 - accuracy: 0.9898 - val_loss: 0.0807 - val_accuracy: 0.9805\n",
      "Epoch 112/1000\n",
      "784/784 [==============================] - 3s 4ms/step - loss: 0.0313 - accuracy: 0.9888 - val_loss: 0.0671 - val_accuracy: 0.9800\n",
      "Epoch 113/1000\n"
     ]
    },
    {
     "name": "stdout",
     "output_type": "stream",
     "text": [
      "784/784 [==============================] - 3s 4ms/step - loss: 0.0314 - accuracy: 0.9896 - val_loss: 0.0962 - val_accuracy: 0.9781\n",
      "Epoch 114/1000\n",
      "784/784 [==============================] - 3s 4ms/step - loss: 0.0291 - accuracy: 0.9899 - val_loss: 0.0815 - val_accuracy: 0.9744\n",
      "Epoch 115/1000\n",
      "784/784 [==============================] - 3s 4ms/step - loss: 0.0302 - accuracy: 0.9894 - val_loss: 0.0855 - val_accuracy: 0.9809\n",
      "Epoch 116/1000\n",
      "784/784 [==============================] - 3s 4ms/step - loss: 0.0304 - accuracy: 0.9894 - val_loss: 0.0666 - val_accuracy: 0.9819\n",
      "Epoch 117/1000\n",
      "784/784 [==============================] - 3s 4ms/step - loss: 0.0303 - accuracy: 0.9891 - val_loss: 0.1058 - val_accuracy: 0.9809\n",
      "Epoch 118/1000\n",
      "784/784 [==============================] - 3s 4ms/step - loss: 0.0305 - accuracy: 0.9897 - val_loss: 0.1057 - val_accuracy: 0.9763\n",
      "Epoch 119/1000\n",
      "784/784 [==============================] - 3s 4ms/step - loss: 0.0290 - accuracy: 0.9892 - val_loss: 0.0865 - val_accuracy: 0.9749\n",
      "Epoch 120/1000\n",
      "784/784 [==============================] - 3s 4ms/step - loss: 0.0310 - accuracy: 0.9900 - val_loss: 0.0721 - val_accuracy: 0.9786\n",
      "Epoch 121/1000\n",
      "784/784 [==============================] - 3s 4ms/step - loss: 0.0326 - accuracy: 0.9886 - val_loss: 0.0689 - val_accuracy: 0.9823\n",
      "Epoch 122/1000\n",
      "784/784 [==============================] - 3s 4ms/step - loss: 0.0265 - accuracy: 0.9910 - val_loss: 0.0936 - val_accuracy: 0.9814\n",
      "Epoch 123/1000\n",
      "784/784 [==============================] - 3s 4ms/step - loss: 0.0271 - accuracy: 0.9904 - val_loss: 0.1510 - val_accuracy: 0.9596\n",
      "Epoch 124/1000\n",
      "784/784 [==============================] - 3s 4ms/step - loss: 0.0256 - accuracy: 0.9912 - val_loss: 0.0948 - val_accuracy: 0.9800\n",
      "Epoch 125/1000\n",
      "784/784 [==============================] - 3s 4ms/step - loss: 0.0258 - accuracy: 0.9910 - val_loss: 0.0736 - val_accuracy: 0.9744\n",
      "Epoch 126/1000\n",
      "784/784 [==============================] - 3s 4ms/step - loss: 0.0267 - accuracy: 0.9910 - val_loss: 0.1318 - val_accuracy: 0.9716\n",
      "Epoch 127/1000\n",
      "784/784 [==============================] - 3s 4ms/step - loss: 0.0280 - accuracy: 0.9909 - val_loss: 0.0732 - val_accuracy: 0.9795\n",
      "Epoch 128/1000\n",
      "784/784 [==============================] - 3s 4ms/step - loss: 0.0265 - accuracy: 0.9908 - val_loss: 0.0782 - val_accuracy: 0.9805\n",
      "Epoch 129/1000\n",
      "784/784 [==============================] - 3s 4ms/step - loss: 0.0276 - accuracy: 0.9901 - val_loss: 0.0998 - val_accuracy: 0.9809\n",
      "Epoch 130/1000\n",
      "784/784 [==============================] - 3s 4ms/step - loss: 0.0271 - accuracy: 0.9907 - val_loss: 0.0687 - val_accuracy: 0.9809\n",
      "Epoch 131/1000\n",
      "784/784 [==============================] - 3s 4ms/step - loss: 0.0250 - accuracy: 0.9916 - val_loss: 0.1024 - val_accuracy: 0.9735\n",
      "Epoch 132/1000\n",
      "784/784 [==============================] - 3s 4ms/step - loss: 0.0241 - accuracy: 0.9916 - val_loss: 0.0874 - val_accuracy: 0.9777\n",
      "Epoch 133/1000\n",
      "784/784 [==============================] - 3s 4ms/step - loss: 0.0270 - accuracy: 0.9906 - val_loss: 0.1040 - val_accuracy: 0.9800\n",
      "Epoch 134/1000\n",
      "784/784 [==============================] - 3s 4ms/step - loss: 0.0260 - accuracy: 0.9910 - val_loss: 0.0656 - val_accuracy: 0.9805\n",
      "Epoch 135/1000\n",
      "784/784 [==============================] - 3s 4ms/step - loss: 0.0239 - accuracy: 0.9919 - val_loss: 0.0743 - val_accuracy: 0.9777\n",
      "Epoch 136/1000\n",
      "784/784 [==============================] - 3s 4ms/step - loss: 0.0242 - accuracy: 0.9924 - val_loss: 0.0733 - val_accuracy: 0.9805\n",
      "Epoch 137/1000\n",
      "784/784 [==============================] - 3s 4ms/step - loss: 0.0289 - accuracy: 0.9900 - val_loss: 0.0826 - val_accuracy: 0.9819\n",
      "Epoch 138/1000\n",
      "784/784 [==============================] - 3s 4ms/step - loss: 0.0223 - accuracy: 0.9921 - val_loss: 0.0931 - val_accuracy: 0.9735\n",
      "Epoch 139/1000\n",
      "784/784 [==============================] - 3s 4ms/step - loss: 0.0275 - accuracy: 0.9917 - val_loss: 0.0774 - val_accuracy: 0.9819\n",
      "Epoch 140/1000\n",
      "784/784 [==============================] - 3s 4ms/step - loss: 0.0244 - accuracy: 0.9917 - val_loss: 0.0780 - val_accuracy: 0.9726\n",
      "Epoch 141/1000\n",
      "784/784 [==============================] - 3s 4ms/step - loss: 0.0234 - accuracy: 0.9920 - val_loss: 0.0787 - val_accuracy: 0.9800\n",
      "Epoch 142/1000\n",
      "784/784 [==============================] - 3s 4ms/step - loss: 0.0232 - accuracy: 0.9923 - val_loss: 0.0746 - val_accuracy: 0.9786\n",
      "Epoch 143/1000\n",
      "784/784 [==============================] - 3s 4ms/step - loss: 0.0211 - accuracy: 0.9927 - val_loss: 0.0959 - val_accuracy: 0.9809\n",
      "Epoch 144/1000\n",
      "784/784 [==============================] - 3s 4ms/step - loss: 0.0263 - accuracy: 0.9908 - val_loss: 0.0932 - val_accuracy: 0.9823\n",
      "Epoch 145/1000\n",
      "784/784 [==============================] - 3s 4ms/step - loss: 0.0300 - accuracy: 0.9904 - val_loss: 0.0884 - val_accuracy: 0.9823\n",
      "Epoch 146/1000\n",
      "784/784 [==============================] - 3s 4ms/step - loss: 0.0246 - accuracy: 0.9916 - val_loss: 0.0983 - val_accuracy: 0.9721\n",
      "Epoch 147/1000\n",
      "784/784 [==============================] - 3s 4ms/step - loss: 0.0235 - accuracy: 0.9923 - val_loss: 0.0954 - val_accuracy: 0.9805\n",
      "Epoch 148/1000\n",
      "784/784 [==============================] - 3s 4ms/step - loss: 0.0239 - accuracy: 0.9917 - val_loss: 0.0774 - val_accuracy: 0.9842\n",
      "Epoch 149/1000\n",
      "784/784 [==============================] - 3s 4ms/step - loss: 0.0228 - accuracy: 0.9927 - val_loss: 0.0875 - val_accuracy: 0.9814\n",
      "Epoch 150/1000\n",
      "784/784 [==============================] - 3s 4ms/step - loss: 0.0275 - accuracy: 0.9912 - val_loss: 0.0798 - val_accuracy: 0.9735\n",
      "Epoch 151/1000\n",
      "784/784 [==============================] - 3s 4ms/step - loss: 0.0249 - accuracy: 0.9913 - val_loss: 0.0838 - val_accuracy: 0.9847\n",
      "Epoch 152/1000\n",
      "784/784 [==============================] - 3s 4ms/step - loss: 0.0237 - accuracy: 0.9921 - val_loss: 0.0677 - val_accuracy: 0.9837\n",
      "Epoch 153/1000\n",
      "784/784 [==============================] - 3s 4ms/step - loss: 0.0297 - accuracy: 0.9902 - val_loss: 0.0880 - val_accuracy: 0.9800\n",
      "Epoch 154/1000\n",
      "784/784 [==============================] - 3s 4ms/step - loss: 0.0216 - accuracy: 0.9927 - val_loss: 0.0886 - val_accuracy: 0.9847\n",
      "Epoch 155/1000\n",
      "784/784 [==============================] - 3s 4ms/step - loss: 0.0222 - accuracy: 0.9924 - val_loss: 0.0878 - val_accuracy: 0.9823\n",
      "Epoch 156/1000\n",
      "784/784 [==============================] - 3s 4ms/step - loss: 0.0248 - accuracy: 0.9919 - val_loss: 0.0847 - val_accuracy: 0.9833\n",
      "Epoch 157/1000\n",
      "784/784 [==============================] - 3s 4ms/step - loss: 0.0281 - accuracy: 0.9904 - val_loss: 0.0772 - val_accuracy: 0.9819\n",
      "Epoch 158/1000\n",
      "784/784 [==============================] - 3s 4ms/step - loss: 0.0233 - accuracy: 0.9931 - val_loss: 0.0883 - val_accuracy: 0.9716\n",
      "Epoch 159/1000\n",
      "784/784 [==============================] - 3s 4ms/step - loss: 0.0293 - accuracy: 0.9907 - val_loss: 0.0829 - val_accuracy: 0.9740\n",
      "Epoch 160/1000\n",
      "784/784 [==============================] - 3s 4ms/step - loss: 0.0176 - accuracy: 0.9934 - val_loss: 0.1424 - val_accuracy: 0.9707\n",
      "Epoch 161/1000\n",
      "784/784 [==============================] - 3s 4ms/step - loss: 0.0185 - accuracy: 0.9938 - val_loss: 0.1082 - val_accuracy: 0.9823\n",
      "Epoch 162/1000\n",
      "784/784 [==============================] - 3s 4ms/step - loss: 0.0242 - accuracy: 0.9924 - val_loss: 0.1011 - val_accuracy: 0.9777\n",
      "Epoch 163/1000\n",
      "784/784 [==============================] - 3s 4ms/step - loss: 0.0245 - accuracy: 0.9912 - val_loss: 0.0787 - val_accuracy: 0.9837\n",
      "Epoch 164/1000\n",
      "784/784 [==============================] - 3s 4ms/step - loss: 0.0199 - accuracy: 0.9932 - val_loss: 0.0802 - val_accuracy: 0.9758\n",
      "Epoch 165/1000\n",
      "784/784 [==============================] - 3s 4ms/step - loss: 0.0217 - accuracy: 0.9932 - val_loss: 0.0810 - val_accuracy: 0.9865\n",
      "Epoch 166/1000\n",
      "784/784 [==============================] - 3s 4ms/step - loss: 0.0259 - accuracy: 0.9917 - val_loss: 0.0632 - val_accuracy: 0.9861\n",
      "Epoch 167/1000\n",
      "784/784 [==============================] - 3s 4ms/step - loss: 0.0221 - accuracy: 0.9923 - val_loss: 0.1129 - val_accuracy: 0.9800\n",
      "Epoch 168/1000\n",
      "784/784 [==============================] - 3s 4ms/step - loss: 0.0244 - accuracy: 0.9919 - val_loss: 0.0830 - val_accuracy: 0.9847\n",
      "Epoch 169/1000\n"
     ]
    },
    {
     "name": "stdout",
     "output_type": "stream",
     "text": [
      "784/784 [==============================] - 3s 4ms/step - loss: 0.0231 - accuracy: 0.9923 - val_loss: 0.1042 - val_accuracy: 0.9837\n",
      "Epoch 170/1000\n",
      "784/784 [==============================] - 3s 4ms/step - loss: 0.0248 - accuracy: 0.9915 - val_loss: 0.0788 - val_accuracy: 0.9809\n",
      "Epoch 171/1000\n",
      "784/784 [==============================] - 3s 4ms/step - loss: 0.0213 - accuracy: 0.9926 - val_loss: 0.1060 - val_accuracy: 0.9809\n",
      "Epoch 172/1000\n",
      "784/784 [==============================] - 3s 4ms/step - loss: 0.0255 - accuracy: 0.9923 - val_loss: 0.0799 - val_accuracy: 0.9847\n",
      "Epoch 173/1000\n",
      "784/784 [==============================] - 3s 4ms/step - loss: 0.0273 - accuracy: 0.9915 - val_loss: 0.1000 - val_accuracy: 0.9833\n",
      "Epoch 174/1000\n",
      "784/784 [==============================] - 3s 4ms/step - loss: 0.0215 - accuracy: 0.9926 - val_loss: 0.0999 - val_accuracy: 0.9842\n",
      "Epoch 175/1000\n",
      "784/784 [==============================] - 3s 4ms/step - loss: 0.0214 - accuracy: 0.9925 - val_loss: 0.1048 - val_accuracy: 0.9814\n",
      "Epoch 176/1000\n",
      "784/784 [==============================] - 3s 4ms/step - loss: 0.0260 - accuracy: 0.9912 - val_loss: 0.0807 - val_accuracy: 0.9809\n",
      "Epoch 177/1000\n",
      "784/784 [==============================] - 3s 4ms/step - loss: 0.0186 - accuracy: 0.9936 - val_loss: 0.0879 - val_accuracy: 0.9847\n",
      "Epoch 178/1000\n",
      "784/784 [==============================] - 3s 4ms/step - loss: 0.0214 - accuracy: 0.9931 - val_loss: 0.1041 - val_accuracy: 0.9791\n",
      "Epoch 179/1000\n",
      "784/784 [==============================] - 3s 4ms/step - loss: 0.0236 - accuracy: 0.9921 - val_loss: 0.0765 - val_accuracy: 0.9851\n",
      "Epoch 180/1000\n",
      "784/784 [==============================] - 3s 4ms/step - loss: 0.0205 - accuracy: 0.9932 - val_loss: 0.0862 - val_accuracy: 0.9856\n"
     ]
    }
   ],
   "source": [
    "history = model.fit(x_train, y_train, epochs=1000, validation_data=(x_val, y_val), batch_size = 32, callbacks=[early_stopping, mc])"
   ]
  },
  {
   "cell_type": "markdown",
   "id": "251d93c3",
   "metadata": {},
   "source": [
    "# 모델 평가"
   ]
  },
  {
   "cell_type": "code",
   "execution_count": 22,
   "id": "e681ac8c",
   "metadata": {},
   "outputs": [
    {
     "name": "stdout",
     "output_type": "stream",
     "text": [
      "269/269 - 0s - loss: 0.0690 - accuracy: 0.9834\n",
      "\n",
      "테스트 정확도: 0.9833739995956421\n"
     ]
    }
   ],
   "source": [
    "(test_loss, test_acc) = model.evaluate(x_test,  y_test, verbose=2)\n",
    "print('\\n테스트 정확도:', test_acc)"
   ]
  },
  {
   "cell_type": "code",
   "execution_count": 23,
   "id": "ece61d56",
   "metadata": {},
   "outputs": [
    {
     "data": {
      "image/png": "[encoded data removed]",
      "text/plain": [
       "<Figure size 864x288 with 2 Axes>"
      ]
     },
     "metadata": {},
     "output_type": "display_data"
    }
   ],
   "source": [
    "history.history.keys()\n",
    "\n",
    "plt.figure(figsize=(12,4))\n",
    "plt.subplot(1,2,1)\n",
    "plt.plot(history.history['loss'], 'b--', label='loss')\n",
    "plt.plot(history.history['val_loss'], 'r', label='val_loss')\n",
    "plt.xlabel('Epochs')\n",
    "plt.grid()\n",
    "plt.legend()\n",
    "\n",
    "plt.subplot(1,2,2)\n",
    "plt.plot(history.history['accuracy'], 'b--', label='accuracy')\n",
    "plt.plot(history.history['val_accuracy'], 'r', label='val_accuracy')\n",
    "plt.xlabel('Epochs')\n",
    "plt.grid()\n",
    "plt.legend()\n",
    "plt.text(1,1,f'test accuarcy: {test_acc}',fontsize=20)\n",
    "\n",
    "\n",
    "plt.show()"
   ]
  },
  {
   "cell_type": "code",
   "execution_count": 24,
   "id": "b9060a3d",
   "metadata": {},
   "outputs": [
    {
     "data": {
      "image/png": "[encoded data removed]",
      "text/plain": [
       "<Figure size 1080x1080 with 10 Axes>"
      ]
     },
     "metadata": {},
     "output_type": "display_data"
    }
   ],
   "source": [
    "import random\n",
    "\n",
    "random_list = random.sample(range(y_test.size), 5)\n",
    "\n",
    "fig = plt.figure(figsize=(15, 15))\n",
    "grid = ImageGrid(fig, 111, nrows_ncols=(1,5), axes_pad=0.05, share_all=True, cbar_mode='single')\n",
    "y_predicted = (model.predict(x_test) > 0.5).astype(\"int32\")\n",
    "\n",
    "i = 0\n",
    "for ax, im in zip(grid, [x_test[random_list[0]], x_test[random_list[1]], x_test[random_list[2]], x_test[random_list[3]], x_test[random_list[4]]]):\n",
    "    ground_truth = 'anomaly' if y_test[random_list[i]][0] == 1.0 else 'normal'\n",
    "    predicted = 'anomaly' if y_predicted[random_list[i]][0] == 1.0 else 'normal'\n",
    "    color = 'g' if ground_truth == predicted else 'r'\n",
    "    ax.set_title(f\"Index : {random_list[i]}\\n\\n\", loc='center')\n",
    "    ax.set_title(f\"Ground_truth : {ground_truth}\\nPredicted : {predicted}\", loc='left', color=color)\n",
    "    im = ax.imshow(im, cmap='rainbow', origin='lower', vmin=-1., vmax=1.)\n",
    "    i = i+1\n",
    "    \n",
    "grid[0].get_yaxis().set_ticks([])\n",
    "grid[0].get_xaxis().set_ticks([])\n",
    "plt.colorbar(im, cax=grid.cbar_axes[0])\n",
    "ax.cax.toggle_label(True)\n",
    "\n",
    "plt.show()"
   ]
  },
  {
   "cell_type": "code",
   "execution_count": 25,
   "id": "552819ed",
   "metadata": {},
   "outputs": [
    {
     "name": "stdout",
     "output_type": "stream",
     "text": [
      "정답: 8458개\n",
      "오답: 143개\n",
      "정답률: 0.98%\n"
     ]
    }
   ],
   "source": [
    "yes = []\n",
    "no = []\n",
    "y_predicted = (model.predict(x_test) > 0.5).astype(\"int32\")\n",
    "for i in range(len(y_test)):\n",
    "    if y_test[i] == y_predicted[i]:\n",
    "        yes.append(i)\n",
    "    else:\n",
    "        no.append(i)\n",
    "\n",
    "print(f\"정답: {len(yes)}개\")\n",
    "print(f\"오답: {len(no)}개\")\n",
    "\n",
    "print(f\"정답률: {round((len(yes)/len(y_test)),2)}%\")\n",
    "           "
   ]
  },
  {
   "cell_type": "code",
   "execution_count": null,
   "id": "c66e88eb",
   "metadata": {},
   "outputs": [],
   "source": []
  }
 ],
 "metadata": {
  "kernelspec": {
   "display_name": "cnn-autoencoder",
   "language": "python",
   "name": "cnn-autoencoder"
  },
  "language_info": {
   "codemirror_mode": {
    "name": "ipython",
    "version": 3
   },
   "file_extension": ".py",
   "mimetype": "text/x-python",
   "name": "python",
   "nbconvert_exporter": "python",
   "pygments_lexer": "ipython3",
   "version": "3.9.7"
  }
 },
 "nbformat": 4,
 "nbformat_minor": 5
}
