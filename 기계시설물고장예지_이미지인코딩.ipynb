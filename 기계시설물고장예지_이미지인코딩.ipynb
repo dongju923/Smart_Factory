{
 "cells": [
  {
   "cell_type": "code",
   "execution_count": 34,
   "id": "4afcee9e",
   "metadata": {},
   "outputs": [],
   "source": [
    "import pandas as pd\n",
    "import numpy as np\n",
    "import os\n",
    "import matplotlib.pyplot as plt\n",
    "from mpl_toolkits.axes_grid1 import ImageGrid\n",
    "from pyts.image import GramianAngularField\n",
    "from glob import glob"
   ]
  },
  {
   "cell_type": "code",
   "execution_count": 35,
   "id": "93d271d3",
   "metadata": {},
   "outputs": [],
   "source": [
    "path = \"기계시설물고장예지/current/2.2kW/R-EF-05/정상\""
   ]
  },
  {
   "cell_type": "code",
   "execution_count": 36,
   "id": "f579387c",
   "metadata": {},
   "outputs": [
    {
     "name": "stdout",
     "output_type": "stream",
     "text": [
      "65\n"
     ]
    }
   ],
   "source": [
    "af = []\n",
    "filelist = sorted(glob(f'{path}/*.csv')) \n",
    "for file in filelist:\n",
    "    af.append(file)\n",
    "print(len(af))"
   ]
  },
  {
   "cell_type": "code",
   "execution_count": 37,
   "id": "3db72fe7",
   "metadata": {
    "scrolled": false
   },
   "outputs": [],
   "source": [
    "list_of_df = [pd.read_csv(file,    # 파일명 설정\n",
    "                 encoding='utf-8',                                      # csv 파일 인코딩 방식 설정\n",
    "                 header=None,                                           # 헤더 없음 설정\n",
    "                 names=['Time', 'R', 'S', 'T', 'e'],                    # 열 이름 설정\n",
    "                 skiprows=9) for file in af]"
   ]
  },
  {
   "cell_type": "code",
   "execution_count": 38,
   "id": "5f70c4c5",
   "metadata": {
    "scrolled": false
   },
   "outputs": [],
   "source": [
    "df_list = []\n",
    "for i in list_of_df:\n",
    "    df = i.drop('e', axis=1)                                          \n",
    "    df1 = df.set_index('Time')\n",
    "    df_list.append(df1)\n",
    "df_list[0]"
   ]
  },
  {
   "cell_type": "code",
   "execution_count": 39,
   "id": "881f5320",
   "metadata": {},
   "outputs": [],
   "source": [
    "\"\"\"\n",
    "#######이미지 저장하기\n",
    "\n",
    "# 이미지경로\n",
    "img_path = \"img_result/2.2kW_R-EF-05_벨트정상\"\n",
    "\n",
    "# 사진을 저장할 폴더 생성\n",
    "if not os.path.exists(img_path):\n",
    "    os.mkdir(img_path)\n",
    "\"\"\""
   ]
  },
  {
   "cell_type": "code",
   "execution_count": 41,
   "id": "dc2b67f8",
   "metadata": {},
   "outputs": [
    {
     "name": "stdout",
     "output_type": "stream",
     "text": [
      "(2000, 3)\n",
      "(2000, 3, 3)\n"
     ]
    },
    {
     "data": {
      "image/png": "[encoded data removed]",
      "text/plain": [
       "<Figure size 720x360 with 6 Axes>"
      ]
     },
     "metadata": {
      "needs_background": "light"
     },
     "output_type": "display_data"
    }
   ],
   "source": [
    "value = df_list[0].values\n",
    "print(value.shape)\n",
    "gaf = GramianAngularField(method='difference')\n",
    "X_gaf = gaf.fit_transform(value)\n",
    "\n",
    "print(X_gaf.shape)\n",
    "\n",
    "\n",
    "fig = plt.figure(figsize=(10, 5))\n",
    "grid = ImageGrid(fig, 111, nrows_ncols=(1,3), axes_pad=0.05, share_all=True, cbar_mode='single')\n",
    "for i, ax in enumerate(grid):\n",
    "    im = ax.imshow(X_gaf[i], cmap='rainbow', origin='lower', vmin=-1., vmax=1.)\n",
    "grid[0].get_yaxis().set_ticks([])\n",
    "grid[0].get_xaxis().set_ticks([])\n",
    "plt.colorbar(im, cax=grid.cbar_axes[0])\n",
    "ax.cax.toggle_label(True)\n",
    "\n",
    "fig.suptitle(\"Gramian angular summation fields for the 50 time series in the \"\n",
    "             \"'GunPoint' dataset\", y=0.92)\n",
    "\n",
    "plt.show()"
   ]
  },
  {
   "cell_type": "code",
   "execution_count": null,
   "id": "7a01c4df",
   "metadata": {},
   "outputs": [],
   "source": []
  }
 ],
 "metadata": {
  "kernelspec": {
   "display_name": "cnn-autoencoder",
   "language": "python",
   "name": "cnn-autoencoder"
  },
  "language_info": {
   "codemirror_mode": {
    "name": "ipython",
    "version": 3
   },
   "file_extension": ".py",
   "mimetype": "text/x-python",
   "name": "python",
   "nbconvert_exporter": "python",
   "pygments_lexer": "ipython3",
   "version": "3.9.7"
  }
 },
 "nbformat": 4,
 "nbformat_minor": 5
}
