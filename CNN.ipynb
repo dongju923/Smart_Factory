{
 "cells": [
  {
   "cell_type": "code",
   "execution_count": 10,
   "id": "1e9646c3",
   "metadata": {},
   "outputs": [
    {
     "ename": "SyntaxError",
     "evalue": "invalid syntax (278154748.py, line 12)",
     "output_type": "error",
     "traceback": [
      "\u001b[0;36m  File \u001b[0;32m\"/tmp/ipykernel_533899/278154748.py\"\u001b[0;36m, line \u001b[0;32m12\u001b[0m\n\u001b[0;31m    device = torch.device(if torch.cuda.is_available() else \"cpu\")\u001b[0m\n\u001b[0m                          ^\u001b[0m\n\u001b[0;31mSyntaxError\u001b[0m\u001b[0;31m:\u001b[0m invalid syntax\n"
     ]
    }
   ],
   "source": [
    "import matplotlib\n",
    "import matplotlib.pyplot as plt\n",
    "import torch\n",
    "import torch.nn as nn\n",
    "import torch.optim as optim\n",
    "import os\n",
    "import torchvision\n",
    "from torchvision import datasets, models, transforms\n",
    "import numpy as np\n",
    "import time\n",
    "\n",
    "device = torch.device(\"cuda:0\" if torch.cuda.is_available() else \"cpu\")\n",
    "device"
   ]
  },
  {
   "cell_type": "code",
   "execution_count": 2,
   "id": "0094f625",
   "metadata": {},
   "outputs": [
    {
     "name": "stdout",
     "output_type": "stream",
     "text": [
      "학습 데이터셋 크기: 451\n",
      "테스트 데이터셋 크기: 10\n",
      "클래스: ['.ipynb_checkpoints', '정상', '축정렬불량']\n"
     ]
    }
   ],
   "source": [
    "# 데이터셋을 불러올 때 사용할 변형(transformation) 객체 정의\n",
    "transforms_train = transforms.Compose([\n",
    "    transforms.Resize((224, 224)),\n",
    "    transforms.RandomHorizontalFlip(), # 데이터 증진(augmentation)\n",
    "    transforms.ToTensor(),\n",
    "    transforms.Normalize([0.485, 0.456, 0.406], [0.229, 0.224, 0.225]) # 정규화(normalization)\n",
    "])\n",
    "\n",
    "transforms_test = transforms.Compose([\n",
    "    transforms.Resize((224, 224)),\n",
    "    transforms.ToTensor(),\n",
    "    transforms.Normalize([0.485, 0.456, 0.406], [0.229, 0.224, 0.225])\n",
    "])\n",
    "\n",
    "data_dir = './datasets'\n",
    "train_datasets = datasets.ImageFolder(os.path.join(data_dir, 'train'), transforms_train)\n",
    "test_datasets = datasets.ImageFolder(os.path.join(data_dir, 'test'), transforms_test)\n",
    "\n",
    "train_dataloader = torch.utils.data.DataLoader(train_datasets, batch_size=4, shuffle=True, num_workers=4)\n",
    "test_dataloader = torch.utils.data.DataLoader(test_datasets, batch_size=4, shuffle=True, num_workers=4)\n",
    "\n",
    "print('학습 데이터셋 크기:', len(train_datasets))\n",
    "print('테스트 데이터셋 크기:', len(test_datasets))\n",
    "\n",
    "class_names = train_datasets.classes\n",
    "print('클래스:', class_names)"
   ]
  },
  {
   "cell_type": "code",
   "execution_count": 3,
   "id": "f4998006",
   "metadata": {},
   "outputs": [
    {
     "name": "stderr",
     "output_type": "stream",
     "text": [
      "/media/sda1/anaconda3/envs/cnn-autoencoder/lib/python3.9/site-packages/IPython/core/pylabtools.py:151: UserWarning: Glyph 52629 (\\N{HANGUL SYLLABLE CUG}) missing from current font.\n",
      "  fig.canvas.print_figure(bytes_io, **kw)\n",
      "/media/sda1/anaconda3/envs/cnn-autoencoder/lib/python3.9/site-packages/IPython/core/pylabtools.py:151: UserWarning: Glyph 51221 (\\N{HANGUL SYLLABLE JEONG}) missing from current font.\n",
      "  fig.canvas.print_figure(bytes_io, **kw)\n",
      "/media/sda1/anaconda3/envs/cnn-autoencoder/lib/python3.9/site-packages/IPython/core/pylabtools.py:151: UserWarning: Glyph 47148 (\\N{HANGUL SYLLABLE RYEOL}) missing from current font.\n",
      "  fig.canvas.print_figure(bytes_io, **kw)\n",
      "/media/sda1/anaconda3/envs/cnn-autoencoder/lib/python3.9/site-packages/IPython/core/pylabtools.py:151: UserWarning: Glyph 48520 (\\N{HANGUL SYLLABLE BUL}) missing from current font.\n",
      "  fig.canvas.print_figure(bytes_io, **kw)\n",
      "/media/sda1/anaconda3/envs/cnn-autoencoder/lib/python3.9/site-packages/IPython/core/pylabtools.py:151: UserWarning: Glyph 47049 (\\N{HANGUL SYLLABLE RYANG}) missing from current font.\n",
      "  fig.canvas.print_figure(bytes_io, **kw)\n",
      "/media/sda1/anaconda3/envs/cnn-autoencoder/lib/python3.9/site-packages/IPython/core/pylabtools.py:151: UserWarning: Glyph 49345 (\\N{HANGUL SYLLABLE SANG}) missing from current font.\n",
      "  fig.canvas.print_figure(bytes_io, **kw)\n"
     ]
    },
    {
     "data": {
      "image/png": "[encoded data removed]",
      "text/plain": [
       "<Figure size 432x288 with 1 Axes>"
      ]
     },
     "metadata": {
      "needs_background": "light"
     },
     "output_type": "display_data"
    }
   ],
   "source": [
    "def imshow(input, title):\n",
    "    # torch.Tensor를 numpy 객체로 변환\n",
    "    input = input.numpy().transpose((1, 2, 0))\n",
    "    # 이미지 정규화 해제하기\n",
    "    mean = np.array([0.485, 0.456, 0.406])\n",
    "    std = np.array([0.229, 0.224, 0.225])\n",
    "    input = std * input + mean\n",
    "    input = np.clip(input, 0, 1)\n",
    "    # 이미지 출력\n",
    "    plt.imshow(input)\n",
    "    plt.title(title)\n",
    "    plt.show()\n",
    "\n",
    "\n",
    "# 학습 데이터를 배치 단위로 불러오기\n",
    "iterator = iter(train_dataloader)\n",
    "\n",
    "# 현재 배치를 이용해 격자 형태의 이미지를 만들어 시각화\n",
    "inputs, classes = next(iterator)\n",
    "out = torchvision.utils.make_grid(inputs)\n",
    "imshow(out, title=[class_names[x] for x in classes])"
   ]
  },
  {
   "cell_type": "code",
   "execution_count": 4,
   "id": "fe3ea1dd",
   "metadata": {},
   "outputs": [],
   "source": [
    "model = models.resnet34(pretrained=True)\n",
    "num_features = model.fc.in_features\n",
    "\n",
    "model.fc = nn.Linear(num_features, 3)\n",
    "model = model.to(device)\n",
    "\n",
    "criterion = nn.CrossEntropyLoss()\n",
    "optimizer = optim.SGD(model.parameters(), lr=0.001, momentum=0.9)"
   ]
  },
  {
   "cell_type": "code",
   "execution_count": 5,
   "id": "f9f552ab",
   "metadata": {},
   "outputs": [
    {
     "name": "stdout",
     "output_type": "stream",
     "text": [
      "#0 Loss: 0.6557 Acc: 75.6098% Time: 34.6335s\n",
      "#1 Loss: 0.8064 Acc: 69.6231% Time: 70.6647s\n",
      "#2 Loss: 0.6297 Acc: 76.4967% Time: 106.8774s\n",
      "#3 Loss: 0.5846 Acc: 77.8270% Time: 143.1779s\n",
      "#4 Loss: 0.5479 Acc: 79.3792% Time: 177.5076s\n",
      "#5 Loss: 0.5675 Acc: 77.1619% Time: 212.9999s\n",
      "#6 Loss: 0.5237 Acc: 79.3792% Time: 248.2517s\n",
      "#7 Loss: 0.5424 Acc: 79.6009% Time: 283.7851s\n",
      "#8 Loss: 0.5329 Acc: 79.8226% Time: 320.8497s\n",
      "#9 Loss: 0.5255 Acc: 81.1530% Time: 356.0933s\n",
      "#10 Loss: 0.5368 Acc: 78.4922% Time: 391.8777s\n",
      "#11 Loss: 0.5694 Acc: 78.2705% Time: 429.4328s\n",
      "#12 Loss: 0.5850 Acc: 79.8226% Time: 464.0401s\n",
      "#13 Loss: 0.5053 Acc: 80.4878% Time: 501.0242s\n",
      "#14 Loss: 0.4817 Acc: 80.9313% Time: 536.9992s\n",
      "#15 Loss: 0.4961 Acc: 79.6009% Time: 571.6836s\n",
      "#16 Loss: 0.4997 Acc: 80.9313% Time: 608.0582s\n",
      "#17 Loss: 0.4939 Acc: 82.0399% Time: 643.8337s\n",
      "#18 Loss: 0.4658 Acc: 80.4878% Time: 679.0846s\n",
      "#19 Loss: 0.4973 Acc: 79.8226% Time: 712.7771s\n",
      "#20 Loss: 0.4693 Acc: 82.2616% Time: 750.0653s\n",
      "#21 Loss: 0.4696 Acc: 80.0443% Time: 786.0913s\n",
      "#22 Loss: 0.4638 Acc: 81.5965% Time: 820.3841s\n",
      "#23 Loss: 0.5119 Acc: 80.4878% Time: 857.1820s\n",
      "#24 Loss: 0.4676 Acc: 81.5965% Time: 892.4153s\n",
      "#25 Loss: 0.4505 Acc: 81.3747% Time: 927.5002s\n",
      "#26 Loss: 0.4537 Acc: 81.8182% Time: 965.3363s\n",
      "#27 Loss: 0.4685 Acc: 79.1574% Time: 1000.1432s\n",
      "#28 Loss: 0.5107 Acc: 78.7140% Time: 1037.2654s\n",
      "#29 Loss: 0.4723 Acc: 80.4878% Time: 1072.7962s\n",
      "#30 Loss: 0.5884 Acc: 76.0532% Time: 1109.3704s\n",
      "#31 Loss: 0.4616 Acc: 80.9313% Time: 1144.6497s\n",
      "#32 Loss: 0.4282 Acc: 82.2616% Time: 1180.2747s\n",
      "#33 Loss: 0.4966 Acc: 82.9268% Time: 1216.2069s\n",
      "#34 Loss: 0.4264 Acc: 82.0399% Time: 1252.5159s\n",
      "#35 Loss: 0.5012 Acc: 79.1574% Time: 1287.2098s\n",
      "#36 Loss: 0.4292 Acc: 81.1530% Time: 1324.8479s\n",
      "#37 Loss: 0.4335 Acc: 82.2616% Time: 1361.9821s\n",
      "#38 Loss: 0.4377 Acc: 81.5965% Time: 1398.6281s\n",
      "#39 Loss: 0.4313 Acc: 81.1530% Time: 1434.8042s\n",
      "#40 Loss: 0.4218 Acc: 83.3703% Time: 1469.9075s\n",
      "#41 Loss: 0.4712 Acc: 80.4878% Time: 1506.6247s\n",
      "#42 Loss: 0.4586 Acc: 80.4878% Time: 1544.1538s\n",
      "#43 Loss: 0.4451 Acc: 82.0399% Time: 1580.1420s\n",
      "#44 Loss: 0.4207 Acc: 82.9268% Time: 1616.3230s\n",
      "#45 Loss: 0.4127 Acc: 83.5920% Time: 1650.8712s\n",
      "#46 Loss: 0.4364 Acc: 80.4878% Time: 1687.3920s\n",
      "#47 Loss: 0.4123 Acc: 82.0399% Time: 1723.5015s\n",
      "#48 Loss: 0.4030 Acc: 82.7051% Time: 1759.3618s\n",
      "#49 Loss: 0.4161 Acc: 82.7051% Time: 1795.1726s\n"
     ]
    }
   ],
   "source": [
    "num_epochs = 50\n",
    "model.train()\n",
    "start_time = time.time()\n",
    "\n",
    "\n",
    "for epoch in range(num_epochs):\n",
    "    running_loss = 0.\n",
    "    running_corrects = 0\n",
    "\n",
    "    # 배치 단위로 학습 데이터 불러오기\n",
    "    for inputs, labels in train_dataloader:\n",
    "        inputs = inputs.to(device)\n",
    "        labels = labels.to(device)\n",
    "\n",
    "        # 모델에 입력(forward)하고 결과 계산\n",
    "        optimizer.zero_grad()\n",
    "        outputs = model(inputs)\n",
    "        _, preds = torch.max(outputs, 1)\n",
    "        loss = criterion(outputs, labels)\n",
    "\n",
    "        # 역전파를 통해 기울기(gradient) 계산 및 학습 진행\n",
    "        loss.backward()\n",
    "        optimizer.step()\n",
    "\n",
    "        running_loss += loss.item() * inputs.size(0)\n",
    "        running_corrects += torch.sum(preds == labels.data)\n",
    "\n",
    "    epoch_loss = running_loss / len(train_datasets)\n",
    "    epoch_acc = running_corrects / len(train_datasets) * 100.\n",
    "\n",
    "\n",
    "    print('#{} Loss: {:.4f} Acc: {:.4f}% Time: {:.4f}s'.format(epoch, epoch_loss, epoch_acc, time.time() - start_time))"
   ]
  },
  {
   "cell_type": "code",
   "execution_count": 6,
   "id": "702501fe",
   "metadata": {},
   "outputs": [
    {
     "name": "stdout",
     "output_type": "stream",
     "text": [
      "[예측 결과: 정상] (실제 정답: 정상)\n"
     ]
    },
    {
     "name": "stderr",
     "output_type": "stream",
     "text": [
      "/media/sda1/anaconda3/envs/cnn-autoencoder/lib/python3.9/site-packages/IPython/core/pylabtools.py:151: UserWarning: Glyph 50696 (\\N{HANGUL SYLLABLE YE}) missing from current font.\n",
      "  fig.canvas.print_figure(bytes_io, **kw)\n",
      "/media/sda1/anaconda3/envs/cnn-autoencoder/lib/python3.9/site-packages/IPython/core/pylabtools.py:151: UserWarning: Glyph 52769 (\\N{HANGUL SYLLABLE CEUG}) missing from current font.\n",
      "  fig.canvas.print_figure(bytes_io, **kw)\n",
      "/media/sda1/anaconda3/envs/cnn-autoencoder/lib/python3.9/site-packages/IPython/core/pylabtools.py:151: UserWarning: Glyph 44208 (\\N{HANGUL SYLLABLE GYEOL}) missing from current font.\n",
      "  fig.canvas.print_figure(bytes_io, **kw)\n",
      "/media/sda1/anaconda3/envs/cnn-autoencoder/lib/python3.9/site-packages/IPython/core/pylabtools.py:151: UserWarning: Glyph 44284 (\\N{HANGUL SYLLABLE GWA}) missing from current font.\n",
      "  fig.canvas.print_figure(bytes_io, **kw)\n"
     ]
    },
    {
     "data": {
      "image/png": "[encoded data removed]",
      "text/plain": [
       "<Figure size 432x288 with 1 Axes>"
      ]
     },
     "metadata": {
      "needs_background": "light"
     },
     "output_type": "display_data"
    },
    {
     "name": "stdout",
     "output_type": "stream",
     "text": [
      "[예측 결과: 축정렬불량] (실제 정답: 축정렬불량)\n"
     ]
    },
    {
     "data": {
      "image/png": "[encoded data removed]",
      "text/plain": [
       "<Figure size 432x288 with 1 Axes>"
      ]
     },
     "metadata": {
      "needs_background": "light"
     },
     "output_type": "display_data"
    },
    {
     "name": "stdout",
     "output_type": "stream",
     "text": [
      "[예측 결과: 축정렬불량] (실제 정답: 정상)\n"
     ]
    },
    {
     "data": {
      "image/png": "[encoded data removed]",
      "text/plain": [
       "<Figure size 432x288 with 1 Axes>"
      ]
     },
     "metadata": {
      "needs_background": "light"
     },
     "output_type": "display_data"
    },
    {
     "name": "stdout",
     "output_type": "stream",
     "text": [
      "[Test Phase] Loss: 0.8754 Acc: 60.0000% Time: 0.6401s\n"
     ]
    }
   ],
   "source": [
    "model.eval()\n",
    "start_time = time.time()\n",
    "\n",
    "with torch.no_grad():\n",
    "    running_loss = 0.\n",
    "    running_corrects = 0\n",
    "\n",
    "    for inputs, labels in test_dataloader:\n",
    "        inputs = inputs.to(device)\n",
    "        labels = labels.to(device)\n",
    "\n",
    "        outputs = model(inputs)\n",
    "        _, preds = torch.max(outputs, 1)\n",
    "        loss = criterion(outputs, labels)\n",
    "\n",
    "        running_loss += loss.item() * inputs.size(0)\n",
    "        running_corrects += torch.sum(preds == labels.data)\n",
    "\n",
    "        # 한 배치의 첫 번째 이미지에 대하여 결과 시각화\n",
    "        print(f'[예측 결과: {class_names[preds[0]]}] (실제 정답: {class_names[labels.data[0]]})')\n",
    "        imshow(inputs.cpu().data[0], title='예측 결과: ' + class_names[preds[0]])\n",
    "\n",
    "    epoch_loss = running_loss / len(test_datasets)\n",
    "    epoch_acc = running_corrects / len(test_datasets) * 100.\n",
    "    print('[Test Phase] Loss: {:.4f} Acc: {:.4f}% Time: {:.4f}s'.format(epoch_loss, epoch_acc, time.time() - start_time))"
   ]
  }
 ],
 "metadata": {
  "kernelspec": {
   "display_name": "cnn-autoencoder",
   "language": "python",
   "name": "cnn-autoencoder"
  },
  "language_info": {
   "codemirror_mode": {
    "name": "ipython",
    "version": 3
   },
   "file_extension": ".py",
   "mimetype": "text/x-python",
   "name": "python",
   "nbconvert_exporter": "python",
   "pygments_lexer": "ipython3",
   "version": "3.9.7"
  }
 },
 "nbformat": 4,
 "nbformat_minor": 5
}
