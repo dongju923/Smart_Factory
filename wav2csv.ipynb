{
 "cells": [
  {
   "cell_type": "code",
   "execution_count": 13,
   "id": "0c6f9a55",
   "metadata": {},
   "outputs": [],
   "source": [
    "# 모듈 임포트\n",
    "import sys,os,os.path\n",
    "from scipy.io import wavfile\n",
    "import pandas as pd"
   ]
  },
  {
   "cell_type": "code",
   "execution_count": 14,
   "id": "83783d48",
   "metadata": {
    "scrolled": false
   },
   "outputs": [],
   "source": [
    "# 폴더 내 파일 개수 반환\n",
    "def get_files_count(path):\n",
    "    count = 0    \n",
    "    for path in os.listdir(path):\n",
    "        count += 1\n",
    "    return count"
   ]
  },
  {
   "cell_type": "code",
   "execution_count": 15,
   "id": "b7c70932",
   "metadata": {},
   "outputs": [],
   "source": [
    "\"\"\"경로 변경 필수!!!!!!\"\"\"\n",
    "csv_path = \"/media/sda1/CNN-AutoEncoder(안동주님)/6dB_valve_id00_normal_csv\"\n",
    "# .csv파일을 저장할 폴더 생성\n",
    "if not os.path.exists(csv_path):\n",
    "    os.mkdir(csv_path)"
   ]
  },
  {
   "cell_type": "code",
   "execution_count": 16,
   "id": "7d9afa19",
   "metadata": {},
   "outputs": [
    {
     "name": "stdout",
     "output_type": "stream",
     "text": [
      "/media/sda1/CNN-AutoEncoder(안동주님)/6dB_valve_id00_normal_csv->멀티채널 저장 완료\n",
      "/media/sda1/CNN-AutoEncoder(안동주님)/6dB_valve_id00_normal_csv->멀티채널 저장 완료\n",
      "/media/sda1/CNN-AutoEncoder(안동주님)/6dB_valve_id00_normal_csv->멀티채널 저장 완료\n",
      "/media/sda1/CNN-AutoEncoder(안동주님)/6dB_valve_id00_normal_csv->멀티채널 저장 완료\n",
      "/media/sda1/CNN-AutoEncoder(안동주님)/6dB_valve_id00_normal_csv->멀티채널 저장 완료\n",
      "/media/sda1/CNN-AutoEncoder(안동주님)/6dB_valve_id00_normal_csv->멀티채널 저장 완료\n",
      "/media/sda1/CNN-AutoEncoder(안동주님)/6dB_valve_id00_normal_csv->멀티채널 저장 완료\n",
      "/media/sda1/CNN-AutoEncoder(안동주님)/6dB_valve_id00_normal_csv->멀티채널 저장 완료\n",
      "/media/sda1/CNN-AutoEncoder(안동주님)/6dB_valve_id00_normal_csv->멀티채널 저장 완료\n",
      "/media/sda1/CNN-AutoEncoder(안동주님)/6dB_valve_id00_normal_csv->멀티채널 저장 완료\n"
     ]
    }
   ],
   "source": [
    "\"\"\"경로 변경 필수!!!!!!\"\"\"\n",
    "data_path = \"/media/sda1/dataset/MIMII/6_dB/valve/id_00/normal\"\n",
    "# 경로 내 모든 파일의 개수만큼 .csv파일 생성\n",
    "for i in range(get_files_count(data_path)):\n",
    "    # .wav파일경로입력\n",
    "    if i < 10:\n",
    "        samrate, data = wavfile.read(f\"{data_path}/0000000{i}.wav\")\n",
    "        wavData = pd.DataFrame(data)\n",
    "        if len(wavData.columns) == 2:    # 채널이 2개라면\n",
    "            wavData.columns = ['R', 'L']\n",
    "            stereo_R = pd.DataFrame(wavData['R'])\n",
    "            stereo_L = pd.DataFrame(wavData['L'])\n",
    "            stereo_R.to_csv(f\"{csv_path}/_Output_stereo_R.csv\", mode='w')\n",
    "            stereo_L.to_csv(f\"{csv_path}/_Output_stereo_L.csv\", mode='w')\n",
    "            # wavData.to_csv(\"Output_stereo_RL.csv\", mode='w')\n",
    "            print('스테레오 R,L 저장 완료')\n",
    "        elif len(wavData.columns) == 1:   #채널이 1개라면\n",
    "            wavData.columns = ['M']\n",
    "            wavData.to_csv(f\"{csv_path}/_Output_mono.csv\", mode='w')\n",
    "            print('모노 저장 완료')\n",
    "        else:\n",
    "            wavData.to_csv(f\"{csv_path}/0000000{i}.csv\", mode='w')\n",
    "            print(f'{csv_path}->멀티채널 저장 완료')\n",
    "    \"\"\"\n",
    "    elif i < 100:\n",
    "        samrate, data = wavfile.read(f\"/media/sda1/dataset/MIMII/6_dB/fan/id_00/abnormal/000000{i}.wav\")\n",
    "        wavData = pd.DataFrame(data)\n",
    "        if len(wavData.columns) == 2:    # 채널이 2개라면\n",
    "            wavData.columns = ['R', 'L']\n",
    "            stereo_R = pd.DataFrame(wavData['R'])\n",
    "            stereo_L = pd.DataFrame(wavData['L'])\n",
    "            stereo_R.to_csv(\"/media/sda1/CNN-AutoEncoder(안동주님)/mimii_csv/_Output_stereo_R.csv\", mode='w')\n",
    "            stereo_L.to_csv(\"/media/sda1/CNN-AutoEncoder(안동주님)/mimii_csv/_Output_stereo_L.csv\", mode='w')\n",
    "            # wavData.to_csv(\"Output_stereo_RL.csv\", mode='w')\n",
    "            print('스테레오 R,L 저장 완료')\n",
    "        elif len(wavData.columns) == 1:   #채널이 1개라면\n",
    "            wavData.columns = ['M']\n",
    "            wavData.to_csv(\"/media/sda1/CNN-AutoEncoder(안동주님)/0dB_fan_id00/_Output_mono.csv\", mode='w')\n",
    "            print('모노 저장 완료')\n",
    "        else:\n",
    "            wavData.to_csv(f\"/media/sda1/CNN-AutoEncoder(안동주님)/0dB_fan_id00/{i}.csv\", mode='w')\n",
    "            print('멀티채널 저장 완료')\n",
    "    elif i < 1000:\n",
    "        samrate, data = wavfile.read(f\"/media/sda1/dataset/MIMII/6_dB/fan/id_00/abnormal/00000{i}.wav\")\n",
    "        wavData = pd.DataFrame(data)\n",
    "        if len(wavData.columns) == 2:    # 채널이 2개라면\n",
    "            wavData.columns = ['R', 'L']\n",
    "            stereo_R = pd.DataFrame(wavData['R'])\n",
    "            stereo_L = pd.DataFrame(wavData['L'])\n",
    "            stereo_R.to_csv(\"/media/sda1/CNN-AutoEncoder(안동주님)/mimii_csv/_Output_stereo_R.csv\", mode='w')\n",
    "            stereo_L.to_csv(\"/media/sda1/CNN-AutoEncoder(안동주님)/mimii_csv/_Output_stereo_L.csv\", mode='w')\n",
    "            # wavData.to_csv(\"Output_stereo_RL.csv\", mode='w')\n",
    "            print('스테레오 R,L 저장 완료')\n",
    "        elif len(wavData.columns) == 1:   #채널이 1개라면\n",
    "            wavData.columns = ['M']\n",
    "            wavData.to_csv(\"/media/sda1/CNN-AutoEncoder(안동주님)/0dB_fan_id00/_Output_mono.csv\", mode='w')\n",
    "            print('모노 저장 완료')\n",
    "        else:\n",
    "            wavData.to_csv(f\"/media/sda1/CNN-AutoEncoder(안동주님)/0dB_fan_id00/{i}.csv\", mode='w')\n",
    "            print('멀티채널 저장 완료')\n",
    "    \"\"\""
   ]
  }
 ],
 "metadata": {
  "kernelspec": {
   "display_name": "tf-2.5",
   "language": "python",
   "name": "tf-2.5"
  },
  "language_info": {
   "codemirror_mode": {
    "name": "ipython",
    "version": 3
   },
   "file_extension": ".py",
   "mimetype": "text/x-python",
   "name": "python",
   "nbconvert_exporter": "python",
   "pygments_lexer": "ipython3",
   "version": "3.9.7"
  }
 },
 "nbformat": 4,
 "nbformat_minor": 5
}
