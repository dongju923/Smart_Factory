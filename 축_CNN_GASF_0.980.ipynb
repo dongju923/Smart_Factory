{
 "cells": [
  {
   "cell_type": "markdown",
   "id": "480349eb",
   "metadata": {},
   "source": [
    "# 모듈 임포트"
   ]
  },
  {
   "cell_type": "code",
   "execution_count": 1,
   "id": "6719ddf1",
   "metadata": {},
   "outputs": [],
   "source": [
    "import pandas as pd\n",
    "import numpy as np\n",
    "import os\n",
    "import matplotlib.pyplot as plt\n",
    "from mpl_toolkits.axes_grid1 import ImageGrid\n",
    "from pyts.image import GramianAngularField\n",
    "from glob import glob"
   ]
  },
  {
   "cell_type": "markdown",
   "id": "10a3a45a",
   "metadata": {},
   "source": [
    "# 폴더경로 가져오기"
   ]
  },
  {
   "cell_type": "code",
   "execution_count": 2,
   "id": "93d271d3",
   "metadata": {},
   "outputs": [],
   "source": [
    "normal_path = \"기계시설물고장예지/current/2.2kW/L-DSF-01/정상\"\n",
    "abnormal_path = \"기계시설물고장예지/current/2.2kW/L-DSF-01/축정렬불량\""
   ]
  },
  {
   "cell_type": "markdown",
   "id": "75ca7d9e",
   "metadata": {},
   "source": [
    "# 폴더 내 csv파일 추출"
   ]
  },
  {
   "cell_type": "code",
   "execution_count": 3,
   "id": "f579387c",
   "metadata": {},
   "outputs": [
    {
     "name": "stdout",
     "output_type": "stream",
     "text": [
      "97\n",
      "364\n"
     ]
    }
   ],
   "source": [
    "# 정상\n",
    "normal_files = []\n",
    "filelist = sorted(glob(f'{normal_path}/*.csv')) \n",
    "for file in filelist:\n",
    "    normal_files.append(file)\n",
    "print(len(normal_files))\n",
    "\n",
    "# 비정상\n",
    "abnormal_files = []\n",
    "filelist = sorted(glob(f'{abnormal_path}/*.csv')) \n",
    "for file in filelist:\n",
    "    abnormal_files.append(file)\n",
    "print(len(abnormal_files))"
   ]
  },
  {
   "cell_type": "markdown",
   "id": "fd11420f",
   "metadata": {},
   "source": [
    "# 데이터 전처리"
   ]
  },
  {
   "cell_type": "code",
   "execution_count": 4,
   "id": "3db72fe7",
   "metadata": {
    "scrolled": false
   },
   "outputs": [],
   "source": [
    "# 정상\n",
    "normal_list_of_df = [pd.read_csv(file,    # 파일명 설정\n",
    "                 encoding='utf-8',                                      # csv 파일 인코딩 방식 설정\n",
    "                 header=None,                                           # 헤더 없음 설정\n",
    "                 names=['Time', 'R', 'S', 'T', 'e'],                    # 열 이름 설정\n",
    "                 skiprows=9) for file in normal_files]\n",
    "\n",
    "# 비정상\n",
    "abnormal_list_of_df = [pd.read_csv(file,    # 파일명 설정\n",
    "                 encoding='utf-8',                                      # csv 파일 인코딩 방식 설정\n",
    "                 header=None,                                           # 헤더 없음 설정\n",
    "                 names=['Time', 'R', 'S', 'T', 'e'],                    # 열 이름 설정\n",
    "                 skiprows=9) for file in abnormal_files]"
   ]
  },
  {
   "cell_type": "code",
   "execution_count": 5,
   "id": "5f70c4c5",
   "metadata": {
    "scrolled": false
   },
   "outputs": [
    {
     "name": "stdout",
     "output_type": "stream",
     "text": [
      "97\n",
      "364\n"
     ]
    }
   ],
   "source": [
    "# 정상\n",
    "normal_df_list = []\n",
    "for i in normal_list_of_df:\n",
    "    df = i.drop('e', axis=1)                                          \n",
    "    df1 = df.set_index('Time')\n",
    "    normal_df_list.append(df1)\n",
    "\n",
    "# 비정상\n",
    "abnormal_df_list = []\n",
    "for i in abnormal_list_of_df:\n",
    "    df = i.drop('e', axis=1)                                          \n",
    "    df1 = df.set_index('Time')\n",
    "    abnormal_df_list.append(df1)\n",
    "    \n",
    "print(len(normal_df_list))\n",
    "print(len(abnormal_df_list))\n"
   ]
  },
  {
   "cell_type": "markdown",
   "id": "48ba4aa0",
   "metadata": {},
   "source": [
    "# 전처리된 데이터를 하나로 합침"
   ]
  },
  {
   "cell_type": "code",
   "execution_count": 6,
   "id": "4b515bb7",
   "metadata": {},
   "outputs": [
    {
     "name": "stdout",
     "output_type": "stream",
     "text": [
      "(194000, 3)\n",
      "(728000, 3)\n"
     ]
    }
   ],
   "source": [
    "# 정상 concat\n",
    "normal_concat = pd.concat(normal_df_list)\n",
    "print(normal_concat.shape)\n",
    "# 비정상 concat\n",
    "abnormal_concat = pd.concat(abnormal_df_list)\n",
    "print(abnormal_concat.shape)"
   ]
  },
  {
   "cell_type": "markdown",
   "id": "940b55bd",
   "metadata": {},
   "source": [
    "# 데이터 이미지화(정상)"
   ]
  },
  {
   "cell_type": "code",
   "execution_count": 7,
   "id": "a35b2737",
   "metadata": {},
   "outputs": [
    {
     "name": "stdout",
     "output_type": "stream",
     "text": [
      "(194000, 3)\n",
      "(3880, 50, 3)\n"
     ]
    }
   ],
   "source": [
    "# 정상\n",
    "normal_value = normal_concat.values\n",
    "print(normal_value.shape)\n",
    "nv = np.array(np.vsplit(normal_value, 3880))\n",
    "print(nv.shape)\n"
   ]
  },
  {
   "cell_type": "code",
   "execution_count": 72,
   "id": "aba1a880",
   "metadata": {
    "scrolled": true
   },
   "outputs": [
    {
     "name": "stdout",
     "output_type": "stream",
     "text": [
      "(3880, 50, 50, 3)\n"
     ]
    }
   ],
   "source": [
    "arr = []\n",
    "for value in nv:\n",
    "    gaf = GramianAngularField(method='summation')\n",
    "    X_gaf = gaf.fit_transform(value.T)\n",
    "    arr.append(X_gaf.T)\n",
    "\n",
    "    \n",
    "normal_X = np.array(arr)\n",
    "print(normal_X.shape)"
   ]
  },
  {
   "cell_type": "markdown",
   "id": "6a79cddb",
   "metadata": {},
   "source": [
    "# 데이터 이미지화(비정상)"
   ]
  },
  {
   "cell_type": "code",
   "execution_count": 9,
   "id": "34f15362",
   "metadata": {},
   "outputs": [
    {
     "name": "stdout",
     "output_type": "stream",
     "text": [
      "14560 50 3\n"
     ]
    }
   ],
   "source": [
    "abnormal_value = abnormal_concat.values\n",
    "anv = np.vsplit(abnormal_value, 14560)\n",
    "a = len(anv)\n",
    "b = len(anv[0])\n",
    "c = len(anv[0][0])\n",
    "print(a,b,c)"
   ]
  },
  {
   "cell_type": "code",
   "execution_count": 10,
   "id": "3fdad882",
   "metadata": {},
   "outputs": [
    {
     "name": "stdout",
     "output_type": "stream",
     "text": [
      "(14560, 50, 50, 3)\n"
     ]
    }
   ],
   "source": [
    "arr = []\n",
    "for value in anv:\n",
    "    gaf = GramianAngularField(method='summation')\n",
    "    X_gaf = gaf.fit_transform(value.T)\n",
    "    arr.append(X_gaf.T)\n",
    "\n",
    "abnormal_X = np.array(arr)\n",
    "print(abnormal_X.shape)"
   ]
  },
  {
   "cell_type": "markdown",
   "id": "a3e19e5e",
   "metadata": {},
   "source": [
    "# 데이터 라벨링"
   ]
  },
  {
   "cell_type": "code",
   "execution_count": 11,
   "id": "dc2b67f8",
   "metadata": {},
   "outputs": [
    {
     "name": "stdout",
     "output_type": "stream",
     "text": [
      "(3880, 1)\n",
      "(14560, 1)\n",
      "(18440, 50, 50, 3)\n",
      "(18440, 1)\n"
     ]
    }
   ],
   "source": [
    "# 라벨링, 정상: 0, 비정상: 1\n",
    "normal_Y = np.zeros((normal_X.shape[0], 1))\n",
    "abnormal_Y = np.ones((abnormal_X.shape[0], 1))\n",
    "\n",
    "print(normal_Y.shape)\n",
    "print(abnormal_Y.shape)\n",
    "\n",
    "# X, Y 끼리 concatenate\n",
    "X = np.concatenate((normal_X,abnormal_X))\n",
    "Y = np.concatenate((normal_Y,abnormal_Y))\n",
    "print(X.shape)\n",
    "print(Y.shape)"
   ]
  },
  {
   "cell_type": "markdown",
   "id": "3b9bac41",
   "metadata": {},
   "source": [
    "# 훈련 세트 설정"
   ]
  },
  {
   "cell_type": "code",
   "execution_count": 96,
   "id": "7a01c4df",
   "metadata": {},
   "outputs": [
    {
     "name": "stdout",
     "output_type": "stream",
     "text": [
      "(12908, 50, 50, 3)\n",
      "(4425, 50, 50, 3)\n",
      "(1107, 50, 50, 3)\n",
      "(12908, 1)\n",
      "(4425, 1)\n",
      "(1107, 1)\n"
     ]
    }
   ],
   "source": [
    "from sklearn.model_selection import train_test_split\n",
    "x_train, x_test, y_train, y_test = train_test_split(X, Y, test_size=0.3, shuffle=True, stratify=Y, random_state=50)\n",
    "x_test, x_val, y_test, y_val = train_test_split(x_test, y_test, test_size=0.2, shuffle=True, stratify=y_test, random_state=50)\n",
    "\n",
    "print(x_train.shape)\n",
    "print(x_test.shape)\n",
    "print(x_val.shape)\n",
    "print(y_train.shape)\n",
    "print(y_test.shape)\n",
    "print(y_val.shape)"
   ]
  },
  {
   "cell_type": "markdown",
   "id": "1edc1826",
   "metadata": {},
   "source": [
    "# 정규화"
   ]
  },
  {
   "cell_type": "code",
   "execution_count": 97,
   "id": "a8c9d578",
   "metadata": {},
   "outputs": [
    {
     "name": "stdout",
     "output_type": "stream",
     "text": [
      "(12908, 50, 50, 3)\n",
      "(4425, 50, 50, 3)\n",
      "(1107, 50, 50, 3)\n"
     ]
    }
   ],
   "source": [
    "# 정규화\n",
    "x_train = (x_train - np.min(x_train)) / (np.max(x_train)- np.min(x_train))\n",
    "x_test = (x_test - np.min(x_test)) / (np.max(x_test)- np.min(x_test))\n",
    "x_val = (x_val - np.min(x_val)) / (np.max(x_val)- np.min(x_val))\n",
    "\n",
    "print(x_train.shape)\n",
    "print(x_test.shape)\n",
    "print(x_val.shape)"
   ]
  },
  {
   "cell_type": "markdown",
   "id": "afee4c5a",
   "metadata": {},
   "source": [
    "# 학습에 필요한 모듈 임포트"
   ]
  },
  {
   "cell_type": "code",
   "execution_count": 98,
   "id": "22ef4d62",
   "metadata": {},
   "outputs": [],
   "source": [
    "import tensorflow as tf\n",
    "plt.style.use('seaborn-white')\n",
    "from tensorflow.keras import Model\n",
    "from tensorflow.keras.models import Sequential\n",
    "from tensorflow.keras.utils import to_categorical\n",
    "from tensorflow.keras.layers import Dense, Flatten, Conv2D, MaxPool2D, Dropout, Input\n",
    "from tensorflow.keras.callbacks import EarlyStopping, ModelCheckpoint"
   ]
  },
  {
   "cell_type": "code",
   "execution_count": 99,
   "id": "a8fa8a9c",
   "metadata": {},
   "outputs": [],
   "source": [
    "os.environ['CUDA_VISIBLE_DEVICES'] = '0'"
   ]
  },
  {
   "cell_type": "markdown",
   "id": "d27fa2e1",
   "metadata": {},
   "source": [
    "# 모델구성"
   ]
  },
  {
   "cell_type": "code",
   "execution_count": 100,
   "id": "2d5c4a3b",
   "metadata": {},
   "outputs": [],
   "source": [
    "model = Sequential() \n",
    "model.add(Conv2D(32, (3,3), input_shape=(50,50,3), activation='relu', padding='same'))        \n",
    "model.add(Conv2D(64, (3,3), activation='relu', padding='same'))\n",
    "model.add(MaxPool2D(pool_size=(2,2)))\n",
    "model.add(Dropout(0.5))\n",
    "model.add(Flatten())\n",
    "model.add(Dense(256, activation='relu'))\n",
    "model.add(Dropout(0.5))\n",
    "model.add(Dense(1, activation='sigmoid'))\n",
    "\n",
    "model.compile(loss='binary_crossentropy', optimizer='adam', metrics=['accuracy'])\n",
    "early_stopping = EarlyStopping(monitor='loss', mode='min', patience=20)\n",
    "mc = ModelCheckpoint('best_model.h5', monitor='val_loss', mode='min', save_best_only=True)\n"
   ]
  },
  {
   "cell_type": "markdown",
   "id": "ac5c7955",
   "metadata": {},
   "source": [
    "# 모델 학습"
   ]
  },
  {
   "cell_type": "code",
   "execution_count": 101,
   "id": "17e456f3",
   "metadata": {},
   "outputs": [
    {
     "name": "stdout",
     "output_type": "stream",
     "text": [
      "Epoch 1/1000\n",
      "404/404 [==============================] - 2s 4ms/step - loss: 0.4316 - accuracy: 0.8406 - val_loss: 0.3082 - val_accuracy: 0.8970\n",
      "Epoch 2/1000\n",
      "404/404 [==============================] - 2s 4ms/step - loss: 0.3025 - accuracy: 0.8970 - val_loss: 0.2499 - val_accuracy: 0.9033\n",
      "Epoch 3/1000\n",
      "404/404 [==============================] - 2s 4ms/step - loss: 0.2691 - accuracy: 0.9014 - val_loss: 0.2240 - val_accuracy: 0.9115\n",
      "Epoch 4/1000\n",
      "404/404 [==============================] - 2s 4ms/step - loss: 0.2551 - accuracy: 0.9056 - val_loss: 0.2070 - val_accuracy: 0.9268\n",
      "Epoch 5/1000\n",
      "404/404 [==============================] - 2s 4ms/step - loss: 0.2337 - accuracy: 0.9109 - val_loss: 0.1841 - val_accuracy: 0.9268\n",
      "Epoch 6/1000\n",
      "404/404 [==============================] - 2s 4ms/step - loss: 0.2214 - accuracy: 0.9156 - val_loss: 0.2111 - val_accuracy: 0.9051\n",
      "Epoch 7/1000\n",
      "404/404 [==============================] - 2s 4ms/step - loss: 0.2043 - accuracy: 0.9194 - val_loss: 0.1739 - val_accuracy: 0.9313\n",
      "Epoch 8/1000\n",
      "404/404 [==============================] - 2s 4ms/step - loss: 0.1951 - accuracy: 0.9245 - val_loss: 0.1763 - val_accuracy: 0.9377\n",
      "Epoch 9/1000\n",
      "404/404 [==============================] - 2s 4ms/step - loss: 0.1825 - accuracy: 0.9293 - val_loss: 0.1357 - val_accuracy: 0.9431\n",
      "Epoch 10/1000\n",
      "404/404 [==============================] - 2s 4ms/step - loss: 0.1703 - accuracy: 0.9332 - val_loss: 0.1440 - val_accuracy: 0.9458\n",
      "Epoch 11/1000\n",
      "404/404 [==============================] - 2s 4ms/step - loss: 0.1634 - accuracy: 0.9350 - val_loss: 0.1243 - val_accuracy: 0.9512\n",
      "Epoch 12/1000\n",
      "404/404 [==============================] - 2s 4ms/step - loss: 0.1596 - accuracy: 0.9377 - val_loss: 0.1250 - val_accuracy: 0.9476\n",
      "Epoch 13/1000\n",
      "404/404 [==============================] - 2s 4ms/step - loss: 0.1510 - accuracy: 0.9416 - val_loss: 0.1287 - val_accuracy: 0.9485\n",
      "Epoch 14/1000\n",
      "404/404 [==============================] - 2s 4ms/step - loss: 0.1424 - accuracy: 0.9450 - val_loss: 0.1163 - val_accuracy: 0.9485\n",
      "Epoch 15/1000\n",
      "404/404 [==============================] - 2s 4ms/step - loss: 0.1365 - accuracy: 0.9464 - val_loss: 0.1127 - val_accuracy: 0.9548\n",
      "Epoch 16/1000\n",
      "404/404 [==============================] - 2s 4ms/step - loss: 0.1320 - accuracy: 0.9486 - val_loss: 0.1446 - val_accuracy: 0.9440\n",
      "Epoch 17/1000\n",
      "404/404 [==============================] - 2s 4ms/step - loss: 0.1231 - accuracy: 0.9513 - val_loss: 0.1256 - val_accuracy: 0.9467\n",
      "Epoch 18/1000\n",
      "404/404 [==============================] - 2s 4ms/step - loss: 0.1201 - accuracy: 0.9531 - val_loss: 0.1082 - val_accuracy: 0.9512\n",
      "Epoch 19/1000\n",
      "404/404 [==============================] - 2s 4ms/step - loss: 0.1230 - accuracy: 0.9517 - val_loss: 0.0988 - val_accuracy: 0.9593\n",
      "Epoch 20/1000\n",
      "404/404 [==============================] - 2s 4ms/step - loss: 0.1143 - accuracy: 0.9556 - val_loss: 0.0909 - val_accuracy: 0.9693\n",
      "Epoch 21/1000\n",
      "404/404 [==============================] - 2s 4ms/step - loss: 0.1091 - accuracy: 0.9565 - val_loss: 0.0937 - val_accuracy: 0.9630\n",
      "Epoch 22/1000\n",
      "404/404 [==============================] - 2s 4ms/step - loss: 0.1004 - accuracy: 0.9604 - val_loss: 0.0865 - val_accuracy: 0.9657\n",
      "Epoch 23/1000\n",
      "404/404 [==============================] - 2s 4ms/step - loss: 0.0985 - accuracy: 0.9613 - val_loss: 0.1068 - val_accuracy: 0.9603\n",
      "Epoch 24/1000\n",
      "404/404 [==============================] - 2s 4ms/step - loss: 0.1046 - accuracy: 0.9598 - val_loss: 0.0789 - val_accuracy: 0.9657\n",
      "Epoch 25/1000\n",
      "404/404 [==============================] - 2s 4ms/step - loss: 0.0943 - accuracy: 0.9629 - val_loss: 0.0682 - val_accuracy: 0.9720\n",
      "Epoch 26/1000\n",
      "404/404 [==============================] - 2s 4ms/step - loss: 0.0942 - accuracy: 0.9620 - val_loss: 0.0830 - val_accuracy: 0.9630\n",
      "Epoch 27/1000\n",
      "404/404 [==============================] - 2s 4ms/step - loss: 0.0885 - accuracy: 0.9659 - val_loss: 0.1327 - val_accuracy: 0.9449\n",
      "Epoch 28/1000\n",
      "404/404 [==============================] - 2s 4ms/step - loss: 0.0890 - accuracy: 0.9649 - val_loss: 0.0894 - val_accuracy: 0.9566\n",
      "Epoch 29/1000\n",
      "404/404 [==============================] - 2s 4ms/step - loss: 0.0881 - accuracy: 0.9670 - val_loss: 0.0740 - val_accuracy: 0.9648\n",
      "Epoch 30/1000\n",
      "404/404 [==============================] - 2s 4ms/step - loss: 0.0907 - accuracy: 0.9654 - val_loss: 0.0750 - val_accuracy: 0.9675\n",
      "Epoch 31/1000\n",
      "404/404 [==============================] - 2s 4ms/step - loss: 0.0848 - accuracy: 0.9676 - val_loss: 0.0824 - val_accuracy: 0.9657\n",
      "Epoch 32/1000\n",
      "404/404 [==============================] - 2s 4ms/step - loss: 0.0803 - accuracy: 0.9702 - val_loss: 0.0775 - val_accuracy: 0.9666\n",
      "Epoch 33/1000\n",
      "404/404 [==============================] - 2s 4ms/step - loss: 0.0850 - accuracy: 0.9670 - val_loss: 0.0732 - val_accuracy: 0.9738\n",
      "Epoch 34/1000\n",
      "404/404 [==============================] - 2s 4ms/step - loss: 0.0723 - accuracy: 0.9731 - val_loss: 0.0969 - val_accuracy: 0.9566\n",
      "Epoch 35/1000\n",
      "404/404 [==============================] - 2s 4ms/step - loss: 0.0829 - accuracy: 0.9696 - val_loss: 0.0786 - val_accuracy: 0.9666\n",
      "Epoch 36/1000\n",
      "404/404 [==============================] - 2s 4ms/step - loss: 0.0757 - accuracy: 0.9717 - val_loss: 0.0721 - val_accuracy: 0.9738\n",
      "Epoch 37/1000\n",
      "404/404 [==============================] - 2s 4ms/step - loss: 0.0757 - accuracy: 0.9721 - val_loss: 0.0610 - val_accuracy: 0.9738\n",
      "Epoch 38/1000\n",
      "404/404 [==============================] - 2s 4ms/step - loss: 0.0744 - accuracy: 0.9719 - val_loss: 0.0765 - val_accuracy: 0.9702\n",
      "Epoch 39/1000\n",
      "404/404 [==============================] - 2s 4ms/step - loss: 0.0739 - accuracy: 0.9733 - val_loss: 0.0818 - val_accuracy: 0.9729\n",
      "Epoch 40/1000\n",
      "404/404 [==============================] - 2s 4ms/step - loss: 0.0695 - accuracy: 0.9740 - val_loss: 0.0670 - val_accuracy: 0.9729\n",
      "Epoch 41/1000\n",
      "404/404 [==============================] - 2s 4ms/step - loss: 0.0668 - accuracy: 0.9748 - val_loss: 0.0654 - val_accuracy: 0.9738\n",
      "Epoch 42/1000\n",
      "404/404 [==============================] - 2s 4ms/step - loss: 0.0694 - accuracy: 0.9748 - val_loss: 0.0653 - val_accuracy: 0.9738\n",
      "Epoch 43/1000\n",
      "404/404 [==============================] - 2s 4ms/step - loss: 0.0692 - accuracy: 0.9728 - val_loss: 0.0688 - val_accuracy: 0.9774\n",
      "Epoch 44/1000\n",
      "404/404 [==============================] - 2s 4ms/step - loss: 0.0642 - accuracy: 0.9761 - val_loss: 0.0505 - val_accuracy: 0.9801\n",
      "Epoch 45/1000\n",
      "404/404 [==============================] - 2s 4ms/step - loss: 0.0608 - accuracy: 0.9778 - val_loss: 0.0679 - val_accuracy: 0.9747\n",
      "Epoch 46/1000\n",
      "404/404 [==============================] - 2s 4ms/step - loss: 0.0696 - accuracy: 0.9725 - val_loss: 0.0665 - val_accuracy: 0.9738\n",
      "Epoch 47/1000\n",
      "404/404 [==============================] - 2s 4ms/step - loss: 0.0671 - accuracy: 0.9761 - val_loss: 0.0684 - val_accuracy: 0.9756\n",
      "Epoch 48/1000\n",
      "404/404 [==============================] - 2s 4ms/step - loss: 0.0604 - accuracy: 0.9778 - val_loss: 0.0508 - val_accuracy: 0.9783\n",
      "Epoch 49/1000\n",
      "404/404 [==============================] - 2s 4ms/step - loss: 0.0651 - accuracy: 0.9752 - val_loss: 0.0576 - val_accuracy: 0.9729\n",
      "Epoch 50/1000\n",
      "404/404 [==============================] - 2s 4ms/step - loss: 0.0548 - accuracy: 0.9795 - val_loss: 0.0600 - val_accuracy: 0.9801\n",
      "Epoch 51/1000\n",
      "404/404 [==============================] - 2s 4ms/step - loss: 0.0679 - accuracy: 0.9768 - val_loss: 0.0681 - val_accuracy: 0.9729\n",
      "Epoch 52/1000\n",
      "404/404 [==============================] - 2s 4ms/step - loss: 0.0614 - accuracy: 0.9774 - val_loss: 0.0582 - val_accuracy: 0.9756\n",
      "Epoch 53/1000\n",
      "404/404 [==============================] - 2s 4ms/step - loss: 0.0626 - accuracy: 0.9742 - val_loss: 0.0553 - val_accuracy: 0.9774\n",
      "Epoch 54/1000\n",
      "404/404 [==============================] - 2s 4ms/step - loss: 0.0518 - accuracy: 0.9813 - val_loss: 0.0519 - val_accuracy: 0.9774\n",
      "Epoch 55/1000\n",
      "404/404 [==============================] - 2s 4ms/step - loss: 0.0579 - accuracy: 0.9773 - val_loss: 0.0536 - val_accuracy: 0.9792\n",
      "Epoch 56/1000\n",
      "404/404 [==============================] - 2s 4ms/step - loss: 0.0591 - accuracy: 0.9794 - val_loss: 0.0586 - val_accuracy: 0.9738\n",
      "Epoch 57/1000\n"
     ]
    },
    {
     "name": "stdout",
     "output_type": "stream",
     "text": [
      "404/404 [==============================] - 2s 4ms/step - loss: 0.0557 - accuracy: 0.9787 - val_loss: 0.0586 - val_accuracy: 0.9747\n",
      "Epoch 58/1000\n",
      "404/404 [==============================] - 2s 4ms/step - loss: 0.0596 - accuracy: 0.9782 - val_loss: 0.0623 - val_accuracy: 0.9783\n",
      "Epoch 59/1000\n",
      "404/404 [==============================] - 2s 4ms/step - loss: 0.0521 - accuracy: 0.9792 - val_loss: 0.0539 - val_accuracy: 0.9792\n",
      "Epoch 60/1000\n",
      "404/404 [==============================] - 2s 4ms/step - loss: 0.0527 - accuracy: 0.9801 - val_loss: 0.0746 - val_accuracy: 0.9702\n",
      "Epoch 61/1000\n",
      "404/404 [==============================] - 2s 4ms/step - loss: 0.0519 - accuracy: 0.9811 - val_loss: 0.0523 - val_accuracy: 0.9747\n",
      "Epoch 62/1000\n",
      "404/404 [==============================] - 2s 4ms/step - loss: 0.0530 - accuracy: 0.9817 - val_loss: 0.0576 - val_accuracy: 0.9765\n",
      "Epoch 63/1000\n",
      "404/404 [==============================] - 2s 4ms/step - loss: 0.0532 - accuracy: 0.9806 - val_loss: 0.0630 - val_accuracy: 0.9747\n",
      "Epoch 64/1000\n",
      "404/404 [==============================] - 2s 4ms/step - loss: 0.0524 - accuracy: 0.9795 - val_loss: 0.0491 - val_accuracy: 0.9756\n",
      "Epoch 65/1000\n",
      "404/404 [==============================] - 2s 4ms/step - loss: 0.0513 - accuracy: 0.9802 - val_loss: 0.0589 - val_accuracy: 0.9747\n",
      "Epoch 66/1000\n",
      "404/404 [==============================] - 2s 4ms/step - loss: 0.0524 - accuracy: 0.9813 - val_loss: 0.0528 - val_accuracy: 0.9783\n",
      "Epoch 67/1000\n",
      "404/404 [==============================] - 2s 4ms/step - loss: 0.0540 - accuracy: 0.9794 - val_loss: 0.0484 - val_accuracy: 0.9783\n",
      "Epoch 68/1000\n",
      "404/404 [==============================] - 2s 4ms/step - loss: 0.0506 - accuracy: 0.9822 - val_loss: 0.0688 - val_accuracy: 0.9738\n",
      "Epoch 69/1000\n",
      "404/404 [==============================] - 2s 4ms/step - loss: 0.0477 - accuracy: 0.9822 - val_loss: 0.0554 - val_accuracy: 0.9783\n",
      "Epoch 70/1000\n",
      "404/404 [==============================] - 2s 4ms/step - loss: 0.0467 - accuracy: 0.9836 - val_loss: 0.0518 - val_accuracy: 0.9801\n",
      "Epoch 71/1000\n",
      "404/404 [==============================] - 2s 4ms/step - loss: 0.0481 - accuracy: 0.9817 - val_loss: 0.0371 - val_accuracy: 0.9846\n",
      "Epoch 72/1000\n",
      "404/404 [==============================] - 2s 4ms/step - loss: 0.0520 - accuracy: 0.9819 - val_loss: 0.0474 - val_accuracy: 0.9810\n",
      "Epoch 73/1000\n",
      "404/404 [==============================] - 2s 4ms/step - loss: 0.0484 - accuracy: 0.9827 - val_loss: 0.0492 - val_accuracy: 0.9810\n",
      "Epoch 74/1000\n",
      "404/404 [==============================] - 2s 4ms/step - loss: 0.0550 - accuracy: 0.9795 - val_loss: 0.0535 - val_accuracy: 0.9801\n",
      "Epoch 75/1000\n",
      "404/404 [==============================] - 2s 4ms/step - loss: 0.0464 - accuracy: 0.9823 - val_loss: 0.0466 - val_accuracy: 0.9792\n",
      "Epoch 76/1000\n",
      "404/404 [==============================] - 2s 4ms/step - loss: 0.0406 - accuracy: 0.9845 - val_loss: 0.0586 - val_accuracy: 0.9756\n",
      "Epoch 77/1000\n",
      "404/404 [==============================] - 2s 4ms/step - loss: 0.0414 - accuracy: 0.9846 - val_loss: 0.0564 - val_accuracy: 0.9783\n",
      "Epoch 78/1000\n",
      "404/404 [==============================] - 2s 4ms/step - loss: 0.0550 - accuracy: 0.9808 - val_loss: 0.0742 - val_accuracy: 0.9756\n",
      "Epoch 79/1000\n",
      "404/404 [==============================] - 2s 4ms/step - loss: 0.0437 - accuracy: 0.9849 - val_loss: 0.0472 - val_accuracy: 0.9846\n",
      "Epoch 80/1000\n",
      "404/404 [==============================] - 2s 4ms/step - loss: 0.0431 - accuracy: 0.9847 - val_loss: 0.0527 - val_accuracy: 0.9810\n",
      "Epoch 81/1000\n",
      "404/404 [==============================] - 2s 4ms/step - loss: 0.0468 - accuracy: 0.9845 - val_loss: 0.0461 - val_accuracy: 0.9792\n",
      "Epoch 82/1000\n",
      "404/404 [==============================] - 2s 4ms/step - loss: 0.0393 - accuracy: 0.9860 - val_loss: 0.0595 - val_accuracy: 0.9747\n",
      "Epoch 83/1000\n",
      "404/404 [==============================] - 2s 4ms/step - loss: 0.0445 - accuracy: 0.9832 - val_loss: 0.0558 - val_accuracy: 0.9774\n",
      "Epoch 84/1000\n",
      "404/404 [==============================] - 2s 4ms/step - loss: 0.0391 - accuracy: 0.9857 - val_loss: 0.0413 - val_accuracy: 0.9846\n",
      "Epoch 85/1000\n",
      "404/404 [==============================] - 2s 4ms/step - loss: 0.0460 - accuracy: 0.9825 - val_loss: 0.0495 - val_accuracy: 0.9819\n",
      "Epoch 86/1000\n",
      "404/404 [==============================] - 2s 4ms/step - loss: 0.0433 - accuracy: 0.9840 - val_loss: 0.0460 - val_accuracy: 0.9828\n",
      "Epoch 87/1000\n",
      "404/404 [==============================] - 2s 4ms/step - loss: 0.0414 - accuracy: 0.9860 - val_loss: 0.0491 - val_accuracy: 0.9810\n",
      "Epoch 88/1000\n",
      "404/404 [==============================] - 2s 4ms/step - loss: 0.0359 - accuracy: 0.9877 - val_loss: 0.0522 - val_accuracy: 0.9756\n",
      "Epoch 89/1000\n",
      "404/404 [==============================] - 2s 4ms/step - loss: 0.0466 - accuracy: 0.9837 - val_loss: 0.0435 - val_accuracy: 0.9756\n",
      "Epoch 90/1000\n",
      "404/404 [==============================] - 2s 4ms/step - loss: 0.0388 - accuracy: 0.9866 - val_loss: 0.0472 - val_accuracy: 0.9819\n",
      "Epoch 91/1000\n",
      "404/404 [==============================] - 2s 4ms/step - loss: 0.0391 - accuracy: 0.9868 - val_loss: 0.0474 - val_accuracy: 0.9810\n",
      "Epoch 92/1000\n",
      "404/404 [==============================] - 2s 4ms/step - loss: 0.0493 - accuracy: 0.9805 - val_loss: 0.0495 - val_accuracy: 0.9828\n",
      "Epoch 93/1000\n",
      "404/404 [==============================] - 2s 4ms/step - loss: 0.0341 - accuracy: 0.9875 - val_loss: 0.0453 - val_accuracy: 0.9819\n",
      "Epoch 94/1000\n",
      "404/404 [==============================] - 2s 4ms/step - loss: 0.0382 - accuracy: 0.9854 - val_loss: 0.0592 - val_accuracy: 0.9774\n",
      "Epoch 95/1000\n",
      "404/404 [==============================] - 2s 4ms/step - loss: 0.0437 - accuracy: 0.9839 - val_loss: 0.0528 - val_accuracy: 0.9783\n",
      "Epoch 96/1000\n",
      "404/404 [==============================] - 2s 4ms/step - loss: 0.0454 - accuracy: 0.9831 - val_loss: 0.0448 - val_accuracy: 0.9801\n",
      "Epoch 97/1000\n",
      "404/404 [==============================] - 2s 4ms/step - loss: 0.0384 - accuracy: 0.9861 - val_loss: 0.0540 - val_accuracy: 0.9828\n",
      "Epoch 98/1000\n",
      "404/404 [==============================] - 2s 4ms/step - loss: 0.0350 - accuracy: 0.9873 - val_loss: 0.0411 - val_accuracy: 0.9855\n",
      "Epoch 99/1000\n",
      "404/404 [==============================] - 2s 4ms/step - loss: 0.0335 - accuracy: 0.9889 - val_loss: 0.0528 - val_accuracy: 0.9792\n",
      "Epoch 100/1000\n",
      "404/404 [==============================] - 2s 4ms/step - loss: 0.0391 - accuracy: 0.9869 - val_loss: 0.0995 - val_accuracy: 0.9666\n",
      "Epoch 101/1000\n",
      "404/404 [==============================] - 2s 4ms/step - loss: 0.0367 - accuracy: 0.9872 - val_loss: 0.0433 - val_accuracy: 0.9846\n",
      "Epoch 102/1000\n",
      "404/404 [==============================] - 2s 4ms/step - loss: 0.0435 - accuracy: 0.9840 - val_loss: 0.0456 - val_accuracy: 0.9819\n",
      "Epoch 103/1000\n",
      "404/404 [==============================] - 2s 4ms/step - loss: 0.0391 - accuracy: 0.9861 - val_loss: 0.0445 - val_accuracy: 0.9855\n",
      "Epoch 104/1000\n",
      "404/404 [==============================] - 2s 4ms/step - loss: 0.0400 - accuracy: 0.9881 - val_loss: 0.0741 - val_accuracy: 0.9783\n",
      "Epoch 105/1000\n",
      "404/404 [==============================] - 2s 4ms/step - loss: 0.0310 - accuracy: 0.9892 - val_loss: 0.0523 - val_accuracy: 0.9801\n",
      "Epoch 106/1000\n",
      "404/404 [==============================] - 2s 4ms/step - loss: 0.0350 - accuracy: 0.9871 - val_loss: 0.0414 - val_accuracy: 0.9846\n",
      "Epoch 107/1000\n",
      "404/404 [==============================] - 2s 4ms/step - loss: 0.0350 - accuracy: 0.9881 - val_loss: 0.0401 - val_accuracy: 0.9828\n",
      "Epoch 108/1000\n",
      "404/404 [==============================] - 2s 4ms/step - loss: 0.0361 - accuracy: 0.9869 - val_loss: 0.0521 - val_accuracy: 0.9837\n",
      "Epoch 109/1000\n",
      "404/404 [==============================] - 2s 4ms/step - loss: 0.0372 - accuracy: 0.9880 - val_loss: 0.0499 - val_accuracy: 0.9819\n",
      "Epoch 110/1000\n",
      "404/404 [==============================] - 2s 4ms/step - loss: 0.0326 - accuracy: 0.9887 - val_loss: 0.0519 - val_accuracy: 0.9846\n",
      "Epoch 111/1000\n",
      "404/404 [==============================] - 2s 4ms/step - loss: 0.0346 - accuracy: 0.9878 - val_loss: 0.0548 - val_accuracy: 0.9792\n",
      "Epoch 112/1000\n",
      "404/404 [==============================] - 2s 4ms/step - loss: 0.0406 - accuracy: 0.9847 - val_loss: 0.0490 - val_accuracy: 0.9801\n",
      "Epoch 113/1000\n"
     ]
    },
    {
     "name": "stdout",
     "output_type": "stream",
     "text": [
      "404/404 [==============================] - 2s 4ms/step - loss: 0.0327 - accuracy: 0.9886 - val_loss: 0.0472 - val_accuracy: 0.9837\n",
      "Epoch 114/1000\n",
      "404/404 [==============================] - 2s 4ms/step - loss: 0.0257 - accuracy: 0.9916 - val_loss: 0.0399 - val_accuracy: 0.9810\n",
      "Epoch 115/1000\n",
      "404/404 [==============================] - 2s 4ms/step - loss: 0.0515 - accuracy: 0.9840 - val_loss: 0.0439 - val_accuracy: 0.9828\n",
      "Epoch 116/1000\n",
      "404/404 [==============================] - 2s 4ms/step - loss: 0.0374 - accuracy: 0.9871 - val_loss: 0.0367 - val_accuracy: 0.9855\n",
      "Epoch 117/1000\n",
      "404/404 [==============================] - 2s 4ms/step - loss: 0.0296 - accuracy: 0.9893 - val_loss: 0.0611 - val_accuracy: 0.9765\n",
      "Epoch 118/1000\n",
      "404/404 [==============================] - 2s 4ms/step - loss: 0.0326 - accuracy: 0.9882 - val_loss: 0.0416 - val_accuracy: 0.9846\n",
      "Epoch 119/1000\n",
      "404/404 [==============================] - 2s 4ms/step - loss: 0.0382 - accuracy: 0.9883 - val_loss: 0.0466 - val_accuracy: 0.9846\n",
      "Epoch 120/1000\n",
      "404/404 [==============================] - 2s 4ms/step - loss: 0.0254 - accuracy: 0.9918 - val_loss: 0.0515 - val_accuracy: 0.9810\n",
      "Epoch 121/1000\n",
      "404/404 [==============================] - 2s 4ms/step - loss: 0.0375 - accuracy: 0.9874 - val_loss: 0.0458 - val_accuracy: 0.9810\n",
      "Epoch 122/1000\n",
      "404/404 [==============================] - 2s 4ms/step - loss: 0.0304 - accuracy: 0.9890 - val_loss: 0.0411 - val_accuracy: 0.9846\n",
      "Epoch 123/1000\n",
      "404/404 [==============================] - 2s 4ms/step - loss: 0.0312 - accuracy: 0.9885 - val_loss: 0.0741 - val_accuracy: 0.9792\n",
      "Epoch 124/1000\n",
      "404/404 [==============================] - 2s 4ms/step - loss: 0.0350 - accuracy: 0.9881 - val_loss: 0.0567 - val_accuracy: 0.9801\n",
      "Epoch 125/1000\n",
      "404/404 [==============================] - 2s 4ms/step - loss: 0.0382 - accuracy: 0.9857 - val_loss: 0.0516 - val_accuracy: 0.9801\n",
      "Epoch 126/1000\n",
      "404/404 [==============================] - 2s 4ms/step - loss: 0.0367 - accuracy: 0.9874 - val_loss: 0.0385 - val_accuracy: 0.9819\n",
      "Epoch 127/1000\n",
      "404/404 [==============================] - 2s 4ms/step - loss: 0.0266 - accuracy: 0.9907 - val_loss: 0.0530 - val_accuracy: 0.9837\n",
      "Epoch 128/1000\n",
      "404/404 [==============================] - 2s 4ms/step - loss: 0.0302 - accuracy: 0.9878 - val_loss: 0.0440 - val_accuracy: 0.9846\n",
      "Epoch 129/1000\n",
      "404/404 [==============================] - 2s 4ms/step - loss: 0.0289 - accuracy: 0.9901 - val_loss: 0.0373 - val_accuracy: 0.9846\n",
      "Epoch 130/1000\n",
      "404/404 [==============================] - 2s 4ms/step - loss: 0.0406 - accuracy: 0.9863 - val_loss: 0.0488 - val_accuracy: 0.9828\n",
      "Epoch 131/1000\n",
      "404/404 [==============================] - 2s 4ms/step - loss: 0.0285 - accuracy: 0.9897 - val_loss: 0.0478 - val_accuracy: 0.9855\n",
      "Epoch 132/1000\n",
      "404/404 [==============================] - 2s 4ms/step - loss: 0.0250 - accuracy: 0.9920 - val_loss: 0.0427 - val_accuracy: 0.9874\n",
      "Epoch 133/1000\n",
      "404/404 [==============================] - 2s 4ms/step - loss: 0.0344 - accuracy: 0.9879 - val_loss: 0.0378 - val_accuracy: 0.9828\n",
      "Epoch 134/1000\n",
      "404/404 [==============================] - 2s 4ms/step - loss: 0.0380 - accuracy: 0.9878 - val_loss: 0.0455 - val_accuracy: 0.9837\n",
      "Epoch 135/1000\n",
      "404/404 [==============================] - 2s 4ms/step - loss: 0.0355 - accuracy: 0.9878 - val_loss: 0.0642 - val_accuracy: 0.9801\n",
      "Epoch 136/1000\n",
      "404/404 [==============================] - 2s 4ms/step - loss: 0.0310 - accuracy: 0.9880 - val_loss: 0.0413 - val_accuracy: 0.9837\n",
      "Epoch 137/1000\n",
      "404/404 [==============================] - 2s 4ms/step - loss: 0.0308 - accuracy: 0.9895 - val_loss: 0.0654 - val_accuracy: 0.9810\n",
      "Epoch 138/1000\n",
      "404/404 [==============================] - 2s 4ms/step - loss: 0.0307 - accuracy: 0.9885 - val_loss: 0.0397 - val_accuracy: 0.9846\n",
      "Epoch 139/1000\n",
      "404/404 [==============================] - 2s 4ms/step - loss: 0.0309 - accuracy: 0.9892 - val_loss: 0.0442 - val_accuracy: 0.9846\n",
      "Epoch 140/1000\n",
      "404/404 [==============================] - 2s 4ms/step - loss: 0.0302 - accuracy: 0.9897 - val_loss: 0.0486 - val_accuracy: 0.9828\n",
      "Epoch 141/1000\n",
      "404/404 [==============================] - 2s 4ms/step - loss: 0.0295 - accuracy: 0.9902 - val_loss: 0.0709 - val_accuracy: 0.9774\n",
      "Epoch 142/1000\n",
      "404/404 [==============================] - 2s 4ms/step - loss: 0.0317 - accuracy: 0.9891 - val_loss: 0.0386 - val_accuracy: 0.9846\n",
      "Epoch 143/1000\n",
      "404/404 [==============================] - 2s 4ms/step - loss: 0.0315 - accuracy: 0.9887 - val_loss: 0.0480 - val_accuracy: 0.9810\n",
      "Epoch 144/1000\n",
      "404/404 [==============================] - 2s 4ms/step - loss: 0.0256 - accuracy: 0.9914 - val_loss: 0.0459 - val_accuracy: 0.9846\n",
      "Epoch 145/1000\n",
      "404/404 [==============================] - 2s 4ms/step - loss: 0.0367 - accuracy: 0.9882 - val_loss: 0.0430 - val_accuracy: 0.9801\n",
      "Epoch 146/1000\n",
      "404/404 [==============================] - 2s 4ms/step - loss: 0.0246 - accuracy: 0.9918 - val_loss: 0.0452 - val_accuracy: 0.9810\n",
      "Epoch 147/1000\n",
      "404/404 [==============================] - 2s 4ms/step - loss: 0.0270 - accuracy: 0.9901 - val_loss: 0.0516 - val_accuracy: 0.9846\n",
      "Epoch 148/1000\n",
      "404/404 [==============================] - 2s 4ms/step - loss: 0.0266 - accuracy: 0.9899 - val_loss: 0.0465 - val_accuracy: 0.9837\n",
      "Epoch 149/1000\n",
      "404/404 [==============================] - 2s 4ms/step - loss: 0.0271 - accuracy: 0.9904 - val_loss: 0.0517 - val_accuracy: 0.9828\n",
      "Epoch 150/1000\n",
      "404/404 [==============================] - 2s 4ms/step - loss: 0.0264 - accuracy: 0.9907 - val_loss: 0.0400 - val_accuracy: 0.9828\n",
      "Epoch 151/1000\n",
      "404/404 [==============================] - 2s 4ms/step - loss: 0.0403 - accuracy: 0.9875 - val_loss: 0.0524 - val_accuracy: 0.9792\n",
      "Epoch 152/1000\n",
      "404/404 [==============================] - 2s 4ms/step - loss: 0.0240 - accuracy: 0.9916 - val_loss: 0.0740 - val_accuracy: 0.9810\n",
      "Epoch 153/1000\n",
      "404/404 [==============================] - 2s 4ms/step - loss: 0.0235 - accuracy: 0.9909 - val_loss: 0.0445 - val_accuracy: 0.9801\n",
      "Epoch 154/1000\n",
      "404/404 [==============================] - 2s 4ms/step - loss: 0.0264 - accuracy: 0.9905 - val_loss: 0.0384 - val_accuracy: 0.9883\n",
      "Epoch 155/1000\n",
      "404/404 [==============================] - 2s 4ms/step - loss: 0.0284 - accuracy: 0.9907 - val_loss: 0.0509 - val_accuracy: 0.9855\n",
      "Epoch 156/1000\n",
      "404/404 [==============================] - 2s 4ms/step - loss: 0.0287 - accuracy: 0.9909 - val_loss: 0.0435 - val_accuracy: 0.9819\n",
      "Epoch 157/1000\n",
      "404/404 [==============================] - 2s 4ms/step - loss: 0.0326 - accuracy: 0.9895 - val_loss: 0.0596 - val_accuracy: 0.9819\n",
      "Epoch 158/1000\n",
      "404/404 [==============================] - 2s 4ms/step - loss: 0.0346 - accuracy: 0.9883 - val_loss: 0.0505 - val_accuracy: 0.9810\n",
      "Epoch 159/1000\n",
      "404/404 [==============================] - 2s 4ms/step - loss: 0.0327 - accuracy: 0.9888 - val_loss: 0.0375 - val_accuracy: 0.9837\n",
      "Epoch 160/1000\n",
      "404/404 [==============================] - 2s 4ms/step - loss: 0.0286 - accuracy: 0.9904 - val_loss: 0.0418 - val_accuracy: 0.9874\n",
      "Epoch 161/1000\n",
      "404/404 [==============================] - 2s 4ms/step - loss: 0.0306 - accuracy: 0.9898 - val_loss: 0.0489 - val_accuracy: 0.9819\n",
      "Epoch 162/1000\n",
      "404/404 [==============================] - 2s 4ms/step - loss: 0.0282 - accuracy: 0.9898 - val_loss: 0.0403 - val_accuracy: 0.9846\n",
      "Epoch 163/1000\n",
      "404/404 [==============================] - 2s 4ms/step - loss: 0.0299 - accuracy: 0.9902 - val_loss: 0.0480 - val_accuracy: 0.9837\n",
      "Epoch 164/1000\n",
      "404/404 [==============================] - 2s 4ms/step - loss: 0.0211 - accuracy: 0.9923 - val_loss: 0.0419 - val_accuracy: 0.9828\n",
      "Epoch 165/1000\n",
      "404/404 [==============================] - 2s 4ms/step - loss: 0.0270 - accuracy: 0.9919 - val_loss: 0.0482 - val_accuracy: 0.9837\n",
      "Epoch 166/1000\n",
      "404/404 [==============================] - 2s 4ms/step - loss: 0.0280 - accuracy: 0.9912 - val_loss: 0.0394 - val_accuracy: 0.9801\n",
      "Epoch 167/1000\n",
      "404/404 [==============================] - 2s 4ms/step - loss: 0.0239 - accuracy: 0.9912 - val_loss: 0.0541 - val_accuracy: 0.9819\n",
      "Epoch 168/1000\n",
      "404/404 [==============================] - 2s 4ms/step - loss: 0.0310 - accuracy: 0.9900 - val_loss: 0.0440 - val_accuracy: 0.9837\n",
      "Epoch 169/1000\n"
     ]
    },
    {
     "name": "stdout",
     "output_type": "stream",
     "text": [
      "404/404 [==============================] - 2s 4ms/step - loss: 0.0283 - accuracy: 0.9884 - val_loss: 0.0424 - val_accuracy: 0.9828\n",
      "Epoch 170/1000\n",
      "404/404 [==============================] - 2s 4ms/step - loss: 0.0249 - accuracy: 0.9919 - val_loss: 0.0444 - val_accuracy: 0.9810\n",
      "Epoch 171/1000\n",
      "404/404 [==============================] - 2s 4ms/step - loss: 0.0259 - accuracy: 0.9908 - val_loss: 0.0556 - val_accuracy: 0.9810\n",
      "Epoch 172/1000\n",
      "404/404 [==============================] - 2s 4ms/step - loss: 0.0260 - accuracy: 0.9906 - val_loss: 0.0712 - val_accuracy: 0.9738\n",
      "Epoch 173/1000\n",
      "404/404 [==============================] - 2s 4ms/step - loss: 0.0236 - accuracy: 0.9914 - val_loss: 0.0458 - val_accuracy: 0.9819\n",
      "Epoch 174/1000\n",
      "404/404 [==============================] - 2s 4ms/step - loss: 0.0257 - accuracy: 0.9910 - val_loss: 0.0850 - val_accuracy: 0.9702\n",
      "Epoch 175/1000\n",
      "404/404 [==============================] - 2s 4ms/step - loss: 0.0277 - accuracy: 0.9897 - val_loss: 0.0497 - val_accuracy: 0.9792\n",
      "Epoch 176/1000\n",
      "404/404 [==============================] - 2s 4ms/step - loss: 0.0259 - accuracy: 0.9915 - val_loss: 0.0366 - val_accuracy: 0.9874\n",
      "Epoch 177/1000\n",
      "404/404 [==============================] - 2s 4ms/step - loss: 0.0374 - accuracy: 0.9881 - val_loss: 0.0522 - val_accuracy: 0.9828\n",
      "Epoch 178/1000\n",
      "404/404 [==============================] - 2s 4ms/step - loss: 0.0287 - accuracy: 0.9916 - val_loss: 0.0526 - val_accuracy: 0.9801\n",
      "Epoch 179/1000\n",
      "404/404 [==============================] - 2s 4ms/step - loss: 0.0239 - accuracy: 0.9912 - val_loss: 0.0468 - val_accuracy: 0.9801\n",
      "Epoch 180/1000\n",
      "404/404 [==============================] - 2s 4ms/step - loss: 0.0221 - accuracy: 0.9936 - val_loss: 0.0492 - val_accuracy: 0.9819\n",
      "Epoch 181/1000\n",
      "404/404 [==============================] - 2s 4ms/step - loss: 0.0204 - accuracy: 0.9930 - val_loss: 0.0463 - val_accuracy: 0.9828\n",
      "Epoch 182/1000\n",
      "404/404 [==============================] - 2s 4ms/step - loss: 0.0272 - accuracy: 0.9895 - val_loss: 0.0388 - val_accuracy: 0.9846\n",
      "Epoch 183/1000\n",
      "404/404 [==============================] - 2s 4ms/step - loss: 0.0247 - accuracy: 0.9927 - val_loss: 0.0340 - val_accuracy: 0.9855\n",
      "Epoch 184/1000\n",
      "404/404 [==============================] - 2s 4ms/step - loss: 0.0328 - accuracy: 0.9899 - val_loss: 0.0588 - val_accuracy: 0.9810\n",
      "Epoch 185/1000\n",
      "404/404 [==============================] - 2s 4ms/step - loss: 0.0239 - accuracy: 0.9918 - val_loss: 0.0344 - val_accuracy: 0.9874\n",
      "Epoch 186/1000\n",
      "404/404 [==============================] - 2s 4ms/step - loss: 0.0205 - accuracy: 0.9930 - val_loss: 0.0397 - val_accuracy: 0.9810\n",
      "Epoch 187/1000\n",
      "404/404 [==============================] - 2s 4ms/step - loss: 0.0236 - accuracy: 0.9923 - val_loss: 0.0426 - val_accuracy: 0.9837\n",
      "Epoch 188/1000\n",
      "404/404 [==============================] - 2s 4ms/step - loss: 0.0316 - accuracy: 0.9919 - val_loss: 0.0804 - val_accuracy: 0.9801\n",
      "Epoch 189/1000\n",
      "404/404 [==============================] - 2s 4ms/step - loss: 0.0301 - accuracy: 0.9896 - val_loss: 0.0583 - val_accuracy: 0.9783\n",
      "Epoch 190/1000\n",
      "404/404 [==============================] - 2s 4ms/step - loss: 0.0278 - accuracy: 0.9900 - val_loss: 0.0455 - val_accuracy: 0.9801\n",
      "Epoch 191/1000\n",
      "404/404 [==============================] - 2s 4ms/step - loss: 0.0201 - accuracy: 0.9926 - val_loss: 0.0383 - val_accuracy: 0.9846\n",
      "Epoch 192/1000\n",
      "404/404 [==============================] - 2s 4ms/step - loss: 0.0257 - accuracy: 0.9908 - val_loss: 0.0323 - val_accuracy: 0.9855\n",
      "Epoch 193/1000\n",
      "404/404 [==============================] - 2s 4ms/step - loss: 0.0200 - accuracy: 0.9938 - val_loss: 0.0413 - val_accuracy: 0.9846\n",
      "Epoch 194/1000\n",
      "404/404 [==============================] - 2s 4ms/step - loss: 0.0324 - accuracy: 0.9892 - val_loss: 0.0486 - val_accuracy: 0.9819\n",
      "Epoch 195/1000\n",
      "404/404 [==============================] - 2s 4ms/step - loss: 0.0293 - accuracy: 0.9899 - val_loss: 0.0352 - val_accuracy: 0.9855\n",
      "Epoch 196/1000\n",
      "404/404 [==============================] - 2s 4ms/step - loss: 0.0208 - accuracy: 0.9931 - val_loss: 0.0353 - val_accuracy: 0.9855\n",
      "Epoch 197/1000\n",
      "404/404 [==============================] - 2s 4ms/step - loss: 0.0227 - accuracy: 0.9920 - val_loss: 0.0328 - val_accuracy: 0.9864\n",
      "Epoch 198/1000\n",
      "404/404 [==============================] - 2s 4ms/step - loss: 0.0218 - accuracy: 0.9919 - val_loss: 0.0572 - val_accuracy: 0.9837\n",
      "Epoch 199/1000\n",
      "404/404 [==============================] - 2s 4ms/step - loss: 0.0247 - accuracy: 0.9903 - val_loss: 0.0547 - val_accuracy: 0.9801\n",
      "Epoch 200/1000\n",
      "404/404 [==============================] - 2s 4ms/step - loss: 0.0261 - accuracy: 0.9918 - val_loss: 0.0437 - val_accuracy: 0.9846\n",
      "Epoch 201/1000\n",
      "404/404 [==============================] - 2s 4ms/step - loss: 0.0209 - accuracy: 0.9926 - val_loss: 0.0515 - val_accuracy: 0.9783\n",
      "Epoch 202/1000\n",
      "404/404 [==============================] - 2s 4ms/step - loss: 0.0239 - accuracy: 0.9912 - val_loss: 0.0488 - val_accuracy: 0.9801\n",
      "Epoch 203/1000\n",
      "404/404 [==============================] - 2s 4ms/step - loss: 0.0255 - accuracy: 0.9932 - val_loss: 0.0401 - val_accuracy: 0.9846\n",
      "Epoch 204/1000\n",
      "404/404 [==============================] - 2s 4ms/step - loss: 0.0254 - accuracy: 0.9903 - val_loss: 0.0635 - val_accuracy: 0.9819\n",
      "Epoch 205/1000\n",
      "404/404 [==============================] - 2s 4ms/step - loss: 0.0187 - accuracy: 0.9929 - val_loss: 0.0454 - val_accuracy: 0.9864\n",
      "Epoch 206/1000\n",
      "404/404 [==============================] - 2s 4ms/step - loss: 0.0241 - accuracy: 0.9912 - val_loss: 0.0347 - val_accuracy: 0.9874\n",
      "Epoch 207/1000\n",
      "404/404 [==============================] - 2s 4ms/step - loss: 0.0380 - accuracy: 0.9907 - val_loss: 0.0497 - val_accuracy: 0.9792\n",
      "Epoch 208/1000\n",
      "404/404 [==============================] - 2s 4ms/step - loss: 0.0245 - accuracy: 0.9921 - val_loss: 0.0548 - val_accuracy: 0.9837\n",
      "Epoch 209/1000\n",
      "404/404 [==============================] - 2s 4ms/step - loss: 0.0269 - accuracy: 0.9919 - val_loss: 0.0416 - val_accuracy: 0.9846\n",
      "Epoch 210/1000\n",
      "404/404 [==============================] - 2s 4ms/step - loss: 0.0205 - accuracy: 0.9922 - val_loss: 0.0416 - val_accuracy: 0.9855\n",
      "Epoch 211/1000\n",
      "404/404 [==============================] - 2s 4ms/step - loss: 0.0218 - accuracy: 0.9922 - val_loss: 0.0570 - val_accuracy: 0.9810\n",
      "Epoch 212/1000\n",
      "404/404 [==============================] - 2s 4ms/step - loss: 0.0215 - accuracy: 0.9926 - val_loss: 0.0465 - val_accuracy: 0.9810\n",
      "Epoch 213/1000\n",
      "404/404 [==============================] - 2s 4ms/step - loss: 0.0239 - accuracy: 0.9925 - val_loss: 0.0577 - val_accuracy: 0.9810\n",
      "Epoch 214/1000\n",
      "404/404 [==============================] - 2s 4ms/step - loss: 0.0215 - accuracy: 0.9924 - val_loss: 0.0455 - val_accuracy: 0.9819\n",
      "Epoch 215/1000\n",
      "404/404 [==============================] - 2s 4ms/step - loss: 0.0217 - accuracy: 0.9921 - val_loss: 0.0447 - val_accuracy: 0.9864\n",
      "Epoch 216/1000\n",
      "404/404 [==============================] - 2s 4ms/step - loss: 0.0306 - accuracy: 0.9902 - val_loss: 0.0636 - val_accuracy: 0.9828\n",
      "Epoch 217/1000\n",
      "404/404 [==============================] - 2s 4ms/step - loss: 0.0337 - accuracy: 0.9896 - val_loss: 0.0921 - val_accuracy: 0.9566\n",
      "Epoch 218/1000\n",
      "404/404 [==============================] - 2s 4ms/step - loss: 0.0254 - accuracy: 0.9918 - val_loss: 0.0476 - val_accuracy: 0.9810\n",
      "Epoch 219/1000\n",
      "404/404 [==============================] - 2s 4ms/step - loss: 0.0332 - accuracy: 0.9906 - val_loss: 0.0664 - val_accuracy: 0.9792\n",
      "Epoch 220/1000\n",
      "404/404 [==============================] - 2s 4ms/step - loss: 0.0215 - accuracy: 0.9924 - val_loss: 0.0378 - val_accuracy: 0.9819\n",
      "Epoch 221/1000\n",
      "404/404 [==============================] - 2s 4ms/step - loss: 0.0256 - accuracy: 0.9909 - val_loss: 0.0229 - val_accuracy: 0.9937\n",
      "Epoch 222/1000\n",
      "404/404 [==============================] - 2s 4ms/step - loss: 0.0198 - accuracy: 0.9930 - val_loss: 0.0489 - val_accuracy: 0.9837\n",
      "Epoch 223/1000\n",
      "404/404 [==============================] - 2s 4ms/step - loss: 0.0219 - accuracy: 0.9926 - val_loss: 0.0616 - val_accuracy: 0.9855\n",
      "Epoch 224/1000\n",
      "404/404 [==============================] - 2s 4ms/step - loss: 0.0203 - accuracy: 0.9940 - val_loss: 0.0547 - val_accuracy: 0.9810\n",
      "Epoch 225/1000\n"
     ]
    },
    {
     "name": "stdout",
     "output_type": "stream",
     "text": [
      "404/404 [==============================] - 2s 4ms/step - loss: 0.0264 - accuracy: 0.9914 - val_loss: 0.0485 - val_accuracy: 0.9810\n"
     ]
    }
   ],
   "source": [
    "history = model.fit(x_train, y_train, epochs=1000, validation_data=(x_val, y_val), batch_size = 32, callbacks=[early_stopping, mc])"
   ]
  },
  {
   "cell_type": "markdown",
   "id": "251d93c3",
   "metadata": {},
   "source": [
    "# 모델 평가"
   ]
  },
  {
   "cell_type": "code",
   "execution_count": 102,
   "id": "e681ac8c",
   "metadata": {},
   "outputs": [
    {
     "name": "stdout",
     "output_type": "stream",
     "text": [
      "139/139 - 0s - loss: 0.0650 - accuracy: 0.9803\n",
      "\n",
      "테스트 정확도: 0.980338990688324\n"
     ]
    }
   ],
   "source": [
    "(test_loss, test_acc) = model.evaluate(x_test,  y_test, verbose=2)\n",
    "print('\\n테스트 정확도:', test_acc)"
   ]
  },
  {
   "cell_type": "code",
   "execution_count": 133,
   "id": "ece61d56",
   "metadata": {},
   "outputs": [
    {
     "data": {
      "image/png": "[encoded data removed]",
      "text/plain": [
       "<Figure size 864x288 with 2 Axes>"
      ]
     },
     "metadata": {},
     "output_type": "display_data"
    }
   ],
   "source": [
    "history.history.keys()\n",
    "\n",
    "plt.figure(figsize=(12,4))\n",
    "plt.subplot(1,2,1)\n",
    "plt.plot(history.history['loss'], 'b--', label='loss')\n",
    "plt.plot(history.history['val_loss'], 'r', label='val_loss')\n",
    "plt.xlabel('Epochs')\n",
    "plt.grid()\n",
    "plt.legend()\n",
    "\n",
    "plt.subplot(1,2,2)\n",
    "plt.plot(history.history['accuracy'], 'b--', label='accuracy')\n",
    "plt.plot(history.history['val_accuracy'], 'r', label='val_accuracy')\n",
    "plt.xlabel('Epochs')\n",
    "plt.grid()\n",
    "plt.legend()\n",
    "plt.text(1,1,f'test accuarcy: {test_acc}',fontsize=20)\n",
    "\n",
    "\n",
    "plt.show()"
   ]
  },
  {
   "cell_type": "code",
   "execution_count": 104,
   "id": "b9060a3d",
   "metadata": {},
   "outputs": [
    {
     "data": {
      "image/png": "[encoded data removed]",
      "text/plain": [
       "<Figure size 1080x1080 with 10 Axes>"
      ]
     },
     "metadata": {},
     "output_type": "display_data"
    }
   ],
   "source": [
    "import random\n",
    "\n",
    "random_list = random.sample(range(y_test.size), 5)\n",
    "\n",
    "fig = plt.figure(figsize=(15, 15))\n",
    "grid = ImageGrid(fig, 111, nrows_ncols=(1,5), axes_pad=0.05, share_all=True, cbar_mode='single')\n",
    "y_predicted = (model.predict(x_test) > 0.5).astype(\"int32\")\n",
    "\n",
    "i = 0\n",
    "for ax, im in zip(grid, [x_test[random_list[0]], x_test[random_list[1]], x_test[random_list[2]], x_test[random_list[3]], x_test[random_list[4]]]):\n",
    "    ground_truth = 'anomaly' if y_test[random_list[i]][0] == 1.0 else 'normal'\n",
    "    predicted = 'anomaly' if y_predicted[random_list[i]][0] == 1.0 else 'normal'\n",
    "    color = 'g' if ground_truth == predicted else 'r'\n",
    "    ax.set_title(f\"Index : {random_list[i]}\\n\\n\", loc='center')\n",
    "    ax.set_title(f\"Ground_truth : {ground_truth}\\nPredicted : {predicted}\", loc='left', color=color)\n",
    "    im = ax.imshow(im, cmap='rainbow', origin='lower', vmin=-1., vmax=1.)\n",
    "    i = i+1\n",
    "    \n",
    "grid[0].get_yaxis().set_ticks([])\n",
    "grid[0].get_xaxis().set_ticks([])\n",
    "plt.colorbar(im, cax=grid.cbar_axes[0])\n",
    "ax.cax.toggle_label(True)\n",
    "\n",
    "plt.show()"
   ]
  },
  {
   "cell_type": "code",
   "execution_count": 105,
   "id": "552819ed",
   "metadata": {},
   "outputs": [
    {
     "name": "stdout",
     "output_type": "stream",
     "text": [
      "정답: 4338개\n",
      "오답: 87개\n",
      "정답률: 0.98%\n"
     ]
    }
   ],
   "source": [
    "yes = []\n",
    "no = []\n",
    "y_predicted = (model.predict(x_test) > 0.5).astype(\"int32\")\n",
    "for i in range(len(y_test)):\n",
    "    if y_test[i] == y_predicted[i]:\n",
    "        yes.append(i)\n",
    "    else:\n",
    "        no.append(i)\n",
    "\n",
    "print(f\"정답: {len(yes)}개\")\n",
    "print(f\"오답: {len(no)}개\")\n",
    "\n",
    "print(f\"정답률: {round((len(yes)/len(y_test)),2)}%\")\n",
    "           "
   ]
  },
  {
   "cell_type": "code",
   "execution_count": null,
   "id": "c66e88eb",
   "metadata": {},
   "outputs": [],
   "source": []
  }
 ],
 "metadata": {
  "kernelspec": {
   "display_name": "cnn-autoencoder",
   "language": "python",
   "name": "cnn-autoencoder"
  },
  "language_info": {
   "codemirror_mode": {
    "name": "ipython",
    "version": 3
   },
   "file_extension": ".py",
   "mimetype": "text/x-python",
   "name": "python",
   "nbconvert_exporter": "python",
   "pygments_lexer": "ipython3",
   "version": "3.9.7"
  }
 },
 "nbformat": 4,
 "nbformat_minor": 5
}
